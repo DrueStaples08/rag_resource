{
 "cells": [
  {
   "cell_type": "markdown",
   "metadata": {},
   "source": [
    "# Langchain's Chain and Retriever\n",
    "\n",
    "#### Agent-Based Approach vs Rag Chain-Based Approach\n",
    "\n",
    "Agent-Based Approach  -> use an openai agent when there are multiple tools to include as data sources e.x. wikipedia, arxiv, websites, pdfs, etc. \n",
    "from langchain.agents import create_openai_tools_agent\n",
    "agent = create_openai_tools_agent(llm=chat_ollama , tools=tools, prompt=premade_prompt)\n",
    "from langchain.agents import AgentExecutor\n",
    "agent_executor=AgentExecutor(agent=agent, tools=tools ,verbose=True)\n",
    "agent_executor.invoke({\"input\": \"Hi\"})\n",
    "\n",
    "and \n",
    "\n",
    "RAG Chain-Based Approach -> an openai agent isn't necessary when there is a single data source \n",
    "from langchain.chains.combine_documents import create_stuff_documents_chain\n",
    "docs_chain = create_stuff_documents_chain(llm=llm_model, prompt=prompt)\n",
    "retriever = db.as_retriever()\n",
    "from langchain.chains import create_retrieval_chain\n",
    "retrieval_chain = create_retrieval_chain(retriever, docs_chain)\n",
    "retrieval_chain.invoke({\"input\": \"For language generation tasks, we find that RAG models generate more specific, diverse and factual language than a state-of-the-art parametric-only seq2seq baseline.\"})\n"
   ]
  },
  {
   "cell_type": "code",
   "execution_count": 6,
   "metadata": {},
   "outputs": [],
   "source": [
    "# Data Ingestion (load data source)\n",
    "from langchain_community.document_loaders import PyPDFLoader, TextLoader, WebBaseLoader"
   ]
  },
  {
   "cell_type": "code",
   "execution_count": 11,
   "metadata": {},
   "outputs": [
    {
     "data": {
      "text/plain": [
       "<langchain_community.document_loaders.pdf.PyPDFLoader at 0x1125d90d0>"
      ]
     },
     "execution_count": 11,
     "metadata": {},
     "output_type": "execute_result"
    }
   ],
   "source": [
    "pdf_loader = PyPDFLoader(file_path=\"rag_research_paper.pdf\")\n",
    "pdf_loader"
   ]
  },
  {
   "cell_type": "code",
   "execution_count": 12,
   "metadata": {},
   "outputs": [
    {
     "data": {
      "text/plain": [
       "[Document(metadata={'source': 'rag_research_paper.pdf', 'page': 0}, page_content='Retrieval-Augmented Generation for\\nKnowledge-Intensive NLP Tasks\\nPatrick Lewis†‡, Ethan Perez⋆,\\nAleksandra Piktus†, Fabio Petroni†, Vladimir Karpukhin†, Naman Goyal†, Heinrich Küttler†,\\nMike Lewis†, Wen-tau Yih†, Tim Rocktäschel†‡, Sebastian Riedel†‡, Douwe Kiela†\\n†Facebook AI Research;‡University College London;⋆New York University;\\nplewis@fb.com\\nAbstract\\nLarge pre-trained language models have been shown to store factual knowledge\\nin their parameters, and achieve state-of-the-art results when ﬁne-tuned on down-\\nstream NLP tasks. However, their ability to access and precisely manipulate knowl-\\nedge is still limited, and hence on knowledge-intensive tasks, their performance\\nlags behind task-speciﬁc architectures. Additionally, providing provenance for their\\ndecisions and updating their world knowledge remain open research problems. Pre-\\ntrained models with a differentiable access mechanism to explicit non-parametric\\nmemory have so far been only investigated for extractive downstream tasks. We\\nexplore a general-purpose ﬁne-tuning recipe for retrieval-augmented generation\\n(RAG) — models which combine pre-trained parametric and non-parametric mem-\\nory for language generation. We introduce RAG models where the parametric\\nmemory is a pre-trained seq2seq model and the non-parametric memory is a dense\\nvector index of Wikipedia, accessed with a pre-trained neural retriever. We com-\\npare two RAG formulations, one which conditions on the same retrieved passages\\nacross the whole generated sequence, and another which can use different passages\\nper token. We ﬁne-tune and evaluate our models on a wide range of knowledge-\\nintensive NLP tasks and set the state of the art on three open domain QA tasks,\\noutperforming parametric seq2seq models and task-speciﬁc retrieve-and-extract\\narchitectures. For language generation tasks, we ﬁnd that RAG models generate\\nmore speciﬁc, diverse and factual language than a state-of-the-art parametric-only\\nseq2seq baseline.\\n1 Introduction\\nPre-trained neural language models have been shown to learn a substantial amount of in-depth knowl-\\nedge from data [ 47]. They can do so without any access to an external memory, as a parameterized\\nimplicit knowledge base [ 51,52]. While this development is exciting, such models do have down-\\nsides: They cannot easily expand or revise their memory, can’t straightforwardly provide insight into\\ntheir predictions, and may produce “hallucinations” [ 38]. Hybrid models that combine parametric\\nmemory with non-parametric (i.e., retrieval-based) memories [ 20,26,48] can address some of these\\nissues because knowledge can be directly revised and expanded, and accessed knowledge can be\\ninspected and interpreted. REALM [ 20] and ORQA [ 31], two recently introduced models that\\ncombine masked language models [ 8] with a differentiable retriever, have shown promising results,arXiv:2005.11401v4  [cs.CL]  12 Apr 2021'),\n",
       " Document(metadata={'source': 'rag_research_paper.pdf', 'page': 1}, page_content='The\\tDivine\\nComedy\\t(x) qQuery\\nEncoder\\nq(x)\\nMIPS p θGenerator \\xa0pθ\\n(Parametric)\\nMargin-\\nalize\\nThis\\t14th\\tcentury\\twork\\nis\\tdivided\\tinto\\t3\\nsections:\\t\"Inferno\",\\n\"Purgatorio\"\\t&\\n\"Paradiso\"\\t\\t\\t\\t\\t\\t\\t\\t\\t (y)End-to-End Backprop through q and\\xa0 p θ\\nBarack\\tObama\\twas\\nborn\\tin\\tHawaii. (x)\\nFact V eriﬁcation: Fact Querysupports \\t(y)\\nQuestion GenerationFact V eriﬁcation:\\nLabel GenerationDocument\\nIndexDefine\\t\"middle\\tear\" (x)\\nQuestion Answering:\\nQuestion QueryThe\\tmiddle\\tear\\tincludes\\nthe\\ttympanic\\tcavity\\tand\\nthe\\tthree\\tossicles.\\t\\t (y)\\nQuestion Answering:\\nAnswer GenerationRetriever pη\\n(Non-Parametric)\\nz 4\\nz3\\nz2\\nz 1d(z)\\nJeopardy Question\\nGeneration:\\nAnswer QueryFigure 1: Overview of our approach. We combine a pre-trained retriever ( Query Encoder +Document\\nIndex ) with a pre-trained seq2seq model ( Generator ) and ﬁne-tune end-to-end. For query x, we use\\nMaximum Inner Product Search (MIPS) to ﬁnd the top-K documents zi. For ﬁnal prediction y, we\\ntreatzas a latent variable and marginalize over seq2seq predictions given different documents.\\nbut have only explored open-domain extractive question answering. Here, we bring hybrid parametric\\nand non-parametric memory to the “workhorse of NLP,” i.e. sequence-to-sequence (seq2seq) models.\\nWe endow pre-trained, parametric-memory generation models with a non-parametric memory through\\na general-purpose ﬁne-tuning approach which we refer to as retrieval-augmented generation (RAG).\\nWe build RAG models where the parametric memory is a pre-trained seq2seq transformer, and the\\nnon-parametric memory is a dense vector index of Wikipedia, accessed with a pre-trained neural\\nretriever. We combine these components in a probabilistic model trained end-to-end (Fig. 1). The\\nretriever (Dense Passage Retriever [ 26], henceforth DPR) provides latent documents conditioned on\\nthe input, and the seq2seq model (BART [ 32]) then conditions on these latent documents together with\\nthe input to generate the output. We marginalize the latent documents with a top-K approximation,\\neither on a per-output basis (assuming the same document is responsible for all tokens) or a per-token\\nbasis (where different documents are responsible for different tokens). Like T5 [ 51] or BART, RAG\\ncan be ﬁne-tuned on any seq2seq task, whereby both the generator and retriever are jointly learned.\\nThere has been extensive previous work proposing architectures to enrich systems with non-parametric\\nmemory which are trained from scratch for speciﬁc tasks, e.g. memory networks [ 64,55], stack-\\naugmented networks [ 25] and memory layers [ 30]. In contrast, we explore a setting where both\\nparametric and non-parametric memory components are pre-trained and pre-loaded with extensive\\nknowledge. Crucially, by using pre-trained access mechanisms, the ability to access knowledge is\\npresent without additional training.\\nOur results highlight the beneﬁts of combining parametric and non-parametric memory with genera-\\ntion for knowledge-intensive tasks —tasks that humans could not reasonably be expected to perform\\nwithout access to an external knowledge source. Our RAG models achieve state-of-the-art results\\non open Natural Questions [ 29], WebQuestions [ 3] and CuratedTrec [ 2] and strongly outperform\\nrecent approaches that use specialised pre-training objectives on TriviaQA [ 24]. Despite these being\\nextractive tasks, we ﬁnd that unconstrained generation outperforms previous extractive approaches.\\nFor knowledge-intensive generation, we experiment with MS-MARCO [ 1] and Jeopardy question\\ngeneration, and we ﬁnd that our models generate responses that are more factual, speciﬁc, and\\ndiverse than a BART baseline. For FEVER [ 56] fact veriﬁcation, we achieve results within 4.3% of\\nstate-of-the-art pipeline models which use strong retrieval supervision. Finally, we demonstrate that\\nthe non-parametric memory can be replaced to update the models’ knowledge as the world changes.1\\n2 Methods\\nWe explore RAG models, which use the input sequence xto retrieve text documents zand use them\\nas additional context when generating the target sequence y. As shown in Figure 1, our models\\nleverage two components: (i) a retriever pη(z|x)with parameters ηthat returns (top-K truncated)\\ndistributions over text passages given a query xand (ii) a generator pθ(yi|x,z,y 1:i−1)parametrized\\n1Code to run experiments with RAG has been open-sourced as part of the HuggingFace Transform-\\ners Library [ 66] and can be found at https://github.com/huggingface/transformers/blob/master/\\nexamples/rag/ . An interactive demo of RAG models can be found at https://huggingface.co/rag/\\n2'),\n",
       " Document(metadata={'source': 'rag_research_paper.pdf', 'page': 2}, page_content='byθthat generates a current token based on a context of the previous i−1tokensy1:i−1, the original\\ninputxand a retrieved passage z.\\nTo train the retriever and generator end-to-end, we treat the retrieved document as a latent variable.\\nWe propose two models that marginalize over the latent documents in different ways to produce a\\ndistribution over generated text. In one approach, RAG-Sequence , the model uses the same document\\nto predict each target token. The second approach, RAG-Token , can predict each target token based\\non a different document. In the following, we formally introduce both models and then describe the\\npηandpθcomponents, as well as the training and decoding procedure.\\n2.1 Models\\nRAG-Sequence Model The RAG-Sequence model uses the same retrieved document to generate\\nthe complete sequence . Technically, it treats the retrieved document as a single latent variable that\\nis marginalized to get the seq2seq probability p(y|x)via a top-K approximation. Concretely, the\\ntop K documents are retrieved using the retriever, and the generator produces the output sequence\\nprobability for each document, which are then marginalized,\\npRAG-Sequence (y|x)≈∑\\nz∈top-k(p(·|x))pη(z|x)pθ(y|x,z) =∑\\nz∈top-k(p(·|x))pη(z|x)N∏\\nipθ(yi|x,z,y 1:i−1)\\nRAG-Token Model In the RAG-Token model we can draw a different latent document for each\\ntarget token and marginalize accordingly. This allows the generator to choose content from several\\ndocuments when producing an answer. Concretely, the top K documents are retrieved using the\\nretriever, and then the generator produces a distribution for the next output token for each document,\\nbefore marginalizing, and repeating the process with the following output token, Formally, we deﬁne:\\npRAG-Token (y|x)≈N∏\\ni∑\\nz∈top-k(p(·|x))pη(z|x)pθ(yi|x,z,y 1:i−1)\\nFinally, we note that RAG can be used for sequence classiﬁcation tasks by considering the target class\\nas a target sequence of length one, in which case RAG-Sequence and RAG-Token are equivalent.\\n2.2 Retriever: DPR\\nThe retrieval component pη(z|x)is based on DPR [26]. DPR follows a bi-encoder architecture:\\npη(z|x)∝exp(\\nd(z)⊤q(x))\\nd(z) =BERTd(z),q(x) =BERTq(x)\\nwhere d(z)is a dense representation of a document produced by a BERT BASE document encoder [8],\\nandq(x)a query representation produced by a query encoder , also based on BERT BASE. Calculating\\ntop-k (pη(·|x)), the list ofkdocumentszwith highest prior probability pη(z|x), is a Maximum Inner\\nProduct Search (MIPS) problem, which can be approximately solved in sub-linear time [ 23]. We use\\na pre-trained bi-encoder from DPR to initialize our retriever and to build the document index. This\\nretriever was trained to retrieve documents which contain answers to TriviaQA [ 24] questions and\\nNatural Questions [29]. We refer to the document index as the non-parametric memory .\\n2.3 Generator: BART\\nThe generator component pθ(yi|x,z,y 1:i−1)could be modelled using any encoder-decoder. We use\\nBART-large [ 32], a pre-trained seq2seq transformer [ 58] with 400M parameters. To combine the input\\nxwith the retrieved content zwhen generating from BART, we simply concatenate them. BART was\\npre-trained using a denoising objective and a variety of different noising functions. It has obtained\\nstate-of-the-art results on a diverse set of generation tasks and outperforms comparably-sized T5\\nmodels [32]. We refer to the BART generator parameters θas the parametric memory henceforth.\\n2.4 Training\\nWe jointly train the retriever and generator components without any direct supervision on what\\ndocument should be retrieved. Given a ﬁne-tuning training corpus of input/output pairs (xj,yj), we\\n3'),\n",
       " Document(metadata={'source': 'rag_research_paper.pdf', 'page': 3}, page_content='minimize the negative marginal log-likelihood of each target,∑\\nj−logp(yj|xj)using stochastic\\ngradient descent with Adam [ 28]. Updating the document encoder BERTdduring training is costly as\\nit requires the document index to be periodically updated as REALM does during pre-training [ 20].\\nWe do not ﬁnd this step necessary for strong performance, and keep the document encoder (and\\nindex) ﬁxed, only ﬁne-tuning the query encoder BERT qand the BART generator.\\n2.5 Decoding\\nAt test time, RAG-Sequence and RAG-Token require different ways to approximate arg maxyp(y|x).\\nRAG-Token The RAG-Token model can be seen as a standard, autoregressive seq2seq genera-\\ntor with transition probability: p′\\nθ(yi|x,y 1:i−1) =∑\\nz∈top-k(p(·|x))pη(zi|x)pθ(yi|x,zi,y1:i−1)To\\ndecode, we can plug p′\\nθ(yi|x,y 1:i−1)into a standard beam decoder.\\nRAG-Sequence For RAG-Sequence, the likelihood p(y|x)does not break into a conventional per-\\ntoken likelihood, hence we cannot solve it with a single beam search. Instead, we run beam search for\\neach document z, scoring each hypothesis using pθ(yi|x,z,y 1:i−1). This yields a set of hypotheses\\nY, some of which may not have appeared in the beams of all documents. To estimate the probability\\nof an hypothesis ywe run an additional forward pass for each document zfor whichydoes not\\nappear in the beam, multiply generator probability with pη(z|x)and then sum the probabilities across\\nbeams for the marginals. We refer to this decoding procedure as “Thorough Decoding.” For longer\\noutput sequences,|Y|can become large, requiring many forward passes. For more efﬁcient decoding,\\nwe can make a further approximation that pθ(y|x,zi)≈0whereywas not generated during beam\\nsearch from x,zi. This avoids the need to run additional forward passes once the candidate set Yhas\\nbeen generated. We refer to this decoding procedure as “Fast Decoding.”\\n3 Experiments\\nWe experiment with RAG in a wide range of knowledge-intensive tasks. For all experiments, we use\\na single Wikipedia dump for our non-parametric knowledge source. Following Lee et al. [31] and\\nKarpukhin et al. [26], we use the December 2018 dump. Each Wikipedia article is split into disjoint\\n100-word chunks, to make a total of 21M documents. We use the document encoder to compute an\\nembedding for each document, and build a single MIPS index using FAISS [ 23] with a Hierarchical\\nNavigable Small World approximation for fast retrieval [ 37]. During training, we retrieve the top\\nkdocuments for each query. We consider k∈{5,10}for training and set kfor test time using dev\\ndata. We now discuss experimental details for each task.\\n3.1 Open-domain Question Answering\\nOpen-domain question answering (QA) is an important real-world application and common testbed\\nfor knowledge-intensive tasks [ 20]. We treat questions and answers as input-output text pairs (x,y)\\nand train RAG by directly minimizing the negative log-likelihood of answers. We compare RAG to\\nthe popular extractive QA paradigm [ 5,7,31,26], where answers are extracted spans from retrieved\\ndocuments, relying primarily on non-parametric knowledge. We also compare to “Closed-Book\\nQA” approaches [ 52], which, like RAG, generate answers, but which do not exploit retrieval, instead\\nrelying purely on parametric knowledge. We consider four popular open-domain QA datasets: Natural\\nQuestions (NQ) [ 29], TriviaQA (TQA) [ 24]. WebQuestions (WQ) [ 3] and CuratedTrec (CT) [ 2]. As\\nCT and WQ are small, we follow DPR [ 26] by initializing CT and WQ models with our NQ RAG\\nmodel. We use the same train/dev/test splits as prior work [ 31,26] and report Exact Match (EM)\\nscores. For TQA, to compare with T5 [52], we also evaluate on the TQA Wiki test set.\\n3.2 Abstractive Question Answering\\nRAG models can go beyond simple extractive QA and answer questions with free-form, abstractive\\ntext generation. To test RAG’s natural language generation (NLG) in a knowledge-intensive setting,\\nwe use the MSMARCO NLG task v2.1 [ 43]. The task consists of questions, ten gold passages\\nretrieved from a search engine for each question, and a full sentence answer annotated from the\\nretrieved passages. We do not use the supplied passages, only the questions and answers, to treat\\n4'),\n",
       " Document(metadata={'source': 'rag_research_paper.pdf', 'page': 4}, page_content='MSMARCO as an open-domain abstractive QA task. MSMARCO has some questions that cannot be\\nanswered in a way that matches the reference answer without access to the gold passages, such as\\n“What is the weather in V olcano, CA?” so performance will be lower without using gold passages.\\nWe also note that some MSMARCO questions cannot be answered using Wikipedia alone. Here,\\nRAG can rely on parametric knowledge to generate reasonable responses.\\n3.3 Jeopardy Question Generation\\nTo evaluate RAG’s generation abilities in a non-QA setting, we study open-domain question gen-\\neration. Rather than use questions from standard open-domain QA tasks, which typically consist\\nof short, simple questions, we propose the more demanding task of generating Jeopardy questions.\\nJeopardy is an unusual format that consists of trying to guess an entity from a fact about that entity.\\nFor example, “The World Cup” is the answer to the question “In 1986 Mexico scored as the ﬁrst\\ncountry to host this international sports competition twice.” As Jeopardy questions are precise,\\nfactual statements, generating Jeopardy questions conditioned on their answer entities constitutes a\\nchallenging knowledge-intensive generation task.\\nWe use the splits from SearchQA [ 10], with 100K train, 14K dev, and 27K test examples. As\\nthis is a new task, we train a BART model for comparison. Following [ 67], we evaluate using the\\nSQuAD-tuned Q-BLEU-1 metric [ 42]. Q-BLEU is a variant of BLEU with a higher weight for\\nmatching entities and has higher correlation with human judgment for question generation than\\nstandard metrics. We also perform two human evaluations, one to assess generation factuality, and\\none for speciﬁcity. We deﬁne factuality as whether a statement can be corroborated by trusted external\\nsources, and speciﬁcity as high mutual dependence between the input and output [ 33]. We follow\\nbest practice and use pairwise comparative evaluation [ 34]. Evaluators are shown an answer and two\\ngenerated questions, one from BART and one from RAG. They are then asked to pick one of four\\noptions—quuestion A is better, question B is better, both are good, or neither is good.\\n3.4 Fact Veriﬁcation\\nFEVER [ 56] requires classifying whether a natural language claim is supported or refuted by\\nWikipedia, or whether there is not enough information to decide. The task requires retrieving\\nevidence from Wikipedia relating to the claim and then reasoning over this evidence to classify\\nwhether the claim is true, false, or unveriﬁable from Wikipedia alone. FEVER is a retrieval problem\\ncoupled with an challenging entailment reasoning task. It also provides an appropriate testbed for\\nexploring the RAG models’ ability to handle classiﬁcation rather than generation. We map FEVER\\nclass labels (supports, refutes, or not enough info) to single output tokens and directly train with\\nclaim-class pairs. Crucially, unlike most other approaches to FEVER, we do not use supervision on\\nretrieved evidence. In many real-world applications, retrieval supervision signals aren’t available, and\\nmodels that do not require such supervision will be applicable to a wider range of tasks. We explore\\ntwo variants: the standard 3-way classiﬁcation task (supports/refutes/not enough info) and the 2-way\\n(supports/refutes) task studied in Thorne and Vlachos [57]. In both cases we report label accuracy.\\n4 Results\\n4.1 Open-domain Question Answering\\nTable 1 shows results for RAG along with state-of-the-art models. On all four open-domain QA\\ntasks, RAG sets a new state of the art (only on the T5-comparable split for TQA). RAG combines\\nthe generation ﬂexibility of the “closed-book” (parametric only) approaches and the performance of\\n\"open-book\" retrieval-based approaches. Unlike REALM and T5+SSM, RAG enjoys strong results\\nwithout expensive, specialized “salient span masking” pre-training [ 20]. It is worth noting that RAG’s\\nretriever is initialized using DPR’s retriever, which uses retrieval supervision on Natural Questions\\nand TriviaQA. RAG compares favourably to the DPR QA system, which uses a BERT-based “cross-\\nencoder” to re-rank documents, along with an extractive reader. RAG demonstrates that neither a\\nre-ranker nor extractive reader is necessary for state-of-the-art performance.\\nThere are several advantages to generating answers even when it is possible to extract them. Docu-\\nments with clues about the answer but do not contain the answer verbatim can still contribute towards\\na correct answer being generated, which is not possible with standard extractive approaches, leading\\n5'),\n",
       " Document(metadata={'source': 'rag_research_paper.pdf', 'page': 5}, page_content='Table 1: Open-Domain QA Test Scores. For TQA,\\nleft column uses the standard test set for Open-\\nDomain QA, right column uses the TQA-Wiki\\ntest set. See Appendix D for further details.\\nModel NQ TQA WQ CT\\nClosed\\nBookT5-11B [52] 34.5 - /50.1 37.4 -\\nT5-11B+SSM[52] 36.6 - /60.5 44.7 -\\nOpen\\nBookREALM [20] 40.4 - / - 40.7 46.8\\nDPR [26] 41.5 57.9/ - 41.1 50.6\\nRAG-Token 44.1 55.2/66.1 45.5 50.0\\nRAG-Seq. 44.5 56.8/ 68.0 45.2 52.2Table 2: Generation and classiﬁcation Test Scores.\\nMS-MARCO SotA is [ 4], FEVER-3 is [ 68] and\\nFEVER-2 is [ 57] *Uses gold context/evidence.\\nBest model without gold access underlined.\\nModel Jeopardy MSMARCO FVR3 FVR2\\nB-1 QB-1 R-L B-1 Label Acc.\\nSotA - - 49.8*49.9*76.8 92.2 *\\nBART 15.1 19.7 38.2 41.6 64.0 81.1\\nRAG-Tok. 17.3 22.2 40.1 41.572.5 89.5RAG-Seq. 14.7 21.4 40.8 44.2\\nto more effective marginalization over documents. Furthermore, RAG can generate correct answers\\neven when the correct answer is not in any retrieved document, achieving 11.8% accuracy in such\\ncases for NQ, where an extractive model would score 0%.\\n4.2 Abstractive Question Answering\\nAs shown in Table 2, RAG-Sequence outperforms BART on Open MS-MARCO NLG by 2.6 Bleu\\npoints and 2.6 Rouge-L points. RAG approaches state-of-the-art model performance, which is\\nimpressive given that (i) those models access gold passages with speciﬁc information required to\\ngenerate the reference answer , (ii) many questions are unanswerable without the gold passages, and\\n(iii) not all questions are answerable from Wikipedia alone. Table 3 shows some generated answers\\nfrom our models. Qualitatively, we ﬁnd that RAG models hallucinate less and generate factually\\ncorrect text more often than BART. Later, we also show that RAG generations are more diverse than\\nBART generations (see §4.5).\\n4.3 Jeopardy Question Generation\\nTable 2 shows that RAG-Token performs better than RAG-Sequence on Jeopardy question generation,\\nwith both models outperforming BART on Q-BLEU-1. 4 shows human evaluation results, over 452\\npairs of generations from BART and RAG-Token. Evaluators indicated that BART was more factual\\nthan RAG in only 7.1% of cases, while RAG was more factual in 42.7% of cases, and both RAG and\\nBART were factual in a further 17% of cases, clearly demonstrating the effectiveness of RAG on\\nthe task over a state-of-the-art generation model. Evaluators also ﬁnd RAG generations to be more\\nspeciﬁc by a large margin. Table 3 shows typical generations from each model.\\nJeopardy questions often contain two separate pieces of information, and RAG-Token may perform\\nbest because it can generate responses that combine content from several documents. Figure 2 shows\\nan example. When generating “Sun”, the posterior is high for document 2 which mentions “The\\nSun Also Rises”. Similarly, document 1 dominates the posterior when “A Farewell to Arms” is\\ngenerated. Intriguingly, after the ﬁrst token of each book is generated, the document posterior ﬂattens.\\nThis observation suggests that the generator can complete the titles without depending on speciﬁc\\ndocuments. In other words, the model’s parametric knowledge is sufﬁcient to complete the titles. We\\nﬁnd evidence for this hypothesis by feeding the BART-only baseline with the partial decoding \"The\\nSun. BART completes the generation \"The SunAlso Rises\" isanovel bythis author of\"The Sun\\nAlso Rises\" indicating the title \"The Sun Also Rises\" is stored in BART’s parameters. Similarly,\\nBART will complete the partial decoding \"The SunAlso Rises\" isanovel bythis author of\"A\\nwith \"The SunAlso Rises\" isanovel bythis author of\"AFarewell toArms\" . This example shows\\nhow parametric and non-parametric memories work together —the non-parametric component helps\\nto guide the generation, drawing out speciﬁc knowledge stored in the parametric memory.\\n4.4 Fact Veriﬁcation\\nTable 2 shows our results on FEVER. For 3-way classiﬁcation, RAG scores are within 4.3% of\\nstate-of-the-art models, which are complex pipeline systems with domain-speciﬁc architectures and\\nsubstantial engineering, trained using intermediate retrieval supervision, which RAG does not require.\\n6'),\n",
       " Document(metadata={'source': 'rag_research_paper.pdf', 'page': 6}, page_content='Document 1 : his works are considered classics of American\\nliterature ... His wartime experiences formed the basis for his novel\\n”A Farewell to Arms” (1929) ...\\nDocument 2 : ... artists of the 1920s ”Lost Generation” expatriate\\ncommunity. His debut novel, ”The Sun Also Rises” , was published\\nin 1926.\\nBOS”\\nTheSunAlsoRises”isa\\nnovelbythis\\nauthorof”A\\nFarewellto\\nArms”Doc 1\\nDoc 2\\nDoc 3\\nDoc 4\\nDoc 5Figure 2: RAG-Token document posterior p(zi|x,yi,y−i)for each generated token for input “Hem-\\ningway\" for Jeopardy generation with 5 retrieved documents. The posterior for document 1 is high\\nwhen generating “A Farewell to Arms\" and for document 2 when generating “The Sun Also Rises\".\\nTable 3: Examples from generation tasks. RAG models generate more speciﬁc and factually accurate\\nresponses. ‘?’ indicates factually incorrect responses, * indicates partially correct responses.\\nTask Input Model Generation\\nMS-\\nMARCOdeﬁne middle\\nearBART?The middle ear is the part of the ear between the middle ear and the nose.\\nRAG-T The middle ear is the portion of the ear internal to the eardrum.\\nRAG-S The middle ear includes the tympanic cavity and the three ossicles.\\nwhat currency\\nneeded in\\nscotlandBART The currency needed in Scotland is Pound sterling.\\nRAG-T Pound is the currency needed in Scotland.\\nRAG-S The currency needed in Scotland is the pound sterling.\\nJeopardy\\nQuestion\\nGener\\n-ationWashingtonBART?This state has the largest number of counties in the U.S.\\nRAG-T It’s the only U.S. state named for a U.S. president\\nRAG-S It’s the state where you’ll ﬁnd Mount Rainier National Park\\nThe Divine\\nComedyBART*This epic poem by Dante is divided into 3 parts: the Inferno, the Purgatorio & the Purgatorio\\nRAG-T Dante’s \"Inferno\" is the ﬁrst part of this epic poem\\nRAG-S This 14th century work is divided into 3 sections: \"Inferno\", \"Purgatorio\" & \"Paradiso\"\\nFor 2-way classiﬁcation, we compare against Thorne and Vlachos [57], who train RoBERTa [ 35]\\nto classify the claim as true or false given the gold evidence sentence. RAG achieves an accuracy\\nwithin 2.7% of this model, despite being supplied with only the claim and retrieving its own evidence.\\nWe also analyze whether documents retrieved by RAG correspond to documents annotated as gold\\nevidence in FEVER. We calculate the overlap in article titles between the top kdocuments retrieved\\nby RAG and gold evidence annotations. We ﬁnd that the top retrieved document is from a gold article\\nin 71% of cases, and a gold article is present in the top 10 retrieved articles in 90% of cases.\\n4.5 Additional Results\\nGeneration Diversity Section 4.3 shows that RAG models are more factual and speciﬁc than\\nBART for Jeopardy question generation. Following recent work on diversity-promoting decoding\\n[33,59,39], we also investigate generation diversity by calculating the ratio of distinct ngrams to\\ntotal ngrams generated by different models. Table 5 shows that RAG-Sequence’s generations are\\nmore diverse than RAG-Token’s, and both are signiﬁcantly more diverse than BART without needing\\nany diversity-promoting decoding.\\nRetrieval Ablations A key feature of RAG is learning to retrieve relevant information for the task.\\nTo assess the effectiveness of the retrieval mechanism, we run ablations where we freeze the retriever\\nduring training. As shown in Table 6, learned retrieval improves results for all tasks.\\nWe compare RAG’s dense retriever to a word overlap-based BM25 retriever [ 53]. Here, we replace\\nRAG’s retriever with a ﬁxed BM25 system, and use BM25 retrieval scores as logits when calculating\\np(z|x). Table 6 shows the results. For FEVER, BM25 performs best, perhaps since FEVER claims are\\nheavily entity-centric and thus well-suited for word overlap-based retrieval. Differentiable retrieval\\nimproves results on all other tasks, especially for Open-Domain QA, where it is crucial.\\nIndex hot-swapping An advantage of non-parametric memory models like RAG is that knowledge\\ncan be easily updated at test time. Parametric-only models like T5 or BART need further training to\\nupdate their behavior as the world changes. To demonstrate, we build an index using the DrQA [ 5]\\nWikipedia dump from December 2016 and compare outputs from RAG using this index to the newer\\nindex from our main results (December 2018). We prepare a list of 82 world leaders who had changed\\n7'),\n",
       " Document(metadata={'source': 'rag_research_paper.pdf', 'page': 7}, page_content='Table 4: Human assessments for the Jeopardy\\nQuestion Generation Task.\\nFactuality Speciﬁcity\\nBART better 7.1% 16.8%\\nRAG better 42.7% 37.4%\\nBoth good 11.7% 11.8%\\nBoth poor 17.7% 6.9%\\nNo majority 20.8% 20.1%Table 5: Ratio of distinct to total tri-grams for\\ngeneration tasks.\\nMSMARCO Jeopardy QGen\\nGold 89.6% 90.0%\\nBART 70.7% 32.4%\\nRAG-Token 77.8% 46.8%\\nRAG-Seq. 83.5% 53.8%\\nTable 6: Ablations on the dev set. As FEVER is a classiﬁcation task, both RAG models are equivalent.\\nModel NQ TQA WQ CT Jeopardy-QGen MSMarco FVR-3 FVR-2\\nExact Match B-1 QB-1 R-L B-1 Label Accuracy\\nRAG-Token-BM25 29.7 41.5 32.1 33.1 17.5 22.3 55.5 48.475.1 91.6RAG-Sequence-BM25 31.8 44.1 36.6 33.8 11.1 19.5 56.5 46.9\\nRAG-Token-Frozen 37.8 50.1 37.1 51.1 16.7 21.7 55.9 49.472.9 89.4RAG-Sequence-Frozen 41.2 52.1 41.8 52.6 11.8 19.6 56.7 47.3\\nRAG-Token 43.5 54.8 46.5 51.9 17.9 22.6 56.2 49.474.5 90.6RAG-Sequence 44.0 55.8 44.9 53.4 15.3 21.5 57.2 47.5\\nbetween these dates and use a template “Who is {position}?” (e.g. “Who is the President of Peru?”)\\nto query our NQ RAG model with each index. RAG answers 70% correctly using the 2016 index for\\n2016 world leaders and 68% using the 2018 index for 2018 world leaders. Accuracy with mismatched\\nindices is low (12% with the 2018 index and 2016 leaders, 4% with the 2016 index and 2018 leaders).\\nThis shows we can update RAG’s world knowledge by simply replacing its non-parametric memory.\\nEffect of Retrieving more documents Models are trained with either 5 or 10 retrieved latent\\ndocuments, and we do not observe signiﬁcant differences in performance between them. We have the\\nﬂexibility to adjust the number of retrieved documents at test time, which can affect performance and\\nruntime. Figure 3 (left) shows that retrieving more documents at test time monotonically improves\\nOpen-domain QA results for RAG-Sequence, but performance peaks for RAG-Token at 10 retrieved\\ndocuments. Figure 3 (right) shows that retrieving more documents leads to higher Rouge-L for\\nRAG-Token at the expense of Bleu-1, but the effect is less pronounced for RAG-Sequence.\\n10 20 30 40 50\\nKR e t r i e v e dD o c s394041424344NQ Exact MatchRAG-Tok\\nRAG-Seq\\n10 20 30 40 50\\nKR e t r i e v e dD o c s4050607080NQ Answer Recall @ KRAG-Tok\\nRAG-Seq\\nFixed DPR\\nBM25\\n10 20 30 40 50\\nKR e t r i e v e dD o c s4850525456Bleu-1 / Rouge-L scoreRAG-Tok R-L\\nRAG-Tok B-1\\nRAG-Seq R-L\\nRAG-Seq B-1\\nFigure 3: Left: NQ performance as more documents are retrieved. Center: Retrieval recall perfor-\\nmance in NQ. Right: MS-MARCO Bleu-1 and Rouge-L as more documents are retrieved.\\n5 Related Work\\nSingle-Task Retrieval Prior work has shown that retrieval improves performance across a variety of\\nNLP tasks when considered in isolation. Such tasks include open-domain question answering [ 5,29],\\nfact checking [ 56], fact completion [ 48], long-form question answering [ 12], Wikipedia article\\ngeneration [ 36], dialogue [ 41,65,9,13], translation [ 17], and language modeling [ 19,27]. Our\\nwork uniﬁes previous successes in incorporating retrieval into individual tasks, showing that a single\\nretrieval-based architecture is capable of achieving strong performance across several tasks.\\n8'),\n",
       " Document(metadata={'source': 'rag_research_paper.pdf', 'page': 8}, page_content='General-Purpose Architectures for NLP Prior work on general-purpose architectures for NLP\\ntasks has shown great success without the use of retrieval. A single, pre-trained language model\\nhas been shown to achieve strong performance on various classiﬁcation tasks in the GLUE bench-\\nmarks [ 60,61] after ﬁne-tuning [ 49,8]. GPT-2 [ 50] later showed that a single, left-to-right, pre-trained\\nlanguage model could achieve strong performance across both discriminative and generative tasks.\\nFor further improvement, BART [ 32] and T5 [ 51,52] propose a single, pre-trained encoder-decoder\\nmodel that leverages bi-directional attention to achieve stronger performance on discriminative\\nand generative tasks. Our work aims to expand the space of possible tasks with a single, uniﬁed\\narchitecture, by learning a retrieval module to augment pre-trained, generative language models.\\nLearned Retrieval There is signiﬁcant work on learning to retrieve documents in information\\nretrieval, more recently with pre-trained, neural language models [ 44,26] similar to ours. Some\\nwork optimizes the retrieval module to aid in a speciﬁc, downstream task such as question answering,\\nusing search [ 46], reinforcement learning [ 6,63,62], or a latent variable approach [ 31,20] as in our\\nwork. These successes leverage different retrieval-based architectures and optimization techniques to\\nachieve strong performance on a single task, while we show that a single retrieval-based architecture\\ncan be ﬁne-tuned for strong performance on a variety of tasks.\\nMemory-based Architectures Our document index can be seen as a large external memory for\\nneural networks to attend to, analogous to memory networks [ 64,55]. Concurrent work [ 14] learns\\nto retrieve a trained embedding for each entity in the input, rather than to retrieve raw text as in our\\nwork. Other work improves the ability of dialog models to generate factual text by attending over\\nfact embeddings [ 15,13]. A key feature of our memory is that it is comprised of raw text rather\\ndistributed representations, which makes the memory both (i) human-readable, lending a form of\\ninterpretability to our model, and (ii) human-writable, enabling us to dynamically update the model’s\\nmemory by editing the document index. This approach has also been used in knowledge-intensive\\ndialog, where generators have been conditioned on retrieved text directly, albeit obtained via TF-IDF\\nrather than end-to-end learnt retrieval [9].\\nRetrieve-and-Edit approaches Our method shares some similarities with retrieve-and-edit style\\napproaches, where a similar training input-output pair is retrieved for a given input, and then edited\\nto provide a ﬁnal output. These approaches have proved successful in a number of domains including\\nMachine Translation [ 18,22] and Semantic Parsing [ 21]. Our approach does have several differences,\\nincluding less of emphasis on lightly editing a retrieved item, but on aggregating content from several\\npieces of retrieved content, as well as learning latent retrieval, and retrieving evidence documents\\nrather than related training pairs. This said, RAG techniques may work well in these settings, and\\ncould represent promising future work.\\n6 Discussion\\nIn this work, we presented hybrid generation models with access to parametric and non-parametric\\nmemory. We showed that our RAG models obtain state of the art results on open-domain QA. We\\nfound that people prefer RAG’s generation over purely parametric BART, ﬁnding RAG more factual\\nand speciﬁc. We conducted an thorough investigation of the learned retrieval component, validating\\nits effectiveness, and we illustrated how the retrieval index can be hot-swapped to update the model\\nwithout requiring any retraining. In future work, it may be fruitful to investigate if the two components\\ncan be jointly pre-trained from scratch, either with a denoising objective similar to BART or some\\nanother objective. Our work opens up new research directions on how parametric and non-parametric\\nmemories interact and how to most effectively combine them, showing promise in being applied to a\\nwide variety of NLP tasks.\\n9'),\n",
       " Document(metadata={'source': 'rag_research_paper.pdf', 'page': 9}, page_content='Broader Impact\\nThis work offers several positive societal beneﬁts over previous work: the fact that it is more\\nstrongly grounded in real factual knowledge (in this case Wikipedia) makes it “hallucinate” less\\nwith generations that are more factual, and offers more control and interpretability. RAG could be\\nemployed in a wide variety of scenarios with direct beneﬁt to society, for example by endowing it\\nwith a medical index and asking it open-domain questions on that topic, or by helping people be more\\neffective at their jobs.\\nWith these advantages also come potential downsides: Wikipedia, or any potential external knowledge\\nsource, will probably never be entirely factual and completely devoid of bias. Since RAG can be\\nemployed as a language model, similar concerns as for GPT-2 [ 50] are valid here, although arguably\\nto a lesser extent, including that it might be used to generate abuse, faked or misleading content in\\nthe news or on social media; to impersonate others; or to automate the production of spam/phishing\\ncontent [ 54]. Advanced language models may also lead to the automation of various jobs in the\\ncoming decades [ 16]. In order to mitigate these risks, AI systems could be employed to ﬁght against\\nmisleading content and automated spam/phishing.\\nAcknowledgments\\nThe authors would like to thank the reviewers for their thoughtful and constructive feedback on this\\npaper, as well as HuggingFace for their help in open-sourcing code to run RAG models. The authors\\nwould also like to thank Kyunghyun Cho and Sewon Min for productive discussions and advice. EP\\nthanks supports from the NSF Graduate Research Fellowship. PL is supported by the FAIR PhD\\nprogram.\\nReferences\\n[1]Payal Bajaj, Daniel Campos, Nick Craswell, Li Deng, Jianfeng Gao, Xiaodong Liu, Rangan\\nMajumder, Andrew McNamara, Bhaskar Mitra, Tri Nguyen, Mir Rosenberg, Xia Song, Alina\\nStoica, Saurabh Tiwary, and Tong Wang. MS MARCO: A Human Generated MAchine\\nReading COmprehension Dataset. arXiv:1611.09268 [cs] , November 2016. URL http:\\n//arxiv.org/abs/1611.09268 . arXiv: 1611.09268.\\n[2]Petr Baudiš and Jan Šediv `y. Modeling of the question answering task in the yodaqa system. In\\nInternational Conference of the Cross-Language Evaluation Forum for European Languages ,\\npages 222–228. Springer, 2015. URL https://link.springer.com/chapter/10.1007%\\n2F978-3-319-24027-5_20 .\\n[3]Jonathan Berant, Andrew Chou, Roy Frostig, and Percy Liang. Semantic Parsing on Freebase\\nfrom Question-Answer Pairs. In Proceedings of the 2013 Conference on Empirical Methods\\nin Natural Language Processing , pages 1533–1544, Seattle, Washington, USA, October 2013.\\nAssociation for Computational Linguistics. URL http://www.aclweb.org/anthology/\\nD13-1160 .\\n[4]Bin Bi, Chenliang Li, Chen Wu, Ming Yan, and Wei Wang. Palm: Pre-training an autoencod-\\ning&autoregressive language model for context-conditioned generation. ArXiv , abs/2004.07159,\\n2020. URL https://arxiv.org/abs/2004.07159 .\\n[5]Danqi Chen, Adam Fisch, Jason Weston, and Antoine Bordes. Reading Wikipedia to Answer\\nOpen-Domain Questions. In Proceedings of the 55th Annual Meeting of the Association for\\nComputational Linguistics (Volume 1: Long Papers) , pages 1870–1879, Vancouver, Canada,\\nJuly 2017. Association for Computational Linguistics. doi: 10.18653/v1/P17-1171. URL\\nhttps://www.aclweb.org/anthology/P17-1171 .\\n[6]Eunsol Choi, Daniel Hewlett, Jakob Uszkoreit, Illia Polosukhin, Alexandre Lacoste, and\\nJonathan Berant. Coarse-to-ﬁne question answering for long documents. In Proceedings of the\\n55th Annual Meeting of the Association for Computational Linguistics (Volume 1: Long Papers) ,\\npages 209–220, Vancouver, Canada, July 2017. Association for Computational Linguistics. doi:\\n10.18653/v1/P17-1020. URL https://www.aclweb.org/anthology/P17-1020 .\\n10'),\n",
       " Document(metadata={'source': 'rag_research_paper.pdf', 'page': 10}, page_content='[7]Christopher Clark and Matt Gardner. Simple and Effective Multi-Paragraph Reading Compre-\\nhension. arXiv:1710.10723 [cs] , October 2017. URL http://arxiv.org/abs/1710.10723 .\\narXiv: 1710.10723.\\n[8]Jacob Devlin, Ming-Wei Chang, Kenton Lee, and Kristina Toutanova. BERT: Pre-training of\\nDeep Bidirectional Transformers for Language Understanding. In Proceedings of the 2019 Con-\\nference of the North American Chapter of the Association for Computational Linguistics: Human\\nLanguage Technologies, Volume 1 (Long and Short Papers) , pages 4171–4186, Minneapolis,\\nMinnesota, June 2019. Association for Computational Linguistics. doi: 10.18653/v1/N19-1423.\\nURL https://www.aclweb.org/anthology/N19-1423 .\\n[9]Emily Dinan, Stephen Roller, Kurt Shuster, Angela Fan, Michael Auli, and Jason Weston. Wiz-\\nard of wikipedia: Knowledge-powered conversational agents. In International Conference on\\nLearning Representations , 2019. URL https://openreview.net/forum?id=r1l73iRqKm .\\n[10] Matthew Dunn, Levent Sagun, Mike Higgins, V . Ugur Guney, V olkan Cirik, and Kyunghyun\\nCho. SearchQA: A New Q&A Dataset Augmented with Context from a Search Engine.\\narXiv:1704.05179 [cs] , April 2017. URL http://arxiv.org/abs/1704.05179 . arXiv:\\n1704.05179.\\n[11] Angela Fan, Mike Lewis, and Yann Dauphin. Hierarchical neural story generation. In Proceed-\\nings of the 56th Annual Meeting of the Association for Computational Linguistics (Volume 1:\\nLong Papers) , pages 889–898, Melbourne, Australia, July 2018. Association for Computational\\nLinguistics. doi: 10.18653/v1/P18-1082. URL https://www.aclweb.org/anthology/\\nP18-1082 .\\n[12] Angela Fan, Yacine Jernite, Ethan Perez, David Grangier, Jason Weston, and Michael Auli. ELI5:\\nLong form question answering. In Proceedings of the 57th Annual Meeting of the Association\\nfor Computational Linguistics , pages 3558–3567, Florence, Italy, July 2019. Association for\\nComputational Linguistics. doi: 10.18653/v1/P19-1346. URL https://www.aclweb.org/\\nanthology/P19-1346 .\\n[13] Angela Fan, Claire Gardent, Chloe Braud, and Antoine Bordes. Augmenting transformers\\nwith KNN-based composite memory, 2020. URL https://openreview.net/forum?id=\\nH1gx1CNKPH .\\n[14] Thibault Févry, Livio Baldini Soares, Nicholas FitzGerald, Eunsol Choi, and Tom Kwiatkowski.\\nEntities as experts: Sparse memory access with entity supervision. ArXiv , abs/2004.07202,\\n2020. URL https://arxiv.org/abs/2004.07202 .\\n[15] Marjan Ghazvininejad, Chris Brockett, Ming-Wei Chang, Bill Dolan, Jianfeng Gao, Wen\\ntau Yih, and Michel Galley. A knowledge-grounded neural conversation model. In AAAI\\nConference on Artiﬁcial Intelligence , 2018. URL https://www.aaai.org/ocs/index.php/\\nAAAI/AAAI18/paper/view/16710 .\\n[16] Katja Grace, John Salvatier, Allan Dafoe, Baobao Zhang, and Owain Evans. When will AI\\nexceed human performance? evidence from AI experts. CoRR , abs/1705.08807, 2017. URL\\nhttp://arxiv.org/abs/1705.08807 .\\n[17] Jiatao Gu, Yong Wang, Kyunghyun Cho, and Victor O.K. Li. Search engine guided neural\\nmachine translation. In AAAI Conference on Artiﬁcial Intelligence , 2018. URL https:\\n//www.aaai.org/ocs/index.php/AAAI/AAAI18/paper/view/17282 .\\n[18] Jiatao Gu, Yong Wang, Kyunghyun Cho, and Victor O.K. Li. Search engine guided neural\\nmachine translation. In 32nd AAAI Conference on Artiﬁcial Intelligence, AAAI 2018 , 32nd\\nAAAI Conference on Artiﬁcial Intelligence, AAAI 2018, pages 5133–5140. AAAI press, 2018.\\n32nd AAAI Conference on Artiﬁcial Intelligence, AAAI 2018 ; Conference date: 02-02-2018\\nThrough 07-02-2018.\\n[19] Kelvin Guu, Tatsunori B. Hashimoto, Yonatan Oren, and Percy Liang. Generating sentences by\\nediting prototypes. Transactions of the Association for Computational Linguistics , 6:437–450,\\n2018. doi: 10.1162/tacl_a_00030. URL https://www.aclweb.org/anthology/Q18-1031 .\\n11'),\n",
       " Document(metadata={'source': 'rag_research_paper.pdf', 'page': 11}, page_content='[20] Kelvin Guu, Kenton Lee, Zora Tung, Panupong Pasupat, and Ming-Wei Chang. REALM:\\nRetrieval-augmented language model pre-training. ArXiv , abs/2002.08909, 2020. URL https:\\n//arxiv.org/abs/2002.08909 .\\n[21] Tatsunori B Hashimoto, Kelvin Guu, Yonatan Oren, and Percy S Liang. A\\nretrieve-and-edit framework for predicting structured outputs. In S. Bengio,\\nH. Wallach, H. Larochelle, K. Grauman, N. Cesa-Bianchi, and R. Garnett, ed-\\nitors, Advances in Neural Information Processing Systems 31 , pages 10052–\\n10062. Curran Associates, Inc., 2018. URL http://papers.nips.cc/paper/\\n8209-a-retrieve-and-edit-framework-for-predicting-structured-outputs.\\npdf.\\n[22] Nabil Hossain, Marjan Ghazvininejad, and Luke Zettlemoyer. Simple and effective retrieve-\\nedit-rerank text generation. In Proceedings of the 58th Annual Meeting of the Association for\\nComputational Linguistics , pages 2532–2538, Online, July 2020. Association for Computa-\\ntional Linguistics. doi: 10.18653/v1/2020.acl-main.228. URL https://www.aclweb.org/\\nanthology/2020.acl-main.228 .\\n[23] Jeff Johnson, Matthijs Douze, and Hervé Jégou. Billion-scale similarity search with gpus. arXiv\\npreprint arXiv:1702.08734 , 2017. URL https://arxiv.org/abs/1702.08734 .\\n[24] Mandar Joshi, Eunsol Choi, Daniel Weld, and Luke Zettlemoyer. TriviaQA: A Large Scale\\nDistantly Supervised Challenge Dataset for Reading Comprehension. In Proceedings of the\\n55th Annual Meeting of the Association for Computational Linguistics (Volume 1: Long Papers) ,\\npages 1601–1611, Vancouver, Canada, July 2017. Association for Computational Linguistics.\\ndoi: 10.18653/v1/P17-1147. URL https://www.aclweb.org/anthology/P17-1147 .\\n[25] Armand Joulin and Tomas Mikolov. Inferring algorithmic patterns with stack-\\naugmented recurrent nets. In Proceedings of the 28th International Conference on\\nNeural Information Processing Systems - Volume 1 , NIPS’15, page 190–198, Cam-\\nbridge, MA, USA, 2015. MIT Press. URL https://papers.nips.cc/paper/\\n5857-inferring-algorithmic-patterns-with-stack-augmented-recurrent-nets .\\n[26] Vladimir Karpukhin, Barlas Oguz, Sewon Min, Ledell Wu, Sergey Edunov, Danqi Chen, and\\nWen-tau Yih. Dense passage retrieval for open-domain question answering. arXiv preprint\\narXiv:2004.04906 , 2020. URL https://arxiv.org/abs/2004.04906 .\\n[27] Urvashi Khandelwal, Omer Levy, Dan Jurafsky, Luke Zettlemoyer, and Mike Lewis. Generaliza-\\ntion through memorization: Nearest neighbor language models. In International Conference on\\nLearning Representations , 2020. URL https://openreview.net/forum?id=HklBjCEKvH .\\n[28] Diederik P. Kingma and Jimmy Ba. Adam: A method for stochastic optimization. In Yoshua\\nBengio and Yann LeCun, editors, 3rd International Conference on Learning Representations,\\nICLR 2015, San Diego, CA, USA, May 7-9, 2015, Conference Track Proceedings , 2015. URL\\nhttp://arxiv.org/abs/1412.6980 .\\n[29] Tom Kwiatkowski, Jennimaria Palomaki, Olivia Redﬁeld, Michael Collins, Ankur Parikh,\\nChris Alberti, Danielle Epstein, Illia Polosukhin, Matthew Kelcey, Jacob Devlin, Ken-\\nton Lee, Kristina N. Toutanova, Llion Jones, Ming-Wei Chang, Andrew Dai, Jakob\\nUszkoreit, Quoc Le, and Slav Petrov. Natural Questions: a Benchmark for Ques-\\ntion Answering Research. Transactions of the Association of Computational Lin-\\nguistics , 2019. URL https://tomkwiat.users.x20web.corp.google.com/papers/\\nnatural-questions/main-1455-kwiatkowski.pdf .\\n[30] Guillaume Lample, Alexandre Sablayrolles, Marc’ Aurelio Ranzato, Ludovic Denoyer, and\\nHerve Jegou. Large memory layers with product keys. In H. Wallach, H. Larochelle,\\nA. Beygelzimer, F. d’ Alché-Buc, E. Fox, and R. Garnett, editors, Advances in Neural In-\\nformation Processing Systems 32 , pages 8548–8559. Curran Associates, Inc., 2019. URL http:\\n//papers.nips.cc/paper/9061-large-memory-layers-with-product-keys.pdf .\\n[31] Kenton Lee, Ming-Wei Chang, and Kristina Toutanova. Latent retrieval for weakly supervised\\nopen domain question answering. In Proceedings of the 57th Annual Meeting of the Association\\n12'),\n",
       " Document(metadata={'source': 'rag_research_paper.pdf', 'page': 12}, page_content='for Computational Linguistics , pages 6086–6096, Florence, Italy, July 2019. Association for\\nComputational Linguistics. doi: 10.18653/v1/P19-1612. URL https://www.aclweb.org/\\nanthology/P19-1612 .\\n[32] Mike Lewis, Yinhan Liu, Naman Goyal, Marjan Ghazvininejad, Abdelrahman Mohamed,\\nOmer Levy, Veselin Stoyanov, and Luke Zettlemoyer. BART: Denoising sequence-to-sequence\\npre-training for natural language generation, translation, and comprehension. arXiv preprint\\narXiv:1910.13461 , 2019. URL https://arxiv.org/abs/1910.13461 .\\n[33] Jiwei Li, Michel Galley, Chris Brockett, Jianfeng Gao, and Bill Dolan. A diversity-promoting\\nobjective function for neural conversation models. In Proceedings of the 2016 Conference of the\\nNorth American Chapter of the Association for Computational Linguistics: Human Language\\nTechnologies , pages 110–119, San Diego, California, June 2016. Association for Computational\\nLinguistics. doi: 10.18653/v1/N16-1014. URL https://www.aclweb.org/anthology/\\nN16-1014 .\\n[34] Margaret Li, Jason Weston, and Stephen Roller. Acute-eval: Improved dialogue evaluation\\nwith optimized questions and multi-turn comparisons. ArXiv , abs/1909.03087, 2019. URL\\nhttps://arxiv.org/abs/1909.03087 .\\n[35] Hairong Liu, Mingbo Ma, Liang Huang, Hao Xiong, and Zhongjun He. Robust neural machine\\ntranslation with joint textual and phonetic embedding. In Proceedings of the 57th Annual\\nMeeting of the Association for Computational Linguistics , pages 3044–3049, Florence, Italy,\\nJuly 2019. Association for Computational Linguistics. doi: 10.18653/v1/P19-1291. URL\\nhttps://www.aclweb.org/anthology/P19-1291 .\\n[36] Peter J. Liu*, Mohammad Saleh*, Etienne Pot, Ben Goodrich, Ryan Sepassi, Lukasz Kaiser,\\nand Noam Shazeer. Generating wikipedia by summarizing long sequences. In International\\nConference on Learning Representations , 2018. URL https://openreview.net/forum?\\nid=Hyg0vbWC- .\\n[37] Yury A. Malkov and D. A. Yashunin. Efﬁcient and robust approximate nearest neighbor search\\nusing hierarchical navigable small world graphs. IEEE Transactions on Pattern Analysis and\\nMachine Intelligence , 42:824–836, 2016. URL https://arxiv.org/abs/1603.09320 .\\n[38] Gary Marcus. The next decade in ai: four steps towards robust artiﬁcial intelligence. arXiv\\npreprint arXiv:2002.06177 , 2020. URL https://arxiv.org/abs/2002.06177 .\\n[39] Luca Massarelli, Fabio Petroni, Aleksandra Piktus, Myle Ott, Tim Rocktäschel, Vassilis\\nPlachouras, Fabrizio Silvestri, and Sebastian Riedel. How decoding strategies affect the\\nveriﬁability of generated text. arXiv preprint arXiv:1911.03587 , 2019. URL https:\\n//arxiv.org/abs/1911.03587 .\\n[40] Paulius Micikevicius, Sharan Narang, Jonah Alben, Gregory Diamos, Erich Elsen, David Garcia,\\nBoris Ginsburg, Michael Houston, Oleksii Kuchaiev, Ganesh Venkatesh, and Hao Wu. Mixed\\nprecision training. In ICLR , 2018. URL https://openreview.net/forum?id=r1gs9JgRZ .\\n[41] Nikita Moghe, Siddhartha Arora, Suman Banerjee, and Mitesh M. Khapra. Towards exploit-\\ning background knowledge for building conversation systems. In Proceedings of the 2018\\nConference on Empirical Methods in Natural Language Processing , pages 2322–2332, Brus-\\nsels, Belgium, October-November 2018. Association for Computational Linguistics. doi:\\n10.18653/v1/D18-1255. URL https://www.aclweb.org/anthology/D18-1255 .\\n[42] Preksha Nema and Mitesh M. Khapra. Towards a better metric for evaluating question generation\\nsystems. In Proceedings of the 2018 Conference on Empirical Methods in Natural Language\\nProcessing , pages 3950–3959, Brussels, Belgium, October-November 2018. Association for\\nComputational Linguistics. doi: 10.18653/v1/D18-1429. URL https://www.aclweb.org/\\nanthology/D18-1429 .\\n[43] Tri Nguyen, Mir Rosenberg, Xia Song, Jianfeng Gao, Saurabh Tiwary, Rangan Majumder,\\nand Li Deng. MS MARCO: A human generated machine reading comprehension dataset. In\\nTarek Richard Besold, Antoine Bordes, Artur S. d’Avila Garcez, and Greg Wayne, editors,\\nProceedings of the Workshop on Cognitive Computation: Integrating neural and symbolic\\n13'),\n",
       " Document(metadata={'source': 'rag_research_paper.pdf', 'page': 13}, page_content='approaches 2016 co-located with the 30th Annual Conference on Neural Information Processing\\nSystems (NIPS 2016), Barcelona, Spain, December 9, 2016 , volume 1773 of CEUR Workshop\\nProceedings . CEUR-WS.org, 2016. URL http://ceur-ws.org/Vol-1773/CoCoNIPS_\\n2016_paper9.pdf .\\n[44] Rodrigo Nogueira and Kyunghyun Cho. Passage re-ranking with BERT. arXiv preprint\\narXiv:1901.04085 , 2019. URL https://arxiv.org/abs/1901.04085 .\\n[45] Myle Ott, Sergey Edunov, Alexei Baevski, Angela Fan, Sam Gross, Nathan Ng, David Grangier,\\nand Michael Auli. fairseq: A fast, extensible toolkit for sequence modeling. In Proceedings\\nof the 2019 Conference of the North American Chapter of the Association for Computational\\nLinguistics (Demonstrations) , pages 48–53, Minneapolis, Minnesota, June 2019. Association\\nfor Computational Linguistics. doi: 10.18653/v1/N19-4009. URL https://www.aclweb.\\norg/anthology/N19-4009 .\\n[46] Ethan Perez, Siddharth Karamcheti, Rob Fergus, Jason Weston, Douwe Kiela, and Kyunghyun\\nCho. Finding generalizable evidence by learning to convince q&a models. In Proceedings\\nof the 2019 Conference on Empirical Methods in Natural Language Processing and the 9th\\nInternational Joint Conference on Natural Language Processing (EMNLP-IJCNLP) , pages\\n2402–2411, Hong Kong, China, November 2019. Association for Computational Linguistics.\\ndoi: 10.18653/v1/D19-1244. URL https://www.aclweb.org/anthology/D19-1244 .\\n[47] Fabio Petroni, Tim Rocktäschel, Sebastian Riedel, Patrick Lewis, Anton Bakhtin, Yuxiang Wu,\\nand Alexander Miller. Language models as knowledge bases? In Proceedings of the 2019\\nConference on Empirical Methods in Natural Language Processing and the 9th International\\nJoint Conference on Natural Language Processing (EMNLP-IJCNLP) , pages 2463–2473, Hong\\nKong, China, November 2019. Association for Computational Linguistics. doi: 10.18653/v1/\\nD19-1250. URL https://www.aclweb.org/anthology/D19-1250 .\\n[48] Fabio Petroni, Patrick Lewis, Aleksandra Piktus, Tim Rocktäschel, Yuxiang Wu, Alexander H.\\nMiller, and Sebastian Riedel. How context affects language models’ factual predictions. In\\nAutomated Knowledge Base Construction , 2020. URL https://openreview.net/forum?\\nid=025X0zPfn .\\n[49] Alec Radford, Karthik Narasimhan, Tim Salimans, and Ilya Sutskever. Im-\\nproving Language Understanding by Generative Pre-Training, 2018. URL\\nhttps://s3-us-west-2.amazonaws.com/openai-assets/research-covers/\\nlanguage-unsupervised/language_understanding_paper.pdf .\\n[50] Alec Radford, Jeff Wu, Rewon Child, David Luan, Dario Amodei, and Ilya\\nSutskever. Language models are unsupervised multitask learners, 2019. URL\\nhttps://d4mucfpksywv.cloudfront.net/better-language-models/language_\\nmodels_are_unsupervised_multitask_learners.pdf .\\n[51] Colin Raffel, Noam Shazeer, Adam Roberts, Katherine Lee, Sharan Narang, Michael Matena,\\nYanqi Zhou, Wei Li, and Peter J. Liu. Exploring the limits of transfer learning with a uniﬁed\\ntext-to-text transformer. arXiv e-prints , 2019. URL https://arxiv.org/abs/1910.10683 .\\n[52] Adam Roberts, Colin Raffel, and Noam Shazeer. How much knowledge can you pack into\\nthe parameters of a language model? arXiv e-prints , 2020. URL https://arxiv.org/abs/\\n2002.08910 .\\n[53] Stephen Robertson and Hugo Zaragoza. The probabilistic relevance framework: Bm25 and\\nbeyond. Found. Trends Inf. Retr. , 3(4):333–389, April 2009. ISSN 1554-0669. doi: 10.1561/\\n1500000019. URL https://doi.org/10.1561/1500000019 .\\n[54] Irene Solaiman, Miles Brundage, Jack Clark, Amanda Askell, Ariel Herbert-V oss, Jeff Wu, Alec\\nRadford, and Jian-Bing Wang. Release strategies and the social impacts of language models.\\nArXiv , abs/1908.09203, 2019.\\n[55] Sainbayar Sukhbaatar, Arthur Szlam, Jason Weston, and Rob Fergus. End-to-end memory net-\\nworks. In C. Cortes, N. D. Lawrence, D. D. Lee, M. Sugiyama, and R. Garnett, editors, Advances\\nin Neural Information Processing Systems 28 , pages 2440–2448. Curran Associates, Inc., 2015.\\nURL http://papers.nips.cc/paper/5846-end-to-end-memory-networks.pdf .\\n14'),\n",
       " Document(metadata={'source': 'rag_research_paper.pdf', 'page': 14}, page_content='[56] James Thorne, Andreas Vlachos, Christos Christodoulopoulos, and Arpit Mittal. FEVER: a\\nlarge-scale dataset for fact extraction and VERiﬁcation. In Proceedings of the 2018 Conference\\nof the North American Chapter of the Association for Computational Linguistics: Human\\nLanguage Technologies, Volume 1 (Long Papers) , pages 809–819, New Orleans, Louisiana,\\nJune 2018. Association for Computational Linguistics. doi: 10.18653/v1/N18-1074. URL\\nhttps://www.aclweb.org/anthology/N18-1074 .\\n[57] James H. Thorne and Andreas Vlachos. Avoiding catastrophic forgetting in mitigating model\\nbiases in sentence-pair classiﬁcation with elastic weight consolidation. ArXiv , abs/2004.14366,\\n2020. URL https://arxiv.org/abs/2004.14366 .\\n[58] Ashish Vaswani, Noam Shazeer, Niki Parmar, Jakob Uszkoreit, Llion Jones, Aidan N Gomez,\\nŁ ukasz Kaiser, and Illia Polosukhin. Attention is all you need. In I. Guyon, U. V . Luxburg,\\nS. Bengio, H. Wallach, R. Fergus, S. Vishwanathan, and R. Garnett, editors, Advances in Neural\\nInformation Processing Systems 30 , pages 5998–6008. Curran Associates, Inc., 2017. URL\\nhttp://papers.nips.cc/paper/7181-attention-is-all-you-need.pdf .\\n[59] Ashwin Vijayakumar, Michael Cogswell, Ramprasaath Selvaraju, Qing Sun, Stefan Lee, David\\nCrandall, and Dhruv Batra. Diverse beam search for improved description of complex scenes.\\nAAAI Conference on Artiﬁcial Intelligence , 2018. URL https://www.aaai.org/ocs/index.\\nphp/AAAI/AAAI18/paper/view/17329 .\\n[60] Alex Wang, Amanpreet Singh, Julian Michael, Felix Hill, Omer Levy, and Samuel Bowman.\\nGLUE: A multi-task benchmark and analysis platform for natural language understanding.\\nInProceedings of the 2018 EMNLP Workshop BlackboxNLP: Analyzing and Interpreting\\nNeural Networks for NLP , pages 353–355, Brussels, Belgium, November 2018. Association for\\nComputational Linguistics. doi: 10.18653/v1/W18-5446. URL https://www.aclweb.org/\\nanthology/W18-5446 .\\n[61] Alex Wang, Yada Pruksachatkun, Nikita Nangia, Amanpreet Singh, Julian Michael, Felix\\nHill, Omer Levy, and Samuel Bowman. SuperGLUE: A Stickier Benchmark for General-\\nPurpose Language Understanding Systems. In H. Wallach, H. Larochelle, A. Beygelzimer,\\nF. d\\\\textquotesingle Alché-Buc, E. Fox, and R. Garnett, editors, Advances in Neural Information\\nProcessing Systems 32 , pages 3261–3275. Curran Associates, Inc., 2019. URL https://\\narxiv.org/abs/1905.00537 .\\n[62] Shuohang Wang, Mo Yu, Xiaoxiao Guo, Zhiguo Wang, Tim Klinger, Wei Zhang, Shiyu Chang,\\nGerry Tesauro, Bowen Zhou, and Jing Jiang. R3: Reinforced ranker-reader for open-domain\\nquestion answering. In Sheila A. McIlraith and Kilian Q. Weinberger, editors, Proceedings of\\nthe Thirty-Second AAAI Conference on Artiﬁcial Intelligence, (AAAI-18), the 30th innovative\\nApplications of Artiﬁcial Intelligence (IAAI-18), and the 8th AAAI Symposium on Educational\\nAdvances in Artiﬁcial Intelligence (EAAI-18), New Orleans, Louisiana, USA, February 2-7,\\n2018 , pages 5981–5988. AAAI Press, 2018. URL https://www.aaai.org/ocs/index.\\nphp/AAAI/AAAI18/paper/view/16712 .\\n[63] Shuohang Wang, Mo Yu, Jing Jiang, Wei Zhang, Xiaoxiao Guo, Shiyu Chang, Zhiguo Wang,\\nTim Klinger, Gerald Tesauro, and Murray Campbell. Evidence aggregation for answer re-\\nranking in open-domain question answering. In ICLR , 2018. URL https://openreview.\\nnet/forum?id=rJl3yM-Ab .\\n[64] Jason Weston, Sumit Chopra, and Antoine Bordes. Memory networks. In Yoshua Bengio\\nand Yann LeCun, editors, 3rd International Conference on Learning Representations, ICLR\\n2015, San Diego, CA, USA, May 7-9, 2015, Conference Track Proceedings , 2015. URL\\nhttp://arxiv.org/abs/1410.3916 .\\n[65] Jason Weston, Emily Dinan, and Alexander Miller. Retrieve and reﬁne: Improved sequence\\ngeneration models for dialogue. In Proceedings of the 2018 EMNLP Workshop SCAI: The 2nd\\nInternational Workshop on Search-Oriented Conversational AI , pages 87–92, Brussels, Belgium,\\nOctober 2018. Association for Computational Linguistics. doi: 10.18653/v1/W18-5713. URL\\nhttps://www.aclweb.org/anthology/W18-5713 .\\n15'),\n",
       " Document(metadata={'source': 'rag_research_paper.pdf', 'page': 15}, page_content='[66] Thomas Wolf, Lysandre Debut, Victor Sanh, Julien Chaumond, Clement Delangue, Anthony\\nMoi, Pierric Cistac, Tim Rault, Rémi Louf, Morgan Funtowicz, Joe Davison, Sam Shleifer,\\nPatrick von Platen, Clara Ma, Yacine Jernite, Julien Plu, Canwen Xu, Teven Le Scao, Sylvain\\nGugger, Mariama Drame, Quentin Lhoest, and Alexander M. Rush. Huggingface’s transformers:\\nState-of-the-art natural language processing. ArXiv , abs/1910.03771, 2019.\\n[67] Shiyue Zhang and Mohit Bansal. Addressing semantic drift in question generation for semi-\\nsupervised question answering. In Proceedings of the 2019 Conference on Empirical Meth-\\nods in Natural Language Processing and the 9th International Joint Conference on Natural\\nLanguage Processing (EMNLP-IJCNLP) , pages 2495–2509, Hong Kong, China, Novem-\\nber 2019. Association for Computational Linguistics. doi: 10.18653/v1/D19-1253. URL\\nhttps://www.aclweb.org/anthology/D19-1253 .\\n[68] Wanjun Zhong, Jingjing Xu, Duyu Tang, Zenan Xu, Nan Duan, Ming Zhou, Jiahai Wang, and\\nJian Yin. Reasoning over semantic-level graph for fact checking. ArXiv , abs/1909.03745, 2019.\\nURL https://arxiv.org/abs/1909.03745 .\\n16'),\n",
       " Document(metadata={'source': 'rag_research_paper.pdf', 'page': 16}, page_content='Appendices for Retrieval-Augmented Generation for\\nKnowledge-Intensive NLP Tasks\\nA Implementation Details\\nFor Open-domain QA we report test numbers using 15 retrieved documents for RAG-Token models.\\nFor RAG-Sequence models, we report test results using 50 retrieved documents, and we use the\\nThorough Decoding approach since answers are generally short. We use greedy decoding for QA as\\nwe did not ﬁnd beam search improved results. For Open-MSMarco and Jeopardy question generation,\\nwe report test numbers using ten retrieved documents for both RAG-Token and RAG-Sequence,\\nand we also train a BART-large model as a baseline. We use a beam size of four, and use the Fast\\nDecoding approach for RAG-Sequence models, as Thorough Decoding did not improve performance.\\nB Human Evaluation\\nFigure 4: Annotation interface for human evaluation of factuality. A pop-out for detailed instructions\\nand a worked example appear when clicking \"view tool guide\".\\nFigure 4 shows the user interface for human evaluation. To avoid any biases for screen position,\\nwhich model corresponded to sentence A and sentence B was randomly selected for each example.\\nAnnotators were encouraged to research the topic using the internet, and were given detailed instruc-\\ntions and worked examples in a full instructions tab. We included some gold sentences in order to\\nassess the accuracy of the annotators. Two annotators did not perform well on these examples and\\ntheir annotations were removed from the results.\\nC Training setup Details\\nWe train all RAG models and BART baselines using Fairseq [ 45].2We train with mixed precision\\nﬂoating point arithmetic [ 40], distributing training across 8, 32GB NVIDIA V100 GPUs, though\\ntraining and inference can be run on one GPU. We ﬁnd that doing Maximum Inner Product Search\\nwith FAISS is sufﬁciently fast on CPU, so we store document index vectors on CPU, requiring ∼100\\nGB of CPU memory for all of Wikipedia. After submission, We have ported our code to HuggingFace\\nTransformers [ 66]3, which achieves equivalent performance to the previous version but is a cleaner\\nand easier to use implementation. This version is also open-sourced. We also compress the document\\nindex using FAISS’s compression tools, reducing the CPU memory requirement to 36GB. Scripts to\\nrun experiments with RAG can be found at https://github.com/huggingface/transformers/\\nblob/master/examples/rag/README.md and an interactive demo of a RAG model can be found\\nathttps://huggingface.co/rag/\\n2https://github.com/pytorch/fairseq\\n3https://github.com/huggingface/transformers\\n17'),\n",
       " Document(metadata={'source': 'rag_research_paper.pdf', 'page': 17}, page_content='D Further Details on Open-Domain QA\\nFor open-domain QA, multiple answer annotations are often available for a given question. These\\nanswer annotations are exploited by extractive models during training as typically all the answer\\nannotations are used to ﬁnd matches within documents when preparing training data. For RAG, we\\nalso make use of multiple annotation examples for Natural Questions and WebQuestions by training\\nthe model with each (q,a)pair separately, leading to a small increase in accuracy. For TriviaQA,\\nthere are often many valid answers to a given question, some of which are not suitable training targets,\\nsuch as emoji or spelling variants. For TriviaQA, we ﬁlter out answer candidates if they do not occur\\nin top 1000 documents for the query.\\nCuratedTrec preprocessing The answers for CuratedTrec are given in the form of regular expres-\\nsions, which has been suggested as a reason why it is unsuitable for answer-generation models [20].\\nTo overcome this, we use a pre-processing step where we ﬁrst retrieve the top 1000 documents for\\neach query, and use the answer that most frequently matches the regex pattern as the supervision\\ntarget. If no matches are found, we resort to a simple heuristic: generate all possible permutations for\\neach regex, replacing non-deterministic symbols in the regex nested tree structure with a whitespace.\\nTriviaQA Evaluation setups The open-domain QA community customarily uses public develop-\\nment datasets as test datasets, as test data for QA datasets is often restricted and dedicated to reading\\ncompehension purposes. We report our results using the datasets splits used in DPR [ 26], which are\\nconsistent with common practice in Open-domain QA. For TriviaQA, this test dataset is the public\\nTriviaQA Web Development split. Roberts et al. [52] used the TriviaQA ofﬁcial Wikipedia test set\\ninstead. Févry et al. [14] follow this convention in order to compare with Roberts et al. [52] (See\\nappendix of [ 14]). We report results on both test sets to enable fair comparison to both approaches.\\nWe ﬁnd that our performance is much higher using the ofﬁcial Wiki test set, rather than the more\\nconventional open-domain test set, which we attribute to the ofﬁcial Wiki test set questions being\\nsimpler to answer from Wikipedia.\\nE Further Details on FEVER\\nFor FEVER classiﬁcation, we follow the practice from [ 32], and ﬁrst re-generate the claim, and\\nthen classify using the representation of the ﬁnal hidden state, before ﬁnally marginalizing across\\ndocuments to obtain the class probabilities. The FEVER task traditionally has two sub-tasks. The\\nﬁrst is to classify the claim as either \"Supported\", \"Refuted\" or \"Not Enough Info\", which is the task\\nwe explore in the main paper. FEVER’s other sub-task involves extracting sentences from Wikipedia\\nas evidence supporting the classiﬁcation prediction. As FEVER uses a different Wikipedia dump to\\nus, directly tackling this task is not straightforward. We hope to address this in future work.\\nF Null Document Probabilities\\nWe experimented with adding \"Null document\" mechanism to RAG, similar to REALM [ 20] in order\\nto model cases where no useful information could be retrieved for a given input. Here, if kdocuments\\nwere retrieved, we would additionally \"retrieve\" an empty document and predict a logit for the null\\ndocument, before marginalizing over k+ 1predictions. We explored modelling this null document\\nlogit by learning (i) a document embedding for the null document, (ii) a static learnt bias term, or\\n(iii) a neural network to predict the logit. We did not ﬁnd that these improved performance, so in\\nthe interests of simplicity, we omit them. For Open MS-MARCO, where useful retrieved documents\\ncannot always be retrieved, we observe that the model learns to always retrieve a particular set of\\ndocuments for questions that are less likely to beneﬁt from retrieval, suggesting that null document\\nmechanisms may not be necessary for RAG.\\nG Parameters\\nOur RAG models contain the trainable parameters for the BERT-base query and document encoder of\\nDPR, with 110M parameters each (although we do not train the document encoder ourselves) and\\n406M trainable parameters from BART-large, 406M parameters, making a total of 626M trainable\\n18'),\n",
       " Document(metadata={'source': 'rag_research_paper.pdf', 'page': 18}, page_content='Table 7: Number of instances in the datasets used. *A hidden subset of this data is used for evaluation\\nTask Train Development Test\\nNatural Questions 79169 8758 3611\\nTriviaQA 78786 8838 11314\\nWebQuestions 3418 362 2033\\nCuratedTrec 635 134 635\\nJeopardy Question Generation 97392 13714 26849\\nMS-MARCO 153726 12468 101093*\\nFEVER-3-way 145450 10000 10000\\nFEVER-2-way 96966 6666 6666\\nparameters. The best performing \"closed-book\" (parametric only) open-domain QA model is T5-11B\\nwith 11 Billion trainable parameters. The T5 model with the closest number of parameters to our\\nmodels is T5-large (770M parameters), which achieves a score of 28.9 EM on Natural Questions [ 52],\\nsubstantially below the 44.5 that RAG-Sequence achieves, indicating that hybrid parametric/non-\\nparametric models require far fewer trainable parameters for strong open-domain QA performance.\\nThe non-parametric memory index does not consist of trainable parameters, but does consists of 21M\\n728 dimensional vectors, consisting of 15.3B values. These can be easily be stored at 8-bit ﬂoating\\npoint precision to manage memory and disk footprints.\\nH Retrieval Collapse\\nIn preliminary experiments, we observed that for some tasks such as story generation [ 11], the\\nretrieval component would “collapse” and learn to retrieve the same documents regardless of the\\ninput. In these cases, once retrieval had collapsed, the generator would learn to ignore the documents,\\nand the RAG model would perform equivalently to BART. The collapse could be due to a less-explicit\\nrequirement for factual knowledge in some tasks, or the longer target sequences, which could result\\nin less informative gradients for the retriever. Perez et al. [46] also found spurious retrieval results\\nwhen optimizing a retrieval component in order to improve performance on downstream tasks.\\nI Number of instances per dataset\\nThe number of training, development and test datapoints in each of our datasets is shown in Table 7.\\n19')]"
      ]
     },
     "execution_count": 12,
     "metadata": {},
     "output_type": "execute_result"
    }
   ],
   "source": [
    "pdf_docs = pdf_loader.load()\n",
    "pdf_docs"
   ]
  },
  {
   "cell_type": "markdown",
   "metadata": {},
   "source": [
    "Chunk Text to a higher level of granularity \n",
    "\n",
    "What is chunk size and chunk overlap? (RecursiveCharacterTextSplitter)\n",
    "\n",
    "- Chunk size is just the number of characters to be inlcluded in each chunk \n",
    "- Chunk overlap: the last number of characters to be used from the previous chunk. This helps the model better understand the context of the corpus. \n",
    "- Example 1:\n",
    "    - Chunk 0: 10 characters \n",
    "    - Chunk 1: 5 last characters from previous chunk 0 + 5 new characters\n",
    "    - Chunk 2: 5 last characters from previous chunk 1 + 5 new characters\n",
    "    - Chunk 3: 5 last characters from previous chunk 2 + 5 new characters\n",
    "- Example 2: input=\"The dog ran up the hill.\", chunk_size=10, chunk_overlap=5\n",
    "    - Chunk 0: \"The dog ra\"\n",
    "    - Chunk 1: \"dog ran up\"\n",
    "    - Chunk 2: \"ran up the\"\n",
    "    - Chunk 3: \"up the hil\"\n",
    "    - Chunk 4: \"the hill.\"\n"
   ]
  },
  {
   "cell_type": "code",
   "execution_count": 15,
   "metadata": {},
   "outputs": [],
   "source": [
    "# Split Documents\n",
    "from langchain.text_splitter import RecursiveCharacterTextSplitter"
   ]
  },
  {
   "cell_type": "code",
   "execution_count": 20,
   "metadata": {},
   "outputs": [],
   "source": [
    "text_splitter = RecursiveCharacterTextSplitter(chunk_size=100, chunk_overlap=10)"
   ]
  },
  {
   "cell_type": "code",
   "execution_count": 34,
   "metadata": {},
   "outputs": [
    {
     "data": {
      "text/plain": [
       "[Document(metadata={'source': 'rag_research_paper.pdf', 'page': 0}, page_content='Retrieval-Augmented Generation for\\nKnowledge-Intensive NLP Tasks\\nPatrick Lewis†‡, Ethan Perez⋆,'),\n",
       " Document(metadata={'source': 'rag_research_paper.pdf', 'page': 0}, page_content='Aleksandra Piktus†, Fabio Petroni†, Vladimir Karpukhin†, Naman Goyal†, Heinrich Küttler†,'),\n",
       " Document(metadata={'source': 'rag_research_paper.pdf', 'page': 0}, page_content='Mike Lewis†, Wen-tau Yih†, Tim Rocktäschel†‡, Sebastian Riedel†‡, Douwe Kiela†'),\n",
       " Document(metadata={'source': 'rag_research_paper.pdf', 'page': 0}, page_content='†Facebook AI Research;‡University College London;⋆New York University;\\nplewis@fb.com\\nAbstract'),\n",
       " Document(metadata={'source': 'rag_research_paper.pdf', 'page': 0}, page_content='Abstract\\nLarge pre-trained language models have been shown to store factual knowledge'),\n",
       " Document(metadata={'source': 'rag_research_paper.pdf', 'page': 0}, page_content='in their parameters, and achieve state-of-the-art results when ﬁne-tuned on down-'),\n",
       " Document(metadata={'source': 'rag_research_paper.pdf', 'page': 0}, page_content='stream NLP tasks. However, their ability to access and precisely manipulate knowl-'),\n",
       " Document(metadata={'source': 'rag_research_paper.pdf', 'page': 0}, page_content='edge is still limited, and hence on knowledge-intensive tasks, their performance'),\n",
       " Document(metadata={'source': 'rag_research_paper.pdf', 'page': 0}, page_content='lags behind task-speciﬁc architectures. Additionally, providing provenance for their'),\n",
       " Document(metadata={'source': 'rag_research_paper.pdf', 'page': 0}, page_content='decisions and updating their world knowledge remain open research problems. Pre-'),\n",
       " Document(metadata={'source': 'rag_research_paper.pdf', 'page': 0}, page_content='trained models with a differentiable access mechanism to explicit non-parametric'),\n",
       " Document(metadata={'source': 'rag_research_paper.pdf', 'page': 0}, page_content='memory have so far been only investigated for extractive downstream tasks. We'),\n",
       " Document(metadata={'source': 'rag_research_paper.pdf', 'page': 0}, page_content='explore a general-purpose ﬁne-tuning recipe for retrieval-augmented generation'),\n",
       " Document(metadata={'source': 'rag_research_paper.pdf', 'page': 0}, page_content='(RAG) — models which combine pre-trained parametric and non-parametric mem-'),\n",
       " Document(metadata={'source': 'rag_research_paper.pdf', 'page': 0}, page_content='ory for language generation. We introduce RAG models where the parametric'),\n",
       " Document(metadata={'source': 'rag_research_paper.pdf', 'page': 0}, page_content='memory is a pre-trained seq2seq model and the non-parametric memory is a dense'),\n",
       " Document(metadata={'source': 'rag_research_paper.pdf', 'page': 0}, page_content='vector index of Wikipedia, accessed with a pre-trained neural retriever. We com-'),\n",
       " Document(metadata={'source': 'rag_research_paper.pdf', 'page': 0}, page_content='pare two RAG formulations, one which conditions on the same retrieved passages'),\n",
       " Document(metadata={'source': 'rag_research_paper.pdf', 'page': 0}, page_content='across the whole generated sequence, and another which can use different passages'),\n",
       " Document(metadata={'source': 'rag_research_paper.pdf', 'page': 0}, page_content='per token. We ﬁne-tune and evaluate our models on a wide range of knowledge-'),\n",
       " Document(metadata={'source': 'rag_research_paper.pdf', 'page': 0}, page_content='intensive NLP tasks and set the state of the art on three open domain QA tasks,'),\n",
       " Document(metadata={'source': 'rag_research_paper.pdf', 'page': 0}, page_content='outperforming parametric seq2seq models and task-speciﬁc retrieve-and-extract'),\n",
       " Document(metadata={'source': 'rag_research_paper.pdf', 'page': 0}, page_content='architectures. For language generation tasks, we ﬁnd that RAG models generate'),\n",
       " Document(metadata={'source': 'rag_research_paper.pdf', 'page': 0}, page_content='more speciﬁc, diverse and factual language than a state-of-the-art parametric-only'),\n",
       " Document(metadata={'source': 'rag_research_paper.pdf', 'page': 0}, page_content='seq2seq baseline.\\n1 Introduction'),\n",
       " Document(metadata={'source': 'rag_research_paper.pdf', 'page': 0}, page_content='Pre-trained neural language models have been shown to learn a substantial amount of in-depth knowl-'),\n",
       " Document(metadata={'source': 'rag_research_paper.pdf', 'page': 0}, page_content='edge from data [ 47]. They can do so without any access to an external memory, as a parameterized'),\n",
       " Document(metadata={'source': 'rag_research_paper.pdf', 'page': 0}, page_content='implicit knowledge base [ 51,52]. While this development is exciting, such models do have down-'),\n",
       " Document(metadata={'source': 'rag_research_paper.pdf', 'page': 0}, page_content='sides: They cannot easily expand or revise their memory, can’t straightforwardly provide insight'),\n",
       " Document(metadata={'source': 'rag_research_paper.pdf', 'page': 0}, page_content='insight into'),\n",
       " Document(metadata={'source': 'rag_research_paper.pdf', 'page': 0}, page_content='their predictions, and may produce “hallucinations” [ 38]. Hybrid models that combine parametric'),\n",
       " Document(metadata={'source': 'rag_research_paper.pdf', 'page': 0}, page_content='memory with non-parametric (i.e., retrieval-based) memories [ 20,26,48] can address some of these'),\n",
       " Document(metadata={'source': 'rag_research_paper.pdf', 'page': 0}, page_content='issues because knowledge can be directly revised and expanded, and accessed knowledge can be'),\n",
       " Document(metadata={'source': 'rag_research_paper.pdf', 'page': 0}, page_content='inspected and interpreted. REALM [ 20] and ORQA [ 31], two recently introduced models that'),\n",
       " Document(metadata={'source': 'rag_research_paper.pdf', 'page': 0}, page_content='combine masked language models [ 8] with a differentiable retriever, have shown promising'),\n",
       " Document(metadata={'source': 'rag_research_paper.pdf', 'page': 0}, page_content='promising results,arXiv:2005.11401v4  [cs.CL]  12 Apr 2021'),\n",
       " Document(metadata={'source': 'rag_research_paper.pdf', 'page': 1}, page_content='The\\tDivine\\nComedy\\t(x) qQuery\\nEncoder\\nq(x)\\nMIPS p θGenerator \\xa0pθ\\n(Parametric)\\nMargin-\\nalize'),\n",
       " Document(metadata={'source': 'rag_research_paper.pdf', 'page': 1}, page_content='alize\\nThis\\t14th\\tcentury\\twork\\nis\\tdivided\\tinto\\t3\\nsections:\\t\"Inferno\",\\n\"Purgatorio\"\\t&'),\n",
       " Document(metadata={'source': 'rag_research_paper.pdf', 'page': 1}, page_content='\"Paradiso\"\\t\\t\\t\\t\\t\\t\\t\\t\\t (y)End-to-End Backprop through q and\\xa0 p θ\\nBarack\\tObama\\twas\\nborn\\tin\\tHawaii. (x)'),\n",
       " Document(metadata={'source': 'rag_research_paper.pdf', 'page': 1}, page_content='Fact V eriﬁcation: Fact Querysupports \\t(y)\\nQuestion GenerationFact V eriﬁcation:'),\n",
       " Document(metadata={'source': 'rag_research_paper.pdf', 'page': 1}, page_content='Label GenerationDocument\\nIndexDefine\\t\"middle\\tear\" (x)\\nQuestion Answering:'),\n",
       " Document(metadata={'source': 'rag_research_paper.pdf', 'page': 1}, page_content='Question QueryThe\\tmiddle\\tear\\tincludes\\nthe\\ttympanic\\tcavity\\tand\\nthe\\tthree\\tossicles.\\t\\t (y)'),\n",
       " Document(metadata={'source': 'rag_research_paper.pdf', 'page': 1}, page_content='Question Answering:\\nAnswer GenerationRetriever pη\\n(Non-Parametric)\\nz 4\\nz3\\nz2\\nz 1d(z)'),\n",
       " Document(metadata={'source': 'rag_research_paper.pdf', 'page': 1}, page_content='z 1d(z)\\nJeopardy Question\\nGeneration:'),\n",
       " Document(metadata={'source': 'rag_research_paper.pdf', 'page': 1}, page_content='Answer QueryFigure 1: Overview of our approach. We combine a pre-trained retriever ( Query Encoder'),\n",
       " Document(metadata={'source': 'rag_research_paper.pdf', 'page': 1}, page_content='Encoder +Document'),\n",
       " Document(metadata={'source': 'rag_research_paper.pdf', 'page': 1}, page_content='Index ) with a pre-trained seq2seq model ( Generator ) and ﬁne-tune end-to-end. For query x, we use'),\n",
       " Document(metadata={'source': 'rag_research_paper.pdf', 'page': 1}, page_content='Maximum Inner Product Search (MIPS) to ﬁnd the top-K documents zi. For ﬁnal prediction y, we'),\n",
       " Document(metadata={'source': 'rag_research_paper.pdf', 'page': 1}, page_content='treatzas a latent variable and marginalize over seq2seq predictions given different documents.'),\n",
       " Document(metadata={'source': 'rag_research_paper.pdf', 'page': 1}, page_content='but have only explored open-domain extractive question answering. Here, we bring hybrid parametric'),\n",
       " Document(metadata={'source': 'rag_research_paper.pdf', 'page': 1}, page_content='and non-parametric memory to the “workhorse of NLP,” i.e. sequence-to-sequence (seq2seq) models.'),\n",
       " Document(metadata={'source': 'rag_research_paper.pdf', 'page': 1}, page_content='We endow pre-trained, parametric-memory generation models with a non-parametric memory through'),\n",
       " Document(metadata={'source': 'rag_research_paper.pdf', 'page': 1}, page_content='a general-purpose ﬁne-tuning approach which we refer to as retrieval-augmented generation (RAG).'),\n",
       " Document(metadata={'source': 'rag_research_paper.pdf', 'page': 1}, page_content='We build RAG models where the parametric memory is a pre-trained seq2seq transformer, and the'),\n",
       " Document(metadata={'source': 'rag_research_paper.pdf', 'page': 1}, page_content='non-parametric memory is a dense vector index of Wikipedia, accessed with a pre-trained neural'),\n",
       " Document(metadata={'source': 'rag_research_paper.pdf', 'page': 1}, page_content='retriever. We combine these components in a probabilistic model trained end-to-end (Fig. 1). The'),\n",
       " Document(metadata={'source': 'rag_research_paper.pdf', 'page': 1}, page_content='retriever (Dense Passage Retriever [ 26], henceforth DPR) provides latent documents conditioned on'),\n",
       " Document(metadata={'source': 'rag_research_paper.pdf', 'page': 1}, page_content='the input, and the seq2seq model (BART [ 32]) then conditions on these latent documents together'),\n",
       " Document(metadata={'source': 'rag_research_paper.pdf', 'page': 1}, page_content='together with'),\n",
       " Document(metadata={'source': 'rag_research_paper.pdf', 'page': 1}, page_content='the input to generate the output. We marginalize the latent documents with a top-K approximation,'),\n",
       " Document(metadata={'source': 'rag_research_paper.pdf', 'page': 1}, page_content='either on a per-output basis (assuming the same document is responsible for all tokens) or a'),\n",
       " Document(metadata={'source': 'rag_research_paper.pdf', 'page': 1}, page_content='or a per-token'),\n",
       " Document(metadata={'source': 'rag_research_paper.pdf', 'page': 1}, page_content='basis (where different documents are responsible for different tokens). Like T5 [ 51] or BART, RAG'),\n",
       " Document(metadata={'source': 'rag_research_paper.pdf', 'page': 1}, page_content='can be ﬁne-tuned on any seq2seq task, whereby both the generator and retriever are jointly learned.'),\n",
       " Document(metadata={'source': 'rag_research_paper.pdf', 'page': 1}, page_content='There has been extensive previous work proposing architectures to enrich systems with'),\n",
       " Document(metadata={'source': 'rag_research_paper.pdf', 'page': 1}, page_content='with non-parametric'),\n",
       " Document(metadata={'source': 'rag_research_paper.pdf', 'page': 1}, page_content='memory which are trained from scratch for speciﬁc tasks, e.g. memory networks [ 64,55], stack-'),\n",
       " Document(metadata={'source': 'rag_research_paper.pdf', 'page': 1}, page_content='augmented networks [ 25] and memory layers [ 30]. In contrast, we explore a setting where both'),\n",
       " Document(metadata={'source': 'rag_research_paper.pdf', 'page': 1}, page_content='parametric and non-parametric memory components are pre-trained and pre-loaded with extensive'),\n",
       " Document(metadata={'source': 'rag_research_paper.pdf', 'page': 1}, page_content='knowledge. Crucially, by using pre-trained access mechanisms, the ability to access knowledge is'),\n",
       " Document(metadata={'source': 'rag_research_paper.pdf', 'page': 1}, page_content='present without additional training.'),\n",
       " Document(metadata={'source': 'rag_research_paper.pdf', 'page': 1}, page_content='Our results highlight the beneﬁts of combining parametric and non-parametric memory with genera-'),\n",
       " Document(metadata={'source': 'rag_research_paper.pdf', 'page': 1}, page_content='tion for knowledge-intensive tasks —tasks that humans could not reasonably be expected to perform'),\n",
       " Document(metadata={'source': 'rag_research_paper.pdf', 'page': 1}, page_content='without access to an external knowledge source. Our RAG models achieve state-of-the-art results'),\n",
       " Document(metadata={'source': 'rag_research_paper.pdf', 'page': 1}, page_content='on open Natural Questions [ 29], WebQuestions [ 3] and CuratedTrec [ 2] and strongly outperform'),\n",
       " Document(metadata={'source': 'rag_research_paper.pdf', 'page': 1}, page_content='recent approaches that use specialised pre-training objectives on TriviaQA [ 24]. Despite these'),\n",
       " Document(metadata={'source': 'rag_research_paper.pdf', 'page': 1}, page_content='these being'),\n",
       " Document(metadata={'source': 'rag_research_paper.pdf', 'page': 1}, page_content='extractive tasks, we ﬁnd that unconstrained generation outperforms previous extractive approaches.'),\n",
       " Document(metadata={'source': 'rag_research_paper.pdf', 'page': 1}, page_content='For knowledge-intensive generation, we experiment with MS-MARCO [ 1] and Jeopardy question'),\n",
       " Document(metadata={'source': 'rag_research_paper.pdf', 'page': 1}, page_content='generation, and we ﬁnd that our models generate responses that are more factual, speciﬁc, and'),\n",
       " Document(metadata={'source': 'rag_research_paper.pdf', 'page': 1}, page_content='diverse than a BART baseline. For FEVER [ 56] fact veriﬁcation, we achieve results within 4.3% of'),\n",
       " Document(metadata={'source': 'rag_research_paper.pdf', 'page': 1}, page_content='state-of-the-art pipeline models which use strong retrieval supervision. Finally, we demonstrate'),\n",
       " Document(metadata={'source': 'rag_research_paper.pdf', 'page': 1}, page_content='that'),\n",
       " Document(metadata={'source': 'rag_research_paper.pdf', 'page': 1}, page_content='the non-parametric memory can be replaced to update the models’ knowledge as the world changes.1'),\n",
       " Document(metadata={'source': 'rag_research_paper.pdf', 'page': 1}, page_content='2 Methods'),\n",
       " Document(metadata={'source': 'rag_research_paper.pdf', 'page': 1}, page_content='We explore RAG models, which use the input sequence xto retrieve text documents zand use them'),\n",
       " Document(metadata={'source': 'rag_research_paper.pdf', 'page': 1}, page_content='as additional context when generating the target sequence y. As shown in Figure 1, our models'),\n",
       " Document(metadata={'source': 'rag_research_paper.pdf', 'page': 1}, page_content='leverage two components: (i) a retriever pη(z|x)with parameters ηthat returns (top-K truncated)'),\n",
       " Document(metadata={'source': 'rag_research_paper.pdf', 'page': 1}, page_content='distributions over text passages given a query xand (ii) a generator pθ(yi|x,z,y 1:i−1)parametrized'),\n",
       " Document(metadata={'source': 'rag_research_paper.pdf', 'page': 1}, page_content='1Code to run experiments with RAG has been open-sourced as part of the HuggingFace Transform-'),\n",
       " Document(metadata={'source': 'rag_research_paper.pdf', 'page': 1}, page_content='ers Library [ 66] and can be found at https://github.com/huggingface/transformers/blob/master/'),\n",
       " Document(metadata={'source': 'rag_research_paper.pdf', 'page': 1}, page_content='examples/rag/ . An interactive demo of RAG models can be found at https://huggingface.co/rag/\\n2'),\n",
       " Document(metadata={'source': 'rag_research_paper.pdf', 'page': 2}, page_content='byθthat generates a current token based on a context of the previous i−1tokensy1:i−1, the original'),\n",
       " Document(metadata={'source': 'rag_research_paper.pdf', 'page': 2}, page_content='inputxand a retrieved passage z.'),\n",
       " Document(metadata={'source': 'rag_research_paper.pdf', 'page': 2}, page_content='To train the retriever and generator end-to-end, we treat the retrieved document as a latent'),\n",
       " Document(metadata={'source': 'rag_research_paper.pdf', 'page': 2}, page_content='a latent variable.'),\n",
       " Document(metadata={'source': 'rag_research_paper.pdf', 'page': 2}, page_content='We propose two models that marginalize over the latent documents in different ways to produce a'),\n",
       " Document(metadata={'source': 'rag_research_paper.pdf', 'page': 2}, page_content='distribution over generated text. In one approach, RAG-Sequence , the model uses the same document'),\n",
       " Document(metadata={'source': 'rag_research_paper.pdf', 'page': 2}, page_content='to predict each target token. The second approach, RAG-Token , can predict each target token based'),\n",
       " Document(metadata={'source': 'rag_research_paper.pdf', 'page': 2}, page_content='on a different document. In the following, we formally introduce both models and then describe the'),\n",
       " Document(metadata={'source': 'rag_research_paper.pdf', 'page': 2}, page_content='pηandpθcomponents, as well as the training and decoding procedure.\\n2.1 Models'),\n",
       " Document(metadata={'source': 'rag_research_paper.pdf', 'page': 2}, page_content='RAG-Sequence Model The RAG-Sequence model uses the same retrieved document to generate'),\n",
       " Document(metadata={'source': 'rag_research_paper.pdf', 'page': 2}, page_content='the complete sequence . Technically, it treats the retrieved document as a single latent variable'),\n",
       " Document(metadata={'source': 'rag_research_paper.pdf', 'page': 2}, page_content='variable that'),\n",
       " Document(metadata={'source': 'rag_research_paper.pdf', 'page': 2}, page_content='is marginalized to get the seq2seq probability p(y|x)via a top-K approximation. Concretely, the'),\n",
       " Document(metadata={'source': 'rag_research_paper.pdf', 'page': 2}, page_content='top K documents are retrieved using the retriever, and the generator produces the output sequence'),\n",
       " Document(metadata={'source': 'rag_research_paper.pdf', 'page': 2}, page_content='probability for each document, which are then marginalized,\\npRAG-Sequence (y|x)≈∑'),\n",
       " Document(metadata={'source': 'rag_research_paper.pdf', 'page': 2}, page_content='z∈top-k(p(·|x))pη(z|x)pθ(y|x,z) =∑\\nz∈top-k(p(·|x))pη(z|x)N∏\\nipθ(yi|x,z,y 1:i−1)'),\n",
       " Document(metadata={'source': 'rag_research_paper.pdf', 'page': 2}, page_content='RAG-Token Model In the RAG-Token model we can draw a different latent document for each'),\n",
       " Document(metadata={'source': 'rag_research_paper.pdf', 'page': 2}, page_content='target token and marginalize accordingly. This allows the generator to choose content from several'),\n",
       " Document(metadata={'source': 'rag_research_paper.pdf', 'page': 2}, page_content='documents when producing an answer. Concretely, the top K documents are retrieved using the'),\n",
       " Document(metadata={'source': 'rag_research_paper.pdf', 'page': 2}, page_content='retriever, and then the generator produces a distribution for the next output token for each'),\n",
       " Document(metadata={'source': 'rag_research_paper.pdf', 'page': 2}, page_content='for each document,'),\n",
       " Document(metadata={'source': 'rag_research_paper.pdf', 'page': 2}, page_content='before marginalizing, and repeating the process with the following output token, Formally, we'),\n",
       " Document(metadata={'source': 'rag_research_paper.pdf', 'page': 2}, page_content='we deﬁne:'),\n",
       " Document(metadata={'source': 'rag_research_paper.pdf', 'page': 2}, page_content='pRAG-Token (y|x)≈N∏\\ni∑\\nz∈top-k(p(·|x))pη(z|x)pθ(yi|x,z,y 1:i−1)'),\n",
       " Document(metadata={'source': 'rag_research_paper.pdf', 'page': 2}, page_content='Finally, we note that RAG can be used for sequence classiﬁcation tasks by considering the target'),\n",
       " Document(metadata={'source': 'rag_research_paper.pdf', 'page': 2}, page_content='target class'),\n",
       " Document(metadata={'source': 'rag_research_paper.pdf', 'page': 2}, page_content='as a target sequence of length one, in which case RAG-Sequence and RAG-Token are equivalent.'),\n",
       " Document(metadata={'source': 'rag_research_paper.pdf', 'page': 2}, page_content='2.2 Retriever: DPR'),\n",
       " Document(metadata={'source': 'rag_research_paper.pdf', 'page': 2}, page_content='The retrieval component pη(z|x)is based on DPR [26]. DPR follows a bi-encoder architecture:'),\n",
       " Document(metadata={'source': 'rag_research_paper.pdf', 'page': 2}, page_content='pη(z|x)∝exp(\\nd(z)⊤q(x))\\nd(z) =BERTd(z),q(x) =BERTq(x)'),\n",
       " Document(metadata={'source': 'rag_research_paper.pdf', 'page': 2}, page_content='where d(z)is a dense representation of a document produced by a BERT BASE document encoder [8],'),\n",
       " Document(metadata={'source': 'rag_research_paper.pdf', 'page': 2}, page_content='andq(x)a query representation produced by a query encoder , also based on BERT BASE. Calculating'),\n",
       " Document(metadata={'source': 'rag_research_paper.pdf', 'page': 2}, page_content='top-k (pη(·|x)), the list ofkdocumentszwith highest prior probability pη(z|x), is a Maximum Inner'),\n",
       " Document(metadata={'source': 'rag_research_paper.pdf', 'page': 2}, page_content='Product Search (MIPS) problem, which can be approximately solved in sub-linear time [ 23]. We use'),\n",
       " Document(metadata={'source': 'rag_research_paper.pdf', 'page': 2}, page_content='a pre-trained bi-encoder from DPR to initialize our retriever and to build the document index. This'),\n",
       " Document(metadata={'source': 'rag_research_paper.pdf', 'page': 2}, page_content='retriever was trained to retrieve documents which contain answers to TriviaQA [ 24] questions and'),\n",
       " Document(metadata={'source': 'rag_research_paper.pdf', 'page': 2}, page_content='Natural Questions [29]. We refer to the document index as the non-parametric memory .'),\n",
       " Document(metadata={'source': 'rag_research_paper.pdf', 'page': 2}, page_content='2.3 Generator: BART'),\n",
       " Document(metadata={'source': 'rag_research_paper.pdf', 'page': 2}, page_content='The generator component pθ(yi|x,z,y 1:i−1)could be modelled using any encoder-decoder. We use'),\n",
       " Document(metadata={'source': 'rag_research_paper.pdf', 'page': 2}, page_content='BART-large [ 32], a pre-trained seq2seq transformer [ 58] with 400M parameters. To combine the'),\n",
       " Document(metadata={'source': 'rag_research_paper.pdf', 'page': 2}, page_content='the input'),\n",
       " Document(metadata={'source': 'rag_research_paper.pdf', 'page': 2}, page_content='xwith the retrieved content zwhen generating from BART, we simply concatenate them. BART was'),\n",
       " Document(metadata={'source': 'rag_research_paper.pdf', 'page': 2}, page_content='pre-trained using a denoising objective and a variety of different noising functions. It has'),\n",
       " Document(metadata={'source': 'rag_research_paper.pdf', 'page': 2}, page_content='It has obtained'),\n",
       " Document(metadata={'source': 'rag_research_paper.pdf', 'page': 2}, page_content='state-of-the-art results on a diverse set of generation tasks and outperforms comparably-sized T5'),\n",
       " Document(metadata={'source': 'rag_research_paper.pdf', 'page': 2}, page_content='models [32]. We refer to the BART generator parameters θas the parametric memory henceforth.'),\n",
       " Document(metadata={'source': 'rag_research_paper.pdf', 'page': 2}, page_content='2.4 Training'),\n",
       " Document(metadata={'source': 'rag_research_paper.pdf', 'page': 2}, page_content='We jointly train the retriever and generator components without any direct supervision on what'),\n",
       " Document(metadata={'source': 'rag_research_paper.pdf', 'page': 2}, page_content='document should be retrieved. Given a ﬁne-tuning training corpus of input/output pairs (xj,yj), we'),\n",
       " Document(metadata={'source': 'rag_research_paper.pdf', 'page': 2}, page_content='3'),\n",
       " Document(metadata={'source': 'rag_research_paper.pdf', 'page': 3}, page_content='minimize the negative marginal log-likelihood of each target,∑\\nj−logp(yj|xj)using stochastic'),\n",
       " Document(metadata={'source': 'rag_research_paper.pdf', 'page': 3}, page_content='gradient descent with Adam [ 28]. Updating the document encoder BERTdduring training is costly as'),\n",
       " Document(metadata={'source': 'rag_research_paper.pdf', 'page': 3}, page_content='it requires the document index to be periodically updated as REALM does during pre-training [ 20].'),\n",
       " Document(metadata={'source': 'rag_research_paper.pdf', 'page': 3}, page_content='We do not ﬁnd this step necessary for strong performance, and keep the document encoder (and'),\n",
       " Document(metadata={'source': 'rag_research_paper.pdf', 'page': 3}, page_content='index) ﬁxed, only ﬁne-tuning the query encoder BERT qand the BART generator.\\n2.5 Decoding'),\n",
       " Document(metadata={'source': 'rag_research_paper.pdf', 'page': 3}, page_content='At test time, RAG-Sequence and RAG-Token require different ways to approximate arg maxyp(y|x).'),\n",
       " Document(metadata={'source': 'rag_research_paper.pdf', 'page': 3}, page_content='RAG-Token The RAG-Token model can be seen as a standard, autoregressive seq2seq genera-'),\n",
       " Document(metadata={'source': 'rag_research_paper.pdf', 'page': 3}, page_content='tor with transition probability: p′\\nθ(yi|x,y 1:i−1) =∑\\nz∈top-k(p(·|x))pη(zi|x)pθ(yi|x,zi,y1:i−1)To'),\n",
       " Document(metadata={'source': 'rag_research_paper.pdf', 'page': 3}, page_content='decode, we can plug p′\\nθ(yi|x,y 1:i−1)into a standard beam decoder.'),\n",
       " Document(metadata={'source': 'rag_research_paper.pdf', 'page': 3}, page_content='RAG-Sequence For RAG-Sequence, the likelihood p(y|x)does not break into a conventional per-'),\n",
       " Document(metadata={'source': 'rag_research_paper.pdf', 'page': 3}, page_content='token likelihood, hence we cannot solve it with a single beam search. Instead, we run beam search'),\n",
       " Document(metadata={'source': 'rag_research_paper.pdf', 'page': 3}, page_content='search for'),\n",
       " Document(metadata={'source': 'rag_research_paper.pdf', 'page': 3}, page_content='each document z, scoring each hypothesis using pθ(yi|x,z,y 1:i−1). This yields a set of hypotheses'),\n",
       " Document(metadata={'source': 'rag_research_paper.pdf', 'page': 3}, page_content='Y, some of which may not have appeared in the beams of all documents. To estimate the probability'),\n",
       " Document(metadata={'source': 'rag_research_paper.pdf', 'page': 3}, page_content='of an hypothesis ywe run an additional forward pass for each document zfor whichydoes not'),\n",
       " Document(metadata={'source': 'rag_research_paper.pdf', 'page': 3}, page_content='appear in the beam, multiply generator probability with pη(z|x)and then sum the probabilities'),\n",
       " Document(metadata={'source': 'rag_research_paper.pdf', 'page': 3}, page_content='across'),\n",
       " Document(metadata={'source': 'rag_research_paper.pdf', 'page': 3}, page_content='beams for the marginals. We refer to this decoding procedure as “Thorough Decoding.” For longer'),\n",
       " Document(metadata={'source': 'rag_research_paper.pdf', 'page': 3}, page_content='output sequences,|Y|can become large, requiring many forward passes. For more efﬁcient decoding,'),\n",
       " Document(metadata={'source': 'rag_research_paper.pdf', 'page': 3}, page_content='we can make a further approximation that pθ(y|x,zi)≈0whereywas not generated during beam'),\n",
       " Document(metadata={'source': 'rag_research_paper.pdf', 'page': 3}, page_content='search from x,zi. This avoids the need to run additional forward passes once the candidate set Yhas'),\n",
       " Document(metadata={'source': 'rag_research_paper.pdf', 'page': 3}, page_content='been generated. We refer to this decoding procedure as “Fast Decoding.”\\n3 Experiments'),\n",
       " Document(metadata={'source': 'rag_research_paper.pdf', 'page': 3}, page_content='We experiment with RAG in a wide range of knowledge-intensive tasks. For all experiments, we use'),\n",
       " Document(metadata={'source': 'rag_research_paper.pdf', 'page': 3}, page_content='a single Wikipedia dump for our non-parametric knowledge source. Following Lee et al. [31] and'),\n",
       " Document(metadata={'source': 'rag_research_paper.pdf', 'page': 3}, page_content='Karpukhin et al. [26], we use the December 2018 dump. Each Wikipedia article is split into disjoint'),\n",
       " Document(metadata={'source': 'rag_research_paper.pdf', 'page': 3}, page_content='100-word chunks, to make a total of 21M documents. We use the document encoder to compute an'),\n",
       " Document(metadata={'source': 'rag_research_paper.pdf', 'page': 3}, page_content='embedding for each document, and build a single MIPS index using FAISS [ 23] with a Hierarchical'),\n",
       " Document(metadata={'source': 'rag_research_paper.pdf', 'page': 3}, page_content='Navigable Small World approximation for fast retrieval [ 37]. During training, we retrieve the top'),\n",
       " Document(metadata={'source': 'rag_research_paper.pdf', 'page': 3}, page_content='kdocuments for each query. We consider k∈{5,10}for training and set kfor test time using dev'),\n",
       " Document(metadata={'source': 'rag_research_paper.pdf', 'page': 3}, page_content='data. We now discuss experimental details for each task.\\n3.1 Open-domain Question Answering'),\n",
       " Document(metadata={'source': 'rag_research_paper.pdf', 'page': 3}, page_content='Open-domain question answering (QA) is an important real-world application and common testbed'),\n",
       " Document(metadata={'source': 'rag_research_paper.pdf', 'page': 3}, page_content='for knowledge-intensive tasks [ 20]. We treat questions and answers as input-output text pairs'),\n",
       " Document(metadata={'source': 'rag_research_paper.pdf', 'page': 3}, page_content='pairs (x,y)'),\n",
       " Document(metadata={'source': 'rag_research_paper.pdf', 'page': 3}, page_content='and train RAG by directly minimizing the negative log-likelihood of answers. We compare RAG to'),\n",
       " Document(metadata={'source': 'rag_research_paper.pdf', 'page': 3}, page_content='the popular extractive QA paradigm [ 5,7,31,26], where answers are extracted spans from retrieved'),\n",
       " Document(metadata={'source': 'rag_research_paper.pdf', 'page': 3}, page_content='documents, relying primarily on non-parametric knowledge. We also compare to “Closed-Book'),\n",
       " Document(metadata={'source': 'rag_research_paper.pdf', 'page': 3}, page_content='QA” approaches [ 52], which, like RAG, generate answers, but which do not exploit retrieval,'),\n",
       " Document(metadata={'source': 'rag_research_paper.pdf', 'page': 3}, page_content='instead'),\n",
       " Document(metadata={'source': 'rag_research_paper.pdf', 'page': 3}, page_content='relying purely on parametric knowledge. We consider four popular open-domain QA datasets: Natural'),\n",
       " Document(metadata={'source': 'rag_research_paper.pdf', 'page': 3}, page_content='Questions (NQ) [ 29], TriviaQA (TQA) [ 24]. WebQuestions (WQ) [ 3] and CuratedTrec (CT) [ 2]. As'),\n",
       " Document(metadata={'source': 'rag_research_paper.pdf', 'page': 3}, page_content='CT and WQ are small, we follow DPR [ 26] by initializing CT and WQ models with our NQ RAG'),\n",
       " Document(metadata={'source': 'rag_research_paper.pdf', 'page': 3}, page_content='model. We use the same train/dev/test splits as prior work [ 31,26] and report Exact Match (EM)'),\n",
       " Document(metadata={'source': 'rag_research_paper.pdf', 'page': 3}, page_content='scores. For TQA, to compare with T5 [52], we also evaluate on the TQA Wiki test set.'),\n",
       " Document(metadata={'source': 'rag_research_paper.pdf', 'page': 3}, page_content='3.2 Abstractive Question Answering'),\n",
       " Document(metadata={'source': 'rag_research_paper.pdf', 'page': 3}, page_content='RAG models can go beyond simple extractive QA and answer questions with free-form, abstractive'),\n",
       " Document(metadata={'source': 'rag_research_paper.pdf', 'page': 3}, page_content='text generation. To test RAG’s natural language generation (NLG) in a knowledge-intensive setting,'),\n",
       " Document(metadata={'source': 'rag_research_paper.pdf', 'page': 3}, page_content='we use the MSMARCO NLG task v2.1 [ 43]. The task consists of questions, ten gold passages'),\n",
       " Document(metadata={'source': 'rag_research_paper.pdf', 'page': 3}, page_content='retrieved from a search engine for each question, and a full sentence answer annotated from the'),\n",
       " Document(metadata={'source': 'rag_research_paper.pdf', 'page': 3}, page_content='retrieved passages. We do not use the supplied passages, only the questions and answers, to treat\\n4'),\n",
       " Document(metadata={'source': 'rag_research_paper.pdf', 'page': 4}, page_content='MSMARCO as an open-domain abstractive QA task. MSMARCO has some questions that cannot be'),\n",
       " Document(metadata={'source': 'rag_research_paper.pdf', 'page': 4}, page_content='answered in a way that matches the reference answer without access to the gold passages, such as'),\n",
       " Document(metadata={'source': 'rag_research_paper.pdf', 'page': 4}, page_content='“What is the weather in V olcano, CA?” so performance will be lower without using gold passages.'),\n",
       " Document(metadata={'source': 'rag_research_paper.pdf', 'page': 4}, page_content='We also note that some MSMARCO questions cannot be answered using Wikipedia alone. Here,'),\n",
       " Document(metadata={'source': 'rag_research_paper.pdf', 'page': 4}, page_content='RAG can rely on parametric knowledge to generate reasonable responses.'),\n",
       " Document(metadata={'source': 'rag_research_paper.pdf', 'page': 4}, page_content='3.3 Jeopardy Question Generation'),\n",
       " Document(metadata={'source': 'rag_research_paper.pdf', 'page': 4}, page_content='To evaluate RAG’s generation abilities in a non-QA setting, we study open-domain question gen-'),\n",
       " Document(metadata={'source': 'rag_research_paper.pdf', 'page': 4}, page_content='eration. Rather than use questions from standard open-domain QA tasks, which typically consist'),\n",
       " Document(metadata={'source': 'rag_research_paper.pdf', 'page': 4}, page_content='of short, simple questions, we propose the more demanding task of generating Jeopardy questions.'),\n",
       " Document(metadata={'source': 'rag_research_paper.pdf', 'page': 4}, page_content='Jeopardy is an unusual format that consists of trying to guess an entity from a fact about that'),\n",
       " Document(metadata={'source': 'rag_research_paper.pdf', 'page': 4}, page_content='that entity.'),\n",
       " Document(metadata={'source': 'rag_research_paper.pdf', 'page': 4}, page_content='For example, “The World Cup” is the answer to the question “In 1986 Mexico scored as the ﬁrst'),\n",
       " Document(metadata={'source': 'rag_research_paper.pdf', 'page': 4}, page_content='country to host this international sports competition twice.” As Jeopardy questions are precise,'),\n",
       " Document(metadata={'source': 'rag_research_paper.pdf', 'page': 4}, page_content='factual statements, generating Jeopardy questions conditioned on their answer entities constitutes'),\n",
       " Document(metadata={'source': 'rag_research_paper.pdf', 'page': 4}, page_content='a'),\n",
       " Document(metadata={'source': 'rag_research_paper.pdf', 'page': 4}, page_content='challenging knowledge-intensive generation task.'),\n",
       " Document(metadata={'source': 'rag_research_paper.pdf', 'page': 4}, page_content='We use the splits from SearchQA [ 10], with 100K train, 14K dev, and 27K test examples. As'),\n",
       " Document(metadata={'source': 'rag_research_paper.pdf', 'page': 4}, page_content='this is a new task, we train a BART model for comparison. Following [ 67], we evaluate using the'),\n",
       " Document(metadata={'source': 'rag_research_paper.pdf', 'page': 4}, page_content='SQuAD-tuned Q-BLEU-1 metric [ 42]. Q-BLEU is a variant of BLEU with a higher weight for'),\n",
       " Document(metadata={'source': 'rag_research_paper.pdf', 'page': 4}, page_content='matching entities and has higher correlation with human judgment for question generation than'),\n",
       " Document(metadata={'source': 'rag_research_paper.pdf', 'page': 4}, page_content='standard metrics. We also perform two human evaluations, one to assess generation factuality, and'),\n",
       " Document(metadata={'source': 'rag_research_paper.pdf', 'page': 4}, page_content='one for speciﬁcity. We deﬁne factuality as whether a statement can be corroborated by trusted'),\n",
       " Document(metadata={'source': 'rag_research_paper.pdf', 'page': 4}, page_content='trusted external'),\n",
       " Document(metadata={'source': 'rag_research_paper.pdf', 'page': 4}, page_content='sources, and speciﬁcity as high mutual dependence between the input and output [ 33]. We follow'),\n",
       " Document(metadata={'source': 'rag_research_paper.pdf', 'page': 4}, page_content='best practice and use pairwise comparative evaluation [ 34]. Evaluators are shown an answer and two'),\n",
       " Document(metadata={'source': 'rag_research_paper.pdf', 'page': 4}, page_content='generated questions, one from BART and one from RAG. They are then asked to pick one of four'),\n",
       " Document(metadata={'source': 'rag_research_paper.pdf', 'page': 4}, page_content='options—quuestion A is better, question B is better, both are good, or neither is good.'),\n",
       " Document(metadata={'source': 'rag_research_paper.pdf', 'page': 4}, page_content='3.4 Fact Veriﬁcation'),\n",
       " Document(metadata={'source': 'rag_research_paper.pdf', 'page': 4}, page_content='FEVER [ 56] requires classifying whether a natural language claim is supported or refuted by'),\n",
       " Document(metadata={'source': 'rag_research_paper.pdf', 'page': 4}, page_content='Wikipedia, or whether there is not enough information to decide. The task requires retrieving'),\n",
       " Document(metadata={'source': 'rag_research_paper.pdf', 'page': 4}, page_content='evidence from Wikipedia relating to the claim and then reasoning over this evidence to classify'),\n",
       " Document(metadata={'source': 'rag_research_paper.pdf', 'page': 4}, page_content='whether the claim is true, false, or unveriﬁable from Wikipedia alone. FEVER is a retrieval problem'),\n",
       " Document(metadata={'source': 'rag_research_paper.pdf', 'page': 4}, page_content='coupled with an challenging entailment reasoning task. It also provides an appropriate testbed for'),\n",
       " Document(metadata={'source': 'rag_research_paper.pdf', 'page': 4}, page_content='exploring the RAG models’ ability to handle classiﬁcation rather than generation. We map FEVER'),\n",
       " Document(metadata={'source': 'rag_research_paper.pdf', 'page': 4}, page_content='class labels (supports, refutes, or not enough info) to single output tokens and directly train'),\n",
       " Document(metadata={'source': 'rag_research_paper.pdf', 'page': 4}, page_content='train with'),\n",
       " Document(metadata={'source': 'rag_research_paper.pdf', 'page': 4}, page_content='claim-class pairs. Crucially, unlike most other approaches to FEVER, we do not use supervision on'),\n",
       " Document(metadata={'source': 'rag_research_paper.pdf', 'page': 4}, page_content='retrieved evidence. In many real-world applications, retrieval supervision signals aren’t'),\n",
       " Document(metadata={'source': 'rag_research_paper.pdf', 'page': 4}, page_content='aren’t available, and'),\n",
       " Document(metadata={'source': 'rag_research_paper.pdf', 'page': 4}, page_content='models that do not require such supervision will be applicable to a wider range of tasks. We'),\n",
       " Document(metadata={'source': 'rag_research_paper.pdf', 'page': 4}, page_content='tasks. We explore'),\n",
       " Document(metadata={'source': 'rag_research_paper.pdf', 'page': 4}, page_content='two variants: the standard 3-way classiﬁcation task (supports/refutes/not enough info) and the'),\n",
       " Document(metadata={'source': 'rag_research_paper.pdf', 'page': 4}, page_content='and the 2-way'),\n",
       " Document(metadata={'source': 'rag_research_paper.pdf', 'page': 4}, page_content='(supports/refutes) task studied in Thorne and Vlachos [57]. In both cases we report label accuracy.'),\n",
       " Document(metadata={'source': 'rag_research_paper.pdf', 'page': 4}, page_content='4 Results\\n4.1 Open-domain Question Answering'),\n",
       " Document(metadata={'source': 'rag_research_paper.pdf', 'page': 4}, page_content='Table 1 shows results for RAG along with state-of-the-art models. On all four open-domain QA'),\n",
       " Document(metadata={'source': 'rag_research_paper.pdf', 'page': 4}, page_content='tasks, RAG sets a new state of the art (only on the T5-comparable split for TQA). RAG combines'),\n",
       " Document(metadata={'source': 'rag_research_paper.pdf', 'page': 4}, page_content='the generation ﬂexibility of the “closed-book” (parametric only) approaches and the performance of'),\n",
       " Document(metadata={'source': 'rag_research_paper.pdf', 'page': 4}, page_content='\"open-book\" retrieval-based approaches. Unlike REALM and T5+SSM, RAG enjoys strong results'),\n",
       " Document(metadata={'source': 'rag_research_paper.pdf', 'page': 4}, page_content='without expensive, specialized “salient span masking” pre-training [ 20]. It is worth noting that'),\n",
       " Document(metadata={'source': 'rag_research_paper.pdf', 'page': 4}, page_content='that RAG’s'),\n",
       " Document(metadata={'source': 'rag_research_paper.pdf', 'page': 4}, page_content='retriever is initialized using DPR’s retriever, which uses retrieval supervision on Natural'),\n",
       " Document(metadata={'source': 'rag_research_paper.pdf', 'page': 4}, page_content='Natural Questions'),\n",
       " Document(metadata={'source': 'rag_research_paper.pdf', 'page': 4}, page_content='and TriviaQA. RAG compares favourably to the DPR QA system, which uses a BERT-based “cross-'),\n",
       " Document(metadata={'source': 'rag_research_paper.pdf', 'page': 4}, page_content='encoder” to re-rank documents, along with an extractive reader. RAG demonstrates that neither a'),\n",
       " Document(metadata={'source': 'rag_research_paper.pdf', 'page': 4}, page_content='re-ranker nor extractive reader is necessary for state-of-the-art performance.'),\n",
       " Document(metadata={'source': 'rag_research_paper.pdf', 'page': 4}, page_content='There are several advantages to generating answers even when it is possible to extract them. Docu-'),\n",
       " Document(metadata={'source': 'rag_research_paper.pdf', 'page': 4}, page_content='ments with clues about the answer but do not contain the answer verbatim can still contribute'),\n",
       " Document(metadata={'source': 'rag_research_paper.pdf', 'page': 4}, page_content='towards'),\n",
       " Document(metadata={'source': 'rag_research_paper.pdf', 'page': 4}, page_content='a correct answer being generated, which is not possible with standard extractive approaches,'),\n",
       " Document(metadata={'source': 'rag_research_paper.pdf', 'page': 4}, page_content='leading'),\n",
       " Document(metadata={'source': 'rag_research_paper.pdf', 'page': 4}, page_content='5'),\n",
       " Document(metadata={'source': 'rag_research_paper.pdf', 'page': 5}, page_content='Table 1: Open-Domain QA Test Scores. For TQA,\\nleft column uses the standard test set for Open-'),\n",
       " Document(metadata={'source': 'rag_research_paper.pdf', 'page': 5}, page_content='Domain QA, right column uses the TQA-Wiki\\ntest set. See Appendix D for further details.'),\n",
       " Document(metadata={'source': 'rag_research_paper.pdf', 'page': 5}, page_content='Model NQ TQA WQ CT\\nClosed\\nBookT5-11B [52] 34.5 - /50.1 37.4 -\\nT5-11B+SSM[52] 36.6 - /60.5 44.7 -'),\n",
       " Document(metadata={'source': 'rag_research_paper.pdf', 'page': 5}, page_content='Open\\nBookREALM [20] 40.4 - / - 40.7 46.8\\nDPR [26] 41.5 57.9/ - 41.1 50.6'),\n",
       " Document(metadata={'source': 'rag_research_paper.pdf', 'page': 5}, page_content='RAG-Token 44.1 55.2/66.1 45.5 50.0'),\n",
       " Document(metadata={'source': 'rag_research_paper.pdf', 'page': 5}, page_content='RAG-Seq. 44.5 56.8/ 68.0 45.2 52.2Table 2: Generation and classiﬁcation Test Scores.'),\n",
       " Document(metadata={'source': 'rag_research_paper.pdf', 'page': 5}, page_content='MS-MARCO SotA is [ 4], FEVER-3 is [ 68] and\\nFEVER-2 is [ 57] *Uses gold context/evidence.'),\n",
       " Document(metadata={'source': 'rag_research_paper.pdf', 'page': 5}, page_content='Best model without gold access underlined.\\nModel Jeopardy MSMARCO FVR3 FVR2'),\n",
       " Document(metadata={'source': 'rag_research_paper.pdf', 'page': 5}, page_content='B-1 QB-1 R-L B-1 Label Acc.\\nSotA - - 49.8*49.9*76.8 92.2 *\\nBART 15.1 19.7 38.2 41.6 64.0 81.1'),\n",
       " Document(metadata={'source': 'rag_research_paper.pdf', 'page': 5}, page_content='RAG-Tok. 17.3 22.2 40.1 41.572.5 89.5RAG-Seq. 14.7 21.4 40.8 44.2'),\n",
       " Document(metadata={'source': 'rag_research_paper.pdf', 'page': 5}, page_content='to more effective marginalization over documents. Furthermore, RAG can generate correct answers'),\n",
       " Document(metadata={'source': 'rag_research_paper.pdf', 'page': 5}, page_content='even when the correct answer is not in any retrieved document, achieving 11.8% accuracy in such'),\n",
       " Document(metadata={'source': 'rag_research_paper.pdf', 'page': 5}, page_content='cases for NQ, where an extractive model would score 0%.\\n4.2 Abstractive Question Answering'),\n",
       " Document(metadata={'source': 'rag_research_paper.pdf', 'page': 5}, page_content='As shown in Table 2, RAG-Sequence outperforms BART on Open MS-MARCO NLG by 2.6 Bleu'),\n",
       " Document(metadata={'source': 'rag_research_paper.pdf', 'page': 5}, page_content='points and 2.6 Rouge-L points. RAG approaches state-of-the-art model performance, which is'),\n",
       " Document(metadata={'source': 'rag_research_paper.pdf', 'page': 5}, page_content='impressive given that (i) those models access gold passages with speciﬁc information required to'),\n",
       " Document(metadata={'source': 'rag_research_paper.pdf', 'page': 5}, page_content='generate the reference answer , (ii) many questions are unanswerable without the gold passages, and'),\n",
       " Document(metadata={'source': 'rag_research_paper.pdf', 'page': 5}, page_content='(iii) not all questions are answerable from Wikipedia alone. Table 3 shows some generated answers'),\n",
       " Document(metadata={'source': 'rag_research_paper.pdf', 'page': 5}, page_content='from our models. Qualitatively, we ﬁnd that RAG models hallucinate less and generate factually'),\n",
       " Document(metadata={'source': 'rag_research_paper.pdf', 'page': 5}, page_content='correct text more often than BART. Later, we also show that RAG generations are more diverse than'),\n",
       " Document(metadata={'source': 'rag_research_paper.pdf', 'page': 5}, page_content='BART generations (see §4.5).\\n4.3 Jeopardy Question Generation'),\n",
       " Document(metadata={'source': 'rag_research_paper.pdf', 'page': 5}, page_content='Table 2 shows that RAG-Token performs better than RAG-Sequence on Jeopardy question generation,'),\n",
       " Document(metadata={'source': 'rag_research_paper.pdf', 'page': 5}, page_content='with both models outperforming BART on Q-BLEU-1. 4 shows human evaluation results, over 452'),\n",
       " Document(metadata={'source': 'rag_research_paper.pdf', 'page': 5}, page_content='pairs of generations from BART and RAG-Token. Evaluators indicated that BART was more factual'),\n",
       " Document(metadata={'source': 'rag_research_paper.pdf', 'page': 5}, page_content='than RAG in only 7.1% of cases, while RAG was more factual in 42.7% of cases, and both RAG and'),\n",
       " Document(metadata={'source': 'rag_research_paper.pdf', 'page': 5}, page_content='BART were factual in a further 17% of cases, clearly demonstrating the effectiveness of RAG on'),\n",
       " Document(metadata={'source': 'rag_research_paper.pdf', 'page': 5}, page_content='the task over a state-of-the-art generation model. Evaluators also ﬁnd RAG generations to be more'),\n",
       " Document(metadata={'source': 'rag_research_paper.pdf', 'page': 5}, page_content='speciﬁc by a large margin. Table 3 shows typical generations from each model.'),\n",
       " Document(metadata={'source': 'rag_research_paper.pdf', 'page': 5}, page_content='Jeopardy questions often contain two separate pieces of information, and RAG-Token may perform'),\n",
       " Document(metadata={'source': 'rag_research_paper.pdf', 'page': 5}, page_content='best because it can generate responses that combine content from several documents. Figure 2 shows'),\n",
       " Document(metadata={'source': 'rag_research_paper.pdf', 'page': 5}, page_content='an example. When generating “Sun”, the posterior is high for document 2 which mentions “The'),\n",
       " Document(metadata={'source': 'rag_research_paper.pdf', 'page': 5}, page_content='Sun Also Rises”. Similarly, document 1 dominates the posterior when “A Farewell to Arms” is'),\n",
       " Document(metadata={'source': 'rag_research_paper.pdf', 'page': 5}, page_content='generated. Intriguingly, after the ﬁrst token of each book is generated, the document posterior'),\n",
       " Document(metadata={'source': 'rag_research_paper.pdf', 'page': 5}, page_content='posterior ﬂattens.'),\n",
       " Document(metadata={'source': 'rag_research_paper.pdf', 'page': 5}, page_content='This observation suggests that the generator can complete the titles without depending on speciﬁc'),\n",
       " Document(metadata={'source': 'rag_research_paper.pdf', 'page': 5}, page_content='documents. In other words, the model’s parametric knowledge is sufﬁcient to complete the titles. We'),\n",
       " Document(metadata={'source': 'rag_research_paper.pdf', 'page': 5}, page_content='ﬁnd evidence for this hypothesis by feeding the BART-only baseline with the partial decoding \"The'),\n",
       " Document(metadata={'source': 'rag_research_paper.pdf', 'page': 5}, page_content='Sun. BART completes the generation \"The SunAlso Rises\" isanovel bythis author of\"The Sun'),\n",
       " Document(metadata={'source': 'rag_research_paper.pdf', 'page': 5}, page_content='Also Rises\" indicating the title \"The Sun Also Rises\" is stored in BART’s parameters. Similarly,'),\n",
       " Document(metadata={'source': 'rag_research_paper.pdf', 'page': 5}, page_content='BART will complete the partial decoding \"The SunAlso Rises\" isanovel bythis author of\"A'),\n",
       " Document(metadata={'source': 'rag_research_paper.pdf', 'page': 5}, page_content='with \"The SunAlso Rises\" isanovel bythis author of\"AFarewell toArms\" . This example shows'),\n",
       " Document(metadata={'source': 'rag_research_paper.pdf', 'page': 5}, page_content='how parametric and non-parametric memories work together —the non-parametric component helps'),\n",
       " Document(metadata={'source': 'rag_research_paper.pdf', 'page': 5}, page_content='to guide the generation, drawing out speciﬁc knowledge stored in the parametric memory.'),\n",
       " Document(metadata={'source': 'rag_research_paper.pdf', 'page': 5}, page_content='4.4 Fact Veriﬁcation'),\n",
       " Document(metadata={'source': 'rag_research_paper.pdf', 'page': 5}, page_content='Table 2 shows our results on FEVER. For 3-way classiﬁcation, RAG scores are within 4.3% of'),\n",
       " Document(metadata={'source': 'rag_research_paper.pdf', 'page': 5}, page_content='state-of-the-art models, which are complex pipeline systems with domain-speciﬁc architectures and'),\n",
       " Document(metadata={'source': 'rag_research_paper.pdf', 'page': 5}, page_content='substantial engineering, trained using intermediate retrieval supervision, which RAG does not'),\n",
       " Document(metadata={'source': 'rag_research_paper.pdf', 'page': 5}, page_content='does not require.'),\n",
       " Document(metadata={'source': 'rag_research_paper.pdf', 'page': 5}, page_content='6'),\n",
       " Document(metadata={'source': 'rag_research_paper.pdf', 'page': 6}, page_content='Document 1 : his works are considered classics of American'),\n",
       " Document(metadata={'source': 'rag_research_paper.pdf', 'page': 6}, page_content='literature ... His wartime experiences formed the basis for his novel'),\n",
       " Document(metadata={'source': 'rag_research_paper.pdf', 'page': 6}, page_content='”A Farewell to Arms” (1929) ...\\nDocument 2 : ... artists of the 1920s ”Lost Generation” expatriate'),\n",
       " Document(metadata={'source': 'rag_research_paper.pdf', 'page': 6}, page_content='community. His debut novel, ”The Sun Also Rises” , was published\\nin 1926.\\nBOS”\\nTheSunAlsoRises”isa'),\n",
       " Document(metadata={'source': 'rag_research_paper.pdf', 'page': 6}, page_content='novelbythis\\nauthorof”A\\nFarewellto\\nArms”Doc 1\\nDoc 2\\nDoc 3\\nDoc 4'),\n",
       " Document(metadata={'source': 'rag_research_paper.pdf', 'page': 6}, page_content='Doc 5Figure 2: RAG-Token document posterior p(zi|x,yi,y−i)for each generated token for input “Hem-'),\n",
       " Document(metadata={'source': 'rag_research_paper.pdf', 'page': 6}, page_content='ingway\" for Jeopardy generation with 5 retrieved documents. The posterior for document 1 is high'),\n",
       " Document(metadata={'source': 'rag_research_paper.pdf', 'page': 6}, page_content='when generating “A Farewell to Arms\" and for document 2 when generating “The Sun Also Rises\".'),\n",
       " Document(metadata={'source': 'rag_research_paper.pdf', 'page': 6}, page_content='Table 3: Examples from generation tasks. RAG models generate more speciﬁc and factually accurate'),\n",
       " Document(metadata={'source': 'rag_research_paper.pdf', 'page': 6}, page_content='responses. ‘?’ indicates factually incorrect responses, * indicates partially correct responses.'),\n",
       " Document(metadata={'source': 'rag_research_paper.pdf', 'page': 6}, page_content='Task Input Model Generation\\nMS-\\nMARCOdeﬁne middle'),\n",
       " Document(metadata={'source': 'rag_research_paper.pdf', 'page': 6}, page_content='earBART?The middle ear is the part of the ear between the middle ear and the nose.'),\n",
       " Document(metadata={'source': 'rag_research_paper.pdf', 'page': 6}, page_content='RAG-T The middle ear is the portion of the ear internal to the eardrum.'),\n",
       " Document(metadata={'source': 'rag_research_paper.pdf', 'page': 6}, page_content='RAG-S The middle ear includes the tympanic cavity and the three ossicles.\\nwhat currency\\nneeded in'),\n",
       " Document(metadata={'source': 'rag_research_paper.pdf', 'page': 6}, page_content='needed in\\nscotlandBART The currency needed in Scotland is Pound sterling.'),\n",
       " Document(metadata={'source': 'rag_research_paper.pdf', 'page': 6}, page_content='RAG-T Pound is the currency needed in Scotland.'),\n",
       " Document(metadata={'source': 'rag_research_paper.pdf', 'page': 6}, page_content='RAG-S The currency needed in Scotland is the pound sterling.\\nJeopardy\\nQuestion\\nGener'),\n",
       " Document(metadata={'source': 'rag_research_paper.pdf', 'page': 6}, page_content='Gener\\n-ationWashingtonBART?This state has the largest number of counties in the U.S.'),\n",
       " Document(metadata={'source': 'rag_research_paper.pdf', 'page': 6}, page_content='RAG-T It’s the only U.S. state named for a U.S. president'),\n",
       " Document(metadata={'source': 'rag_research_paper.pdf', 'page': 6}, page_content='RAG-S It’s the state where you’ll ﬁnd Mount Rainier National Park\\nThe Divine'),\n",
       " Document(metadata={'source': 'rag_research_paper.pdf', 'page': 6}, page_content='ComedyBART*This epic poem by Dante is divided into 3 parts: the Inferno, the Purgatorio & the'),\n",
       " Document(metadata={'source': 'rag_research_paper.pdf', 'page': 6}, page_content='& the Purgatorio'),\n",
       " Document(metadata={'source': 'rag_research_paper.pdf', 'page': 6}, page_content='RAG-T Dante’s \"Inferno\" is the ﬁrst part of this epic poem'),\n",
       " Document(metadata={'source': 'rag_research_paper.pdf', 'page': 6}, page_content='RAG-S This 14th century work is divided into 3 sections: \"Inferno\", \"Purgatorio\" & \"Paradiso\"'),\n",
       " Document(metadata={'source': 'rag_research_paper.pdf', 'page': 6}, page_content='For 2-way classiﬁcation, we compare against Thorne and Vlachos [57], who train RoBERTa [ 35]'),\n",
       " Document(metadata={'source': 'rag_research_paper.pdf', 'page': 6}, page_content='to classify the claim as true or false given the gold evidence sentence. RAG achieves an accuracy'),\n",
       " Document(metadata={'source': 'rag_research_paper.pdf', 'page': 6}, page_content='within 2.7% of this model, despite being supplied with only the claim and retrieving its own'),\n",
       " Document(metadata={'source': 'rag_research_paper.pdf', 'page': 6}, page_content='its own evidence.'),\n",
       " Document(metadata={'source': 'rag_research_paper.pdf', 'page': 6}, page_content='We also analyze whether documents retrieved by RAG correspond to documents annotated as gold'),\n",
       " Document(metadata={'source': 'rag_research_paper.pdf', 'page': 6}, page_content='evidence in FEVER. We calculate the overlap in article titles between the top kdocuments retrieved'),\n",
       " Document(metadata={'source': 'rag_research_paper.pdf', 'page': 6}, page_content='by RAG and gold evidence annotations. We ﬁnd that the top retrieved document is from a gold article'),\n",
       " Document(metadata={'source': 'rag_research_paper.pdf', 'page': 6}, page_content='in 71% of cases, and a gold article is present in the top 10 retrieved articles in 90% of cases.'),\n",
       " Document(metadata={'source': 'rag_research_paper.pdf', 'page': 6}, page_content='4.5 Additional Results'),\n",
       " Document(metadata={'source': 'rag_research_paper.pdf', 'page': 6}, page_content='Generation Diversity Section 4.3 shows that RAG models are more factual and speciﬁc than'),\n",
       " Document(metadata={'source': 'rag_research_paper.pdf', 'page': 6}, page_content='BART for Jeopardy question generation. Following recent work on diversity-promoting decoding'),\n",
       " Document(metadata={'source': 'rag_research_paper.pdf', 'page': 6}, page_content='[33,59,39], we also investigate generation diversity by calculating the ratio of distinct ngrams to'),\n",
       " Document(metadata={'source': 'rag_research_paper.pdf', 'page': 6}, page_content='total ngrams generated by different models. Table 5 shows that RAG-Sequence’s generations are'),\n",
       " Document(metadata={'source': 'rag_research_paper.pdf', 'page': 6}, page_content='more diverse than RAG-Token’s, and both are signiﬁcantly more diverse than BART without needing'),\n",
       " Document(metadata={'source': 'rag_research_paper.pdf', 'page': 6}, page_content='any diversity-promoting decoding.'),\n",
       " Document(metadata={'source': 'rag_research_paper.pdf', 'page': 6}, page_content='Retrieval Ablations A key feature of RAG is learning to retrieve relevant information for the task.'),\n",
       " Document(metadata={'source': 'rag_research_paper.pdf', 'page': 6}, page_content='To assess the effectiveness of the retrieval mechanism, we run ablations where we freeze the'),\n",
       " Document(metadata={'source': 'rag_research_paper.pdf', 'page': 6}, page_content='the retriever'),\n",
       " Document(metadata={'source': 'rag_research_paper.pdf', 'page': 6}, page_content='during training. As shown in Table 6, learned retrieval improves results for all tasks.'),\n",
       " Document(metadata={'source': 'rag_research_paper.pdf', 'page': 6}, page_content='We compare RAG’s dense retriever to a word overlap-based BM25 retriever [ 53]. Here, we replace'),\n",
       " Document(metadata={'source': 'rag_research_paper.pdf', 'page': 6}, page_content='RAG’s retriever with a ﬁxed BM25 system, and use BM25 retrieval scores as logits when calculating'),\n",
       " Document(metadata={'source': 'rag_research_paper.pdf', 'page': 6}, page_content='p(z|x). Table 6 shows the results. For FEVER, BM25 performs best, perhaps since FEVER claims are'),\n",
       " Document(metadata={'source': 'rag_research_paper.pdf', 'page': 6}, page_content='heavily entity-centric and thus well-suited for word overlap-based retrieval. Differentiable'),\n",
       " Document(metadata={'source': 'rag_research_paper.pdf', 'page': 6}, page_content='retrieval'),\n",
       " Document(metadata={'source': 'rag_research_paper.pdf', 'page': 6}, page_content='improves results on all other tasks, especially for Open-Domain QA, where it is crucial.'),\n",
       " Document(metadata={'source': 'rag_research_paper.pdf', 'page': 6}, page_content='Index hot-swapping An advantage of non-parametric memory models like RAG is that knowledge'),\n",
       " Document(metadata={'source': 'rag_research_paper.pdf', 'page': 6}, page_content='can be easily updated at test time. Parametric-only models like T5 or BART need further training to'),\n",
       " Document(metadata={'source': 'rag_research_paper.pdf', 'page': 6}, page_content='update their behavior as the world changes. To demonstrate, we build an index using the DrQA [ 5]'),\n",
       " Document(metadata={'source': 'rag_research_paper.pdf', 'page': 6}, page_content='Wikipedia dump from December 2016 and compare outputs from RAG using this index to the newer'),\n",
       " Document(metadata={'source': 'rag_research_paper.pdf', 'page': 6}, page_content='index from our main results (December 2018). We prepare a list of 82 world leaders who had changed'),\n",
       " Document(metadata={'source': 'rag_research_paper.pdf', 'page': 6}, page_content='7'),\n",
       " Document(metadata={'source': 'rag_research_paper.pdf', 'page': 7}, page_content='Table 4: Human assessments for the Jeopardy\\nQuestion Generation Task.\\nFactuality Speciﬁcity'),\n",
       " Document(metadata={'source': 'rag_research_paper.pdf', 'page': 7}, page_content='BART better 7.1% 16.8%\\nRAG better 42.7% 37.4%\\nBoth good 11.7% 11.8%\\nBoth poor 17.7% 6.9%'),\n",
       " Document(metadata={'source': 'rag_research_paper.pdf', 'page': 7}, page_content='No majority 20.8% 20.1%Table 5: Ratio of distinct to total tri-grams for\\ngeneration tasks.'),\n",
       " Document(metadata={'source': 'rag_research_paper.pdf', 'page': 7}, page_content='MSMARCO Jeopardy QGen\\nGold 89.6% 90.0%\\nBART 70.7% 32.4%\\nRAG-Token 77.8% 46.8%\\nRAG-Seq. 83.5% 53.8%'),\n",
       " Document(metadata={'source': 'rag_research_paper.pdf', 'page': 7}, page_content='Table 6: Ablations on the dev set. As FEVER is a classiﬁcation task, both RAG models are'),\n",
       " Document(metadata={'source': 'rag_research_paper.pdf', 'page': 7}, page_content='are equivalent.'),\n",
       " Document(metadata={'source': 'rag_research_paper.pdf', 'page': 7}, page_content='Model NQ TQA WQ CT Jeopardy-QGen MSMarco FVR-3 FVR-2\\nExact Match B-1 QB-1 R-L B-1 Label Accuracy'),\n",
       " Document(metadata={'source': 'rag_research_paper.pdf', 'page': 7}, page_content='RAG-Token-BM25 29.7 41.5 32.1 33.1 17.5 22.3 55.5 48.475.1 91.6RAG-Sequence-BM25 31.8 44.1 36.6'),\n",
       " Document(metadata={'source': 'rag_research_paper.pdf', 'page': 7}, page_content='44.1 36.6 33.8 11.1 19.5 56.5 46.9'),\n",
       " Document(metadata={'source': 'rag_research_paper.pdf', 'page': 7}, page_content='RAG-Token-Frozen 37.8 50.1 37.1 51.1 16.7 21.7 55.9 49.472.9 89.4RAG-Sequence-Frozen 41.2 52.1 41.8'),\n",
       " Document(metadata={'source': 'rag_research_paper.pdf', 'page': 7}, page_content='52.1 41.8 52.6 11.8 19.6 56.7 47.3'),\n",
       " Document(metadata={'source': 'rag_research_paper.pdf', 'page': 7}, page_content='RAG-Token 43.5 54.8 46.5 51.9 17.9 22.6 56.2 49.474.5 90.6RAG-Sequence 44.0 55.8 44.9 53.4 15.3'),\n",
       " Document(metadata={'source': 'rag_research_paper.pdf', 'page': 7}, page_content='53.4 15.3 21.5 57.2 47.5'),\n",
       " Document(metadata={'source': 'rag_research_paper.pdf', 'page': 7}, page_content='between these dates and use a template “Who is {position}?” (e.g. “Who is the President of Peru?”)'),\n",
       " Document(metadata={'source': 'rag_research_paper.pdf', 'page': 7}, page_content='to query our NQ RAG model with each index. RAG answers 70% correctly using the 2016 index for'),\n",
       " Document(metadata={'source': 'rag_research_paper.pdf', 'page': 7}, page_content='2016 world leaders and 68% using the 2018 index for 2018 world leaders. Accuracy with mismatched'),\n",
       " Document(metadata={'source': 'rag_research_paper.pdf', 'page': 7}, page_content='indices is low (12% with the 2018 index and 2016 leaders, 4% with the 2016 index and 2018 leaders).'),\n",
       " Document(metadata={'source': 'rag_research_paper.pdf', 'page': 7}, page_content='This shows we can update RAG’s world knowledge by simply replacing its non-parametric memory.'),\n",
       " Document(metadata={'source': 'rag_research_paper.pdf', 'page': 7}, page_content='Effect of Retrieving more documents Models are trained with either 5 or 10 retrieved latent'),\n",
       " Document(metadata={'source': 'rag_research_paper.pdf', 'page': 7}, page_content='documents, and we do not observe signiﬁcant differences in performance between them. We have the'),\n",
       " Document(metadata={'source': 'rag_research_paper.pdf', 'page': 7}, page_content='ﬂexibility to adjust the number of retrieved documents at test time, which can affect performance'),\n",
       " Document(metadata={'source': 'rag_research_paper.pdf', 'page': 7}, page_content='and'),\n",
       " Document(metadata={'source': 'rag_research_paper.pdf', 'page': 7}, page_content='runtime. Figure 3 (left) shows that retrieving more documents at test time monotonically improves'),\n",
       " Document(metadata={'source': 'rag_research_paper.pdf', 'page': 7}, page_content='Open-domain QA results for RAG-Sequence, but performance peaks for RAG-Token at 10 retrieved'),\n",
       " Document(metadata={'source': 'rag_research_paper.pdf', 'page': 7}, page_content='documents. Figure 3 (right) shows that retrieving more documents leads to higher Rouge-L for'),\n",
       " Document(metadata={'source': 'rag_research_paper.pdf', 'page': 7}, page_content='RAG-Token at the expense of Bleu-1, but the effect is less pronounced for RAG-Sequence.'),\n",
       " Document(metadata={'source': 'rag_research_paper.pdf', 'page': 7}, page_content='10 20 30 40 50\\nKR e t r i e v e dD o c s394041424344NQ Exact MatchRAG-Tok\\nRAG-Seq\\n10 20 30 40 50'),\n",
       " Document(metadata={'source': 'rag_research_paper.pdf', 'page': 7}, page_content='KR e t r i e v e dD o c s4050607080NQ Answer Recall @ KRAG-Tok\\nRAG-Seq\\nFixed DPR\\nBM25'),\n",
       " Document(metadata={'source': 'rag_research_paper.pdf', 'page': 7}, page_content='BM25\\n10 20 30 40 50\\nKR e t r i e v e dD o c s4850525456Bleu-1 / Rouge-L scoreRAG-Tok R-L'),\n",
       " Document(metadata={'source': 'rag_research_paper.pdf', 'page': 7}, page_content='RAG-Tok B-1\\nRAG-Seq R-L\\nRAG-Seq B-1'),\n",
       " Document(metadata={'source': 'rag_research_paper.pdf', 'page': 7}, page_content='Figure 3: Left: NQ performance as more documents are retrieved. Center: Retrieval recall perfor-'),\n",
       " Document(metadata={'source': 'rag_research_paper.pdf', 'page': 7}, page_content='mance in NQ. Right: MS-MARCO Bleu-1 and Rouge-L as more documents are retrieved.\\n5 Related Work'),\n",
       " Document(metadata={'source': 'rag_research_paper.pdf', 'page': 7}, page_content='Single-Task Retrieval Prior work has shown that retrieval improves performance across a variety of'),\n",
       " Document(metadata={'source': 'rag_research_paper.pdf', 'page': 7}, page_content='NLP tasks when considered in isolation. Such tasks include open-domain question answering [ 5,29],'),\n",
       " Document(metadata={'source': 'rag_research_paper.pdf', 'page': 7}, page_content='fact checking [ 56], fact completion [ 48], long-form question answering [ 12], Wikipedia article'),\n",
       " Document(metadata={'source': 'rag_research_paper.pdf', 'page': 7}, page_content='generation [ 36], dialogue [ 41,65,9,13], translation [ 17], and language modeling [ 19,27]. Our'),\n",
       " Document(metadata={'source': 'rag_research_paper.pdf', 'page': 7}, page_content='work uniﬁes previous successes in incorporating retrieval into individual tasks, showing that a'),\n",
       " Document(metadata={'source': 'rag_research_paper.pdf', 'page': 7}, page_content='that a single'),\n",
       " Document(metadata={'source': 'rag_research_paper.pdf', 'page': 7}, page_content='retrieval-based architecture is capable of achieving strong performance across several tasks.\\n8'),\n",
       " Document(metadata={'source': 'rag_research_paper.pdf', 'page': 8}, page_content='General-Purpose Architectures for NLP Prior work on general-purpose architectures for NLP'),\n",
       " Document(metadata={'source': 'rag_research_paper.pdf', 'page': 8}, page_content='tasks has shown great success without the use of retrieval. A single, pre-trained language model'),\n",
       " Document(metadata={'source': 'rag_research_paper.pdf', 'page': 8}, page_content='has been shown to achieve strong performance on various classiﬁcation tasks in the GLUE bench-'),\n",
       " Document(metadata={'source': 'rag_research_paper.pdf', 'page': 8}, page_content='marks [ 60,61] after ﬁne-tuning [ 49,8]. GPT-2 [ 50] later showed that a single, left-to-right,'),\n",
       " Document(metadata={'source': 'rag_research_paper.pdf', 'page': 8}, page_content='pre-trained'),\n",
       " Document(metadata={'source': 'rag_research_paper.pdf', 'page': 8}, page_content='language model could achieve strong performance across both discriminative and generative tasks.'),\n",
       " Document(metadata={'source': 'rag_research_paper.pdf', 'page': 8}, page_content='For further improvement, BART [ 32] and T5 [ 51,52] propose a single, pre-trained encoder-decoder'),\n",
       " Document(metadata={'source': 'rag_research_paper.pdf', 'page': 8}, page_content='model that leverages bi-directional attention to achieve stronger performance on discriminative'),\n",
       " Document(metadata={'source': 'rag_research_paper.pdf', 'page': 8}, page_content='and generative tasks. Our work aims to expand the space of possible tasks with a single, uniﬁed'),\n",
       " Document(metadata={'source': 'rag_research_paper.pdf', 'page': 8}, page_content='architecture, by learning a retrieval module to augment pre-trained, generative language models.'),\n",
       " Document(metadata={'source': 'rag_research_paper.pdf', 'page': 8}, page_content='Learned Retrieval There is signiﬁcant work on learning to retrieve documents in information'),\n",
       " Document(metadata={'source': 'rag_research_paper.pdf', 'page': 8}, page_content='retrieval, more recently with pre-trained, neural language models [ 44,26] similar to ours. Some'),\n",
       " Document(metadata={'source': 'rag_research_paper.pdf', 'page': 8}, page_content='work optimizes the retrieval module to aid in a speciﬁc, downstream task such as question'),\n",
       " Document(metadata={'source': 'rag_research_paper.pdf', 'page': 8}, page_content='question answering,'),\n",
       " Document(metadata={'source': 'rag_research_paper.pdf', 'page': 8}, page_content='using search [ 46], reinforcement learning [ 6,63,62], or a latent variable approach [ 31,20] as in'),\n",
       " Document(metadata={'source': 'rag_research_paper.pdf', 'page': 8}, page_content='as in our'),\n",
       " Document(metadata={'source': 'rag_research_paper.pdf', 'page': 8}, page_content='work. These successes leverage different retrieval-based architectures and optimization techniques'),\n",
       " Document(metadata={'source': 'rag_research_paper.pdf', 'page': 8}, page_content='to'),\n",
       " Document(metadata={'source': 'rag_research_paper.pdf', 'page': 8}, page_content='achieve strong performance on a single task, while we show that a single retrieval-based'),\n",
       " Document(metadata={'source': 'rag_research_paper.pdf', 'page': 8}, page_content='architecture'),\n",
       " Document(metadata={'source': 'rag_research_paper.pdf', 'page': 8}, page_content='can be ﬁne-tuned for strong performance on a variety of tasks.'),\n",
       " Document(metadata={'source': 'rag_research_paper.pdf', 'page': 8}, page_content='Memory-based Architectures Our document index can be seen as a large external memory for'),\n",
       " Document(metadata={'source': 'rag_research_paper.pdf', 'page': 8}, page_content='neural networks to attend to, analogous to memory networks [ 64,55]. Concurrent work [ 14] learns'),\n",
       " Document(metadata={'source': 'rag_research_paper.pdf', 'page': 8}, page_content='to retrieve a trained embedding for each entity in the input, rather than to retrieve raw text as'),\n",
       " Document(metadata={'source': 'rag_research_paper.pdf', 'page': 8}, page_content='text as in our'),\n",
       " Document(metadata={'source': 'rag_research_paper.pdf', 'page': 8}, page_content='work. Other work improves the ability of dialog models to generate factual text by attending over'),\n",
       " Document(metadata={'source': 'rag_research_paper.pdf', 'page': 8}, page_content='fact embeddings [ 15,13]. A key feature of our memory is that it is comprised of raw text rather'),\n",
       " Document(metadata={'source': 'rag_research_paper.pdf', 'page': 8}, page_content='distributed representations, which makes the memory both (i) human-readable, lending a form of'),\n",
       " Document(metadata={'source': 'rag_research_paper.pdf', 'page': 8}, page_content='interpretability to our model, and (ii) human-writable, enabling us to dynamically update the'),\n",
       " Document(metadata={'source': 'rag_research_paper.pdf', 'page': 8}, page_content='the model’s'),\n",
       " Document(metadata={'source': 'rag_research_paper.pdf', 'page': 8}, page_content='memory by editing the document index. This approach has also been used in knowledge-intensive'),\n",
       " Document(metadata={'source': 'rag_research_paper.pdf', 'page': 8}, page_content='dialog, where generators have been conditioned on retrieved text directly, albeit obtained via'),\n",
       " Document(metadata={'source': 'rag_research_paper.pdf', 'page': 8}, page_content='via TF-IDF'),\n",
       " Document(metadata={'source': 'rag_research_paper.pdf', 'page': 8}, page_content='rather than end-to-end learnt retrieval [9].'),\n",
       " Document(metadata={'source': 'rag_research_paper.pdf', 'page': 8}, page_content='Retrieve-and-Edit approaches Our method shares some similarities with retrieve-and-edit style'),\n",
       " Document(metadata={'source': 'rag_research_paper.pdf', 'page': 8}, page_content='approaches, where a similar training input-output pair is retrieved for a given input, and then'),\n",
       " Document(metadata={'source': 'rag_research_paper.pdf', 'page': 8}, page_content='and then edited'),\n",
       " Document(metadata={'source': 'rag_research_paper.pdf', 'page': 8}, page_content='to provide a ﬁnal output. These approaches have proved successful in a number of domains including'),\n",
       " Document(metadata={'source': 'rag_research_paper.pdf', 'page': 8}, page_content='Machine Translation [ 18,22] and Semantic Parsing [ 21]. Our approach does have several'),\n",
       " Document(metadata={'source': 'rag_research_paper.pdf', 'page': 8}, page_content='several differences,'),\n",
       " Document(metadata={'source': 'rag_research_paper.pdf', 'page': 8}, page_content='including less of emphasis on lightly editing a retrieved item, but on aggregating content from'),\n",
       " Document(metadata={'source': 'rag_research_paper.pdf', 'page': 8}, page_content='from several'),\n",
       " Document(metadata={'source': 'rag_research_paper.pdf', 'page': 8}, page_content='pieces of retrieved content, as well as learning latent retrieval, and retrieving evidence'),\n",
       " Document(metadata={'source': 'rag_research_paper.pdf', 'page': 8}, page_content='evidence documents'),\n",
       " Document(metadata={'source': 'rag_research_paper.pdf', 'page': 8}, page_content='rather than related training pairs. This said, RAG techniques may work well in these settings, and'),\n",
       " Document(metadata={'source': 'rag_research_paper.pdf', 'page': 8}, page_content='could represent promising future work.\\n6 Discussion'),\n",
       " Document(metadata={'source': 'rag_research_paper.pdf', 'page': 8}, page_content='In this work, we presented hybrid generation models with access to parametric and non-parametric'),\n",
       " Document(metadata={'source': 'rag_research_paper.pdf', 'page': 8}, page_content='memory. We showed that our RAG models obtain state of the art results on open-domain QA. We'),\n",
       " Document(metadata={'source': 'rag_research_paper.pdf', 'page': 8}, page_content='found that people prefer RAG’s generation over purely parametric BART, ﬁnding RAG more factual'),\n",
       " Document(metadata={'source': 'rag_research_paper.pdf', 'page': 8}, page_content='and speciﬁc. We conducted an thorough investigation of the learned retrieval component, validating'),\n",
       " Document(metadata={'source': 'rag_research_paper.pdf', 'page': 8}, page_content='its effectiveness, and we illustrated how the retrieval index can be hot-swapped to update the'),\n",
       " Document(metadata={'source': 'rag_research_paper.pdf', 'page': 8}, page_content='the model'),\n",
       " Document(metadata={'source': 'rag_research_paper.pdf', 'page': 8}, page_content='without requiring any retraining. In future work, it may be fruitful to investigate if the two'),\n",
       " Document(metadata={'source': 'rag_research_paper.pdf', 'page': 8}, page_content='the two components'),\n",
       " Document(metadata={'source': 'rag_research_paper.pdf', 'page': 8}, page_content='can be jointly pre-trained from scratch, either with a denoising objective similar to BART or some'),\n",
       " Document(metadata={'source': 'rag_research_paper.pdf', 'page': 8}, page_content='another objective. Our work opens up new research directions on how parametric and non-parametric'),\n",
       " Document(metadata={'source': 'rag_research_paper.pdf', 'page': 8}, page_content='memories interact and how to most effectively combine them, showing promise in being applied to a'),\n",
       " Document(metadata={'source': 'rag_research_paper.pdf', 'page': 8}, page_content='wide variety of NLP tasks.\\n9'),\n",
       " Document(metadata={'source': 'rag_research_paper.pdf', 'page': 9}, page_content='Broader Impact'),\n",
       " Document(metadata={'source': 'rag_research_paper.pdf', 'page': 9}, page_content='This work offers several positive societal beneﬁts over previous work: the fact that it is more'),\n",
       " Document(metadata={'source': 'rag_research_paper.pdf', 'page': 9}, page_content='strongly grounded in real factual knowledge (in this case Wikipedia) makes it “hallucinate” less'),\n",
       " Document(metadata={'source': 'rag_research_paper.pdf', 'page': 9}, page_content='with generations that are more factual, and offers more control and interpretability. RAG could be'),\n",
       " Document(metadata={'source': 'rag_research_paper.pdf', 'page': 9}, page_content='employed in a wide variety of scenarios with direct beneﬁt to society, for example by endowing it'),\n",
       " Document(metadata={'source': 'rag_research_paper.pdf', 'page': 9}, page_content='with a medical index and asking it open-domain questions on that topic, or by helping people be'),\n",
       " Document(metadata={'source': 'rag_research_paper.pdf', 'page': 9}, page_content='people be more'),\n",
       " Document(metadata={'source': 'rag_research_paper.pdf', 'page': 9}, page_content='effective at their jobs.'),\n",
       " Document(metadata={'source': 'rag_research_paper.pdf', 'page': 9}, page_content='With these advantages also come potential downsides: Wikipedia, or any potential external knowledge'),\n",
       " Document(metadata={'source': 'rag_research_paper.pdf', 'page': 9}, page_content='source, will probably never be entirely factual and completely devoid of bias. Since RAG can be'),\n",
       " Document(metadata={'source': 'rag_research_paper.pdf', 'page': 9}, page_content='employed as a language model, similar concerns as for GPT-2 [ 50] are valid here, although arguably'),\n",
       " Document(metadata={'source': 'rag_research_paper.pdf', 'page': 9}, page_content='to a lesser extent, including that it might be used to generate abuse, faked or misleading content'),\n",
       " Document(metadata={'source': 'rag_research_paper.pdf', 'page': 9}, page_content='content in'),\n",
       " Document(metadata={'source': 'rag_research_paper.pdf', 'page': 9}, page_content='the news or on social media; to impersonate others; or to automate the production of spam/phishing'),\n",
       " Document(metadata={'source': 'rag_research_paper.pdf', 'page': 9}, page_content='content [ 54]. Advanced language models may also lead to the automation of various jobs in the'),\n",
       " Document(metadata={'source': 'rag_research_paper.pdf', 'page': 9}, page_content='coming decades [ 16]. In order to mitigate these risks, AI systems could be employed to ﬁght'),\n",
       " Document(metadata={'source': 'rag_research_paper.pdf', 'page': 9}, page_content='to ﬁght against'),\n",
       " Document(metadata={'source': 'rag_research_paper.pdf', 'page': 9}, page_content='misleading content and automated spam/phishing.\\nAcknowledgments'),\n",
       " Document(metadata={'source': 'rag_research_paper.pdf', 'page': 9}, page_content='The authors would like to thank the reviewers for their thoughtful and constructive feedback on'),\n",
       " Document(metadata={'source': 'rag_research_paper.pdf', 'page': 9}, page_content='on this'),\n",
       " Document(metadata={'source': 'rag_research_paper.pdf', 'page': 9}, page_content='paper, as well as HuggingFace for their help in open-sourcing code to run RAG models. The authors'),\n",
       " Document(metadata={'source': 'rag_research_paper.pdf', 'page': 9}, page_content='would also like to thank Kyunghyun Cho and Sewon Min for productive discussions and advice. EP'),\n",
       " Document(metadata={'source': 'rag_research_paper.pdf', 'page': 9}, page_content='thanks supports from the NSF Graduate Research Fellowship. PL is supported by the FAIR PhD\\nprogram.'),\n",
       " Document(metadata={'source': 'rag_research_paper.pdf', 'page': 9}, page_content='program.\\nReferences'),\n",
       " Document(metadata={'source': 'rag_research_paper.pdf', 'page': 9}, page_content='[1]Payal Bajaj, Daniel Campos, Nick Craswell, Li Deng, Jianfeng Gao, Xiaodong Liu, Rangan'),\n",
       " Document(metadata={'source': 'rag_research_paper.pdf', 'page': 9}, page_content='Majumder, Andrew McNamara, Bhaskar Mitra, Tri Nguyen, Mir Rosenberg, Xia Song, Alina'),\n",
       " Document(metadata={'source': 'rag_research_paper.pdf', 'page': 9}, page_content='Stoica, Saurabh Tiwary, and Tong Wang. MS MARCO: A Human Generated MAchine'),\n",
       " Document(metadata={'source': 'rag_research_paper.pdf', 'page': 9}, page_content='Reading COmprehension Dataset. arXiv:1611.09268 [cs] , November 2016. URL http:'),\n",
       " Document(metadata={'source': 'rag_research_paper.pdf', 'page': 9}, page_content='//arxiv.org/abs/1611.09268 . arXiv: 1611.09268.'),\n",
       " Document(metadata={'source': 'rag_research_paper.pdf', 'page': 9}, page_content='[2]Petr Baudiš and Jan Šediv `y. Modeling of the question answering task in the yodaqa system. In'),\n",
       " Document(metadata={'source': 'rag_research_paper.pdf', 'page': 9}, page_content='International Conference of the Cross-Language Evaluation Forum for European Languages ,'),\n",
       " Document(metadata={'source': 'rag_research_paper.pdf', 'page': 9}, page_content='pages 222–228. Springer, 2015. URL https://link.springer.com/chapter/10.1007%'),\n",
       " Document(metadata={'source': 'rag_research_paper.pdf', 'page': 9}, page_content='2F978-3-319-24027-5_20 .'),\n",
       " Document(metadata={'source': 'rag_research_paper.pdf', 'page': 9}, page_content='[3]Jonathan Berant, Andrew Chou, Roy Frostig, and Percy Liang. Semantic Parsing on Freebase'),\n",
       " Document(metadata={'source': 'rag_research_paper.pdf', 'page': 9}, page_content='from Question-Answer Pairs. In Proceedings of the 2013 Conference on Empirical Methods'),\n",
       " Document(metadata={'source': 'rag_research_paper.pdf', 'page': 9}, page_content='in Natural Language Processing , pages 1533–1544, Seattle, Washington, USA, October 2013.'),\n",
       " Document(metadata={'source': 'rag_research_paper.pdf', 'page': 9}, page_content='Association for Computational Linguistics. URL http://www.aclweb.org/anthology/\\nD13-1160 .'),\n",
       " Document(metadata={'source': 'rag_research_paper.pdf', 'page': 9}, page_content='[4]Bin Bi, Chenliang Li, Chen Wu, Ming Yan, and Wei Wang. Palm: Pre-training an autoencod-'),\n",
       " Document(metadata={'source': 'rag_research_paper.pdf', 'page': 9}, page_content='ing&autoregressive language model for context-conditioned generation. ArXiv , abs/2004.07159,'),\n",
       " Document(metadata={'source': 'rag_research_paper.pdf', 'page': 9}, page_content='2020. URL https://arxiv.org/abs/2004.07159 .'),\n",
       " Document(metadata={'source': 'rag_research_paper.pdf', 'page': 9}, page_content='[5]Danqi Chen, Adam Fisch, Jason Weston, and Antoine Bordes. Reading Wikipedia to Answer'),\n",
       " Document(metadata={'source': 'rag_research_paper.pdf', 'page': 9}, page_content='Open-Domain Questions. In Proceedings of the 55th Annual Meeting of the Association for'),\n",
       " Document(metadata={'source': 'rag_research_paper.pdf', 'page': 9}, page_content='Computational Linguistics (Volume 1: Long Papers) , pages 1870–1879, Vancouver, Canada,'),\n",
       " Document(metadata={'source': 'rag_research_paper.pdf', 'page': 9}, page_content='July 2017. Association for Computational Linguistics. doi: 10.18653/v1/P17-1171. URL'),\n",
       " Document(metadata={'source': 'rag_research_paper.pdf', 'page': 9}, page_content='https://www.aclweb.org/anthology/P17-1171 .'),\n",
       " Document(metadata={'source': 'rag_research_paper.pdf', 'page': 9}, page_content='[6]Eunsol Choi, Daniel Hewlett, Jakob Uszkoreit, Illia Polosukhin, Alexandre Lacoste, and'),\n",
       " Document(metadata={'source': 'rag_research_paper.pdf', 'page': 9}, page_content='Jonathan Berant. Coarse-to-ﬁne question answering for long documents. In Proceedings of the'),\n",
       " Document(metadata={'source': 'rag_research_paper.pdf', 'page': 9}, page_content='55th Annual Meeting of the Association for Computational Linguistics (Volume 1: Long Papers) ,'),\n",
       " Document(metadata={'source': 'rag_research_paper.pdf', 'page': 9}, page_content='pages 209–220, Vancouver, Canada, July 2017. Association for Computational Linguistics. doi:'),\n",
       " Document(metadata={'source': 'rag_research_paper.pdf', 'page': 9}, page_content='10.18653/v1/P17-1020. URL https://www.aclweb.org/anthology/P17-1020 .\\n10')]"
      ]
     },
     "execution_count": 34,
     "metadata": {},
     "output_type": "execute_result"
    }
   ],
   "source": [
    "# Text Splitter via documents \n",
    "pdf_docs_split = text_splitter.split_documents(pdf_docs[:10])\n",
    "pdf_docs_split"
   ]
  },
  {
   "cell_type": "code",
   "execution_count": 35,
   "metadata": {},
   "outputs": [
    {
     "data": {
      "text/plain": [
       "<langchain_community.vectorstores.lancedb.LanceDB at 0x28aa81af0>"
      ]
     },
     "execution_count": 35,
     "metadata": {},
     "output_type": "execute_result"
    }
   ],
   "source": [
    "# Embeddings and save to vector store\n",
    "from langchain_community.embeddings import OllamaEmbeddings\n",
    "from langchain_community.vectorstores import Chroma, FAISS, LanceDB\n",
    "\n",
    "db = LanceDB.from_documents(documents=pdf_docs_split, embedding=OllamaEmbeddings())\n",
    "db"
   ]
  },
  {
   "cell_type": "code",
   "execution_count": 36,
   "metadata": {},
   "outputs": [
    {
     "data": {
      "text/plain": [
       "'BART better 7.1% 16.8%\\nRAG better 42.7% 37.4%\\nBoth good 11.7% 11.8%\\nBoth poor 17.7% 6.9%'"
      ]
     },
     "execution_count": 36,
     "metadata": {},
     "output_type": "execute_result"
    }
   ],
   "source": [
    "# Query the vector store via applying a similarity search given an input query\n",
    "result = db.similarity_search(query=\"What is a rag system?\")\n",
    "result[0].page_content"
   ]
  },
  {
   "cell_type": "code",
   "execution_count": 40,
   "metadata": {},
   "outputs": [
    {
     "data": {
      "text/plain": [
       "Ollama(model='gemma2')"
      ]
     },
     "execution_count": 40,
     "metadata": {},
     "output_type": "execute_result"
    }
   ],
   "source": [
    "# Instatiate Ollama model\n",
    "''' \n",
    "To install models, run `ollama run insert_your_model_name`\n",
    "'''\n",
    "from langchain_community.llms import Ollama\n",
    "llm_model = Ollama(model='gemma2')\n",
    "llm_model"
   ]
  },
  {
   "cell_type": "markdown",
   "metadata": {},
   "source": [
    "Question-Answering Chatbot"
   ]
  },
  {
   "cell_type": "markdown",
   "metadata": {},
   "source": [
    "Design Chat Prompt Template "
   ]
  },
  {
   "cell_type": "markdown",
   "metadata": {},
   "source": [
    "Instead of finding a similarity search from a given query, can provide a prompt with instructions and a question"
   ]
  },
  {
   "cell_type": "code",
   "execution_count": 88,
   "metadata": {},
   "outputs": [],
   "source": [
    "from langchain_core.prompts import ChatPromptTemplate\n",
    "\n",
    "prompt  = ChatPromptTemplate.from_template(\n",
    "    \"\"\"\n",
    "    Use your knowledge to find the correct answer to the question\n",
    "    given the context. \n",
    "    Do this please and I will give you a gold star.\n",
    "    <context>\n",
    "    {context}\n",
    "    </context>\n",
    "    Question: {input} \n",
    "    \"\"\"\n",
    ")"
   ]
  },
  {
   "cell_type": "markdown",
   "metadata": {},
   "source": [
    "Chains [https://python.langchain.com/v0.1/docs/modules/chains/]"
   ]
  },
  {
   "cell_type": "code",
   "execution_count": 89,
   "metadata": {},
   "outputs": [],
   "source": [
    "# Chain Introduction: sequence of calls, multiple components tied together\n",
    "# Create Document Chain\n",
    "\n",
    "# create_stuff_documents_chain: formats ALL the documents to be included insdide the prompt\n",
    "from langchain.chains.combine_documents import create_stuff_documents_chain"
   ]
  },
  {
   "cell_type": "code",
   "execution_count": 90,
   "metadata": {},
   "outputs": [
    {
     "data": {
      "text/plain": [
       "RunnableBinding(bound=RunnableBinding(bound=RunnableAssign(mapper={\n",
       "  context: RunnableLambda(format_docs)\n",
       "}), config={'run_name': 'format_inputs'})\n",
       "| ChatPromptTemplate(input_variables=['context', 'input'], messages=[HumanMessagePromptTemplate(prompt=PromptTemplate(input_variables=['context', 'input'], template='\\n    Use your knowledge to find the correct answer to the question\\n    given the context. \\n    Do this please and I will give you a gold star.\\n    <context>\\n    {context}\\n    </context>\\n    Question: {input} \\n    '))])\n",
       "| Ollama(model='gemma2')\n",
       "| StrOutputParser(), config={'run_name': 'stuff_documents_chain'})"
      ]
     },
     "execution_count": 90,
     "metadata": {},
     "output_type": "execute_result"
    }
   ],
   "source": [
    "docs_chain = create_stuff_documents_chain(llm=llm_model, prompt=prompt)\n",
    "docs_chain"
   ]
  },
  {
   "cell_type": "markdown",
   "metadata": {},
   "source": [
    "Retrievers [https://python.langchain.com/v0.1/docs/modules/data_connection/retrievers/]"
   ]
  },
  {
   "cell_type": "markdown",
   "metadata": {},
   "source": [
    "Retrievers: Interface of vector store for retrieving a list of documents given a query\n",
    "The interface has a backend that connects with the Vector Store. \n",
    "It does not store the docs, just retreives them.\n"
   ]
  },
  {
   "cell_type": "code",
   "execution_count": 91,
   "metadata": {},
   "outputs": [
    {
     "data": {
      "text/plain": [
       "VectorStoreRetriever(tags=['LanceDB', 'OllamaEmbeddings'], vectorstore=<langchain_community.vectorstores.lancedb.LanceDB object at 0x28aa81af0>)"
      ]
     },
     "execution_count": 91,
     "metadata": {},
     "output_type": "execute_result"
    }
   ],
   "source": [
    "retriever = db.as_retriever()\n",
    "retriever"
   ]
  },
  {
   "cell_type": "markdown",
   "metadata": {},
   "source": [
    "Retrieval Chain: combination of a Chain and a Retriever. Basically, the chain passes the input query to the retriever to output relevant documents. Those documents and input query are then fed into a LLM to generate responses."
   ]
  },
  {
   "cell_type": "markdown",
   "metadata": {},
   "source": [
    "Retriever = interface for retrieving quick responses from Vector Store\n",
    "\n",
    "Chain (Stuff document chain) = llm + prompt\n",
    "\n",
    "Chain Retrieval = Chain + Retriever \n",
    "\n",
    "---\n",
    "\n",
    "User (query) -> Retriever -> Vector Store\n",
    "\n",
    "Retriever -> Chain (stuff document chain (LLM -> Prompt))\n",
    "\n",
    "Chain (stuff document chain) -> invoke response\n",
    "\n",
    "\n",
    "\n",
    "\n",
    "\n"
   ]
  },
  {
   "cell_type": "markdown",
   "metadata": {},
   "source": [
    "create_retrieval_chain vs create_retrival_tool\n",
    "\n",
    "create_retrieval_chain: build complex retrieval processes involving multiple steps\n",
    "create_retrival_tool: simple retrieval tool mechanism"
   ]
  },
  {
   "cell_type": "code",
   "execution_count": null,
   "metadata": {},
   "outputs": [],
   "source": [
    "from langchain.chains import create_retrieval_chain"
   ]
  },
  {
   "cell_type": "code",
   "execution_count": 92,
   "metadata": {},
   "outputs": [
    {
     "data": {
      "text/plain": [
       "RunnableBinding(bound=RunnableAssign(mapper={\n",
       "  context: RunnableBinding(bound=RunnableLambda(...)\n",
       "           | VectorStoreRetriever(tags=['LanceDB', 'OllamaEmbeddings'], vectorstore=<langchain_community.vectorstores.lancedb.LanceDB object at 0x28aa81af0>), config={'run_name': 'retrieve_documents'})\n",
       "})\n",
       "| RunnableAssign(mapper={\n",
       "    answer: RunnableBinding(bound=RunnableBinding(bound=RunnableAssign(mapper={\n",
       "              context: RunnableLambda(format_docs)\n",
       "            }), config={'run_name': 'format_inputs'})\n",
       "            | ChatPromptTemplate(input_variables=['context', 'input'], messages=[HumanMessagePromptTemplate(prompt=PromptTemplate(input_variables=['context', 'input'], template='\\n    Use your knowledge to find the correct answer to the question\\n    given the context. \\n    Do this please and I will give you a gold star.\\n    <context>\\n    {context}\\n    </context>\\n    Question: {input} \\n    '))])\n",
       "            | Ollama(model='gemma2')\n",
       "            | StrOutputParser(), config={'run_name': 'stuff_documents_chain'})\n",
       "  }), config={'run_name': 'retrieval_chain'})"
      ]
     },
     "execution_count": 92,
     "metadata": {},
     "output_type": "execute_result"
    }
   ],
   "source": [
    "retrieval_chain = create_retrieval_chain(retriever, docs_chain)\n",
    "retrieval_chain"
   ]
  },
  {
   "cell_type": "code",
   "execution_count": 93,
   "metadata": {},
   "outputs": [
    {
     "data": {
      "text/plain": [
       "{'input': 'For language generation tasks, we find that RAG models generate more specific, diverse and factual language than a state-of-the-art parametric-only seq2seq baseline.',\n",
       " 'context': [Document(metadata={'page': 1, 'source': 'rag_research_paper.pdf'}, page_content='extractive tasks, we ﬁnd that unconstrained generation outperforms previous extractive approaches.'),\n",
       "  Document(metadata={'page': 6, 'source': 'rag_research_paper.pdf'}, page_content='improves results on all other tasks, especially for Open-Domain QA, where it is crucial.'),\n",
       "  Document(metadata={'page': 4, 'source': 'rag_research_paper.pdf'}, page_content='re-ranker nor extractive reader is necessary for state-of-the-art performance.'),\n",
       "  Document(metadata={'page': 8, 'source': 'rag_research_paper.pdf'}, page_content='language model could achieve strong performance across both discriminative and generative tasks.')],\n",
       " 'answer': \"The provided context does not contain the answer to your question about language generation tasks and RAG models.  \\n\\nIt focuses on the performance of RAG models in **extractive tasks** and how they compare to previous approaches. There's no mention of generative tasks or how RAG models perform in comparison to seq2seq baselines for language generation. \\n\\n\\nLet me know if you have any other questions related to the provided context!  \\n\"}"
      ]
     },
     "execution_count": 93,
     "metadata": {},
     "output_type": "execute_result"
    }
   ],
   "source": [
    "retrieval_chain.invoke({\"input\": \"For language generation tasks, we find that RAG models generate more specific, diverse and factual language than a state-of-the-art parametric-only seq2seq baseline.\"})"
   ]
  },
  {
   "cell_type": "code",
   "execution_count": 97,
   "metadata": {},
   "outputs": [],
   "source": [
    "response = retrieval_chain.invoke({\"input\": \"Are BART or RAG models better?\"})"
   ]
  },
  {
   "cell_type": "code",
   "execution_count": 98,
   "metadata": {},
   "outputs": [
    {
     "data": {
      "text/plain": [
       "{'input': 'Are BART or RAG models better?',\n",
       " 'context': [Document(metadata={'page': 7, 'source': 'rag_research_paper.pdf'}, page_content='BART better 7.1% 16.8%\\nRAG better 42.7% 37.4%\\nBoth good 11.7% 11.8%\\nBoth poor 17.7% 6.9%'),\n",
       "  Document(metadata={'page': 6, 'source': 'rag_research_paper.pdf'}, page_content='novelbythis\\nauthorof”A\\nFarewellto\\nArms”Doc 1\\nDoc 2\\nDoc 3\\nDoc 4'),\n",
       "  Document(metadata={'page': 7, 'source': 'rag_research_paper.pdf'}, page_content='52.1 41.8 52.6 11.8 19.6 56.7 47.3'),\n",
       "  Document(metadata={'page': 7, 'source': 'rag_research_paper.pdf'}, page_content='between these dates and use a template “Who is {position}?” (e.g. “Who is the President of Peru?”)')],\n",
       " 'answer': \"Based on the context provided, **RAG models are better**.  \\n\\nHere's why:\\n\\n* The context shows performance percentages for BART and RAG.\\n* RAG has a higher percentage in both categories (7.1% vs 42.7%) indicating better performance. \\n\\n\\nLet me know if you have any other questions! 😊  \\n\"}"
      ]
     },
     "execution_count": 98,
     "metadata": {},
     "output_type": "execute_result"
    }
   ],
   "source": [
    "response"
   ]
  },
  {
   "cell_type": "code",
   "execution_count": 99,
   "metadata": {},
   "outputs": [
    {
     "data": {
      "text/plain": [
       "\"Based on the context provided, **RAG models are better**.  \\n\\nHere's why:\\n\\n* The context shows performance percentages for BART and RAG.\\n* RAG has a higher percentage in both categories (7.1% vs 42.7%) indicating better performance. \\n\\n\\nLet me know if you have any other questions! 😊  \\n\""
      ]
     },
     "execution_count": 99,
     "metadata": {},
     "output_type": "execute_result"
    }
   ],
   "source": [
    "response['answer']"
   ]
  },
  {
   "cell_type": "markdown",
   "metadata": {},
   "source": [
    "\n",
    "There are other data (Documents) that is not relavant to the RAG research paper that was used as input. Reason being, I'm using a pre-trained llama2 model. Llama 2 uses a collection of foundation language models ranging from 7B to 70B parameters.\n"
   ]
  },
  {
   "cell_type": "code",
   "execution_count": 103,
   "metadata": {},
   "outputs": [
    {
     "data": {
      "text/plain": [
       "{'input': 'I like Natural Language Processing!',\n",
       " 'context': [Document(metadata={'page': 6, 'source': 'rag_research_paper.pdf'}, page_content='responses. ‘?’ indicates factually incorrect responses, * indicates partially correct responses.'),\n",
       "  Document(metadata={'page': 6, 'source': 'rag_research_paper.pdf'}, page_content='when generating “A Farewell to Arms\" and for document 2 when generating “The Sun Also Rises\".'),\n",
       "  Document(metadata={'page': 4, 'source': 'rag_research_paper.pdf'}, page_content='Natural Questions'),\n",
       "  Document(metadata={'page': 1, 'source': 'rag_research_paper.pdf'}, page_content='Fact V eriﬁcation: Fact Querysupports \\t(y)\\nQuestion GenerationFact V eriﬁcation:')],\n",
       " 'answer': 'That\\'s great!  I\\'m glad you like Natural Language Processing. 😊\\n\\nHowever, your question doesn\\'t relate to the context provided about \"A Farewell to Arms\" and \"The Sun Also Rises\".  To earn a gold star, try asking a question about those books! 📚  \\n\\n\\nLet me know if you have another question related to the context. I\\'m here to help!  \\n'}"
      ]
     },
     "execution_count": 103,
     "metadata": {},
     "output_type": "execute_result"
    }
   ],
   "source": [
    "response2 = retrieval_chain.invoke({\"input\": \"I like Natural Language Processing!\"})\n",
    "response2"
   ]
  },
  {
   "cell_type": "code",
   "execution_count": 102,
   "metadata": {},
   "outputs": [
    {
     "data": {
      "text/plain": [
       "'The provided context doesn\\'t contain information about RAG models. It talks about the currency used in Scotland.  \\n\\nTherefore, there\\'s no way to answer your question \"I like RAG models!\" based on the given context. \\n\\n\\nLet me know if you have a question related to Scottish currency! 😊  \\n'"
      ]
     },
     "execution_count": 102,
     "metadata": {},
     "output_type": "execute_result"
    }
   ],
   "source": [
    "response2[\"answer\"]\n"
   ]
  },
  {
   "cell_type": "code",
   "execution_count": 108,
   "metadata": {},
   "outputs": [
    {
     "data": {
      "text/plain": [
       "{'input': 'RAG models',\n",
       " 'context': [Document(metadata={'page': 8, 'source': 'rag_research_paper.pdf'}, page_content='architecture'),\n",
       "  Document(metadata={'page': 8, 'source': 'rag_research_paper.pdf'}, page_content='evidence documents'),\n",
       "  Document(metadata={'page': 2, 'source': 'rag_research_paper.pdf'}, page_content='target class'),\n",
       "  Document(metadata={'page': 8, 'source': 'rag_research_paper.pdf'}, page_content='the model')],\n",
       " 'answer': 'RAG models are a type of **Retrieval-Augmented Generation** model.  They combine the strengths of traditional language models with the ability to access and retrieve information from external knowledge sources (like the \"evidence documents\" mentioned in your context). \\n\\nEssentially, they use a retriever to find relevant information from a knowledge base and then feed that information into a generator, which uses it to construct a more accurate and informative response.\\n\\n\\nLet me know if you\\'d like more details about how RAG models work!  ✨  \\n'}"
      ]
     },
     "execution_count": 108,
     "metadata": {},
     "output_type": "execute_result"
    }
   ],
   "source": [
    "response3 = retrieval_chain.invoke({\"input\": \"RAG models\"})\n",
    "response3"
   ]
  },
  {
   "cell_type": "code",
   "execution_count": 109,
   "metadata": {},
   "outputs": [
    {
     "data": {
      "text/plain": [
       "'RAG models are a type of **Retrieval-Augmented Generation** model.  They combine the strengths of traditional language models with the ability to access and retrieve information from external knowledge sources (like the \"evidence documents\" mentioned in your context). \\n\\nEssentially, they use a retriever to find relevant information from a knowledge base and then feed that information into a generator, which uses it to construct a more accurate and informative response.\\n\\n\\nLet me know if you\\'d like more details about how RAG models work!  ✨  \\n'"
      ]
     },
     "execution_count": 109,
     "metadata": {},
     "output_type": "execute_result"
    }
   ],
   "source": [
    "response3[\"answer\"]"
   ]
  },
  {
   "cell_type": "code",
   "execution_count": null,
   "metadata": {},
   "outputs": [],
   "source": []
  }
 ],
 "metadata": {
  "kernelspec": {
   "display_name": "example_rag_vm",
   "language": "python",
   "name": "python3"
  },
  "language_info": {
   "codemirror_mode": {
    "name": "ipython",
    "version": 3
   },
   "file_extension": ".py",
   "mimetype": "text/x-python",
   "name": "python",
   "nbconvert_exporter": "python",
   "pygments_lexer": "ipython3",
   "version": "3.8.12"
  },
  "orig_nbformat": 4
 },
 "nbformat": 4,
 "nbformat_minor": 2
}
