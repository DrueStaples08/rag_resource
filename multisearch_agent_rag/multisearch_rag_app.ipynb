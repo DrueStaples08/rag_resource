{
 "cells": [
  {
   "cell_type": "markdown",
   "metadata": {},
   "source": [
    "# MultiSearch Rag Application"
   ]
  },
  {
   "cell_type": "markdown",
   "metadata": {},
   "source": [
    "Goal: Buld an application that loads data from various sources like Arxiv, Wiki, and PDF into a LLM that generates a relevant output."
   ]
  },
  {
   "cell_type": "markdown",
   "metadata": {},
   "source": [
    "## Wiki Data Tool"
   ]
  },
  {
   "cell_type": "code",
   "execution_count": 2,
   "metadata": {},
   "outputs": [],
   "source": [
    "# Searches the Wikipedia API\n",
    "from langchain_community.tools.wikipedia.tool import WikipediaQueryRun\n",
    "\n",
    "# Wrapper for Wikipedia API to help conduct relevant searches\n",
    "from langchain_community.utilities.wikipedia import WikipediaAPIWrapper"
   ]
  },
  {
   "cell_type": "code",
   "execution_count": 4,
   "metadata": {},
   "outputs": [
    {
     "data": {
      "text/plain": [
       "WikipediaAPIWrapper(wiki_client=<module 'wikipedia' from '/Users/druestaples/.pyenv/versions/3.8.12/envs/multisearch_rag_env/lib/python3.8/site-packages/wikipedia/__init__.py'>, top_k_results=1, lang='en', load_all_available_meta=False, doc_content_chars_max=150)"
      ]
     },
     "execution_count": 4,
     "metadata": {},
     "output_type": "execute_result"
    }
   ],
   "source": [
    "wiki_wrapper = WikipediaAPIWrapper(top_k_results=1, doc_content_chars_max=150)\n",
    "wiki_wrapper"
   ]
  },
  {
   "cell_type": "code",
   "execution_count": 5,
   "metadata": {},
   "outputs": [
    {
     "data": {
      "text/plain": [
       "WikipediaQueryRun(api_wrapper=WikipediaAPIWrapper(wiki_client=<module 'wikipedia' from '/Users/druestaples/.pyenv/versions/3.8.12/envs/multisearch_rag_env/lib/python3.8/site-packages/wikipedia/__init__.py'>, top_k_results=1, lang='en', load_all_available_meta=False, doc_content_chars_max=150))"
      ]
     },
     "execution_count": 5,
     "metadata": {},
     "output_type": "execute_result"
    }
   ],
   "source": [
    "# wiki_query_run = WikipediaQueryRun(name=\"wiki_run\"\n",
    "#                                    description=\"\",\n",
    "#                                    args_schema=,\n",
    "#                                    return_direct=True,\n",
    "#                                    verbose=True,\n",
    "#                                    api_wrapper=wiki_wrapper)\n",
    "wiki_tool = WikipediaQueryRun(api_wrapper=wiki_wrapper)\n",
    "wiki_tool"
   ]
  },
  {
   "cell_type": "code",
   "execution_count": 6,
   "metadata": {},
   "outputs": [
    {
     "data": {
      "text/plain": [
       "{'query': {'title': 'Query',\n",
       "  'description': 'query to look up on wikipedia',\n",
       "  'type': 'string'}}"
      ]
     },
     "execution_count": 6,
     "metadata": {},
     "output_type": "execute_result"
    }
   ],
   "source": [
    "wiki_tool.args"
   ]
  },
  {
   "cell_type": "code",
   "execution_count": 7,
   "metadata": {},
   "outputs": [
    {
     "data": {
      "text/plain": [
       "<bound method BaseModel.json of WikipediaQueryRun(api_wrapper=WikipediaAPIWrapper(wiki_client=<module 'wikipedia' from '/Users/druestaples/.pyenv/versions/3.8.12/envs/multisearch_rag_env/lib/python3.8/site-packages/wikipedia/__init__.py'>, top_k_results=1, lang='en', load_all_available_meta=False, doc_content_chars_max=150))>"
      ]
     },
     "execution_count": 7,
     "metadata": {},
     "output_type": "execute_result"
    }
   ],
   "source": [
    "wiki_tool.json"
   ]
  },
  {
   "cell_type": "code",
   "execution_count": 8,
   "metadata": {},
   "outputs": [
    {
     "data": {
      "text/plain": [
       "'wikipedia'"
      ]
     },
     "execution_count": 8,
     "metadata": {},
     "output_type": "execute_result"
    }
   ],
   "source": [
    "wiki_tool.name"
   ]
  },
  {
   "cell_type": "markdown",
   "metadata": {},
   "source": [
    "## Web Base Tool"
   ]
  },
  {
   "cell_type": "code",
   "execution_count": 14,
   "metadata": {},
   "outputs": [],
   "source": [
    "from langchain_community.document_loaders import WebBaseLoader\n",
    "from langchain_community.embeddings import OllamaEmbeddings\n",
    "from langchain_text_splitters import RecursiveCharacterTextSplitter\n",
    "from langchain_community.vectorstores import FAISS\n"
   ]
  },
  {
   "cell_type": "code",
   "execution_count": 28,
   "metadata": {},
   "outputs": [
    {
     "data": {
      "text/plain": [
       "[Document(metadata={'source': 'https://footballdatabase.com/ranking/world/1', 'title': 'World Football / Soccer Clubs Ranking - FootballDatabase', 'description': 'Manchester City from England is the best football / soccer team of the world today. Real Madrid (Spain) comes in second place while Inter Milan (Italy) is third. Arsenal from England and Bayer Leverkusen from Germany complete the Top 5. Check out our complete club world rankings.', 'language': 'en'}, page_content=\"\\n\\n\\n\\n\\n\\nWorld Football / Soccer Clubs Ranking - FootballDatabase\\n\\n\\n\\n\\n\\n\\n\\n\\n\\n\\n\\n\\n\\n\\n\\n\\n\\n\\n\\n\\n\\n\\n\\n\\n\\n\\n\\n\\n\\n\\n\\n\\n\\n\\n\\n\\n\\n\\n\\n\\n\\n\\n\\n\\n\\n\\n\\n\\n\\n\\n\\n\\n\\n\\n\\n\\n\\n\\n\\n\\n\\n\\n\\n\\n\\n\\n\\n \\n\\n\\n\\n\\n\\n\\n\\n\\n\\n\\nFootballDatabase\\n\\n\\n\\nRanking \\n\\nWorld Club Ranking\\n\\nContinental Rankings\\nEurope\\nSouth America\\nAfrica\\nAsia\\nNorth America\\n\\n\\nCompetitions \\n\\nShow All\\n\\nTop International\\nUEFA Champions League\\nEuropa League\\nCopa Libertadores\\n\\nTop Domestic\\nEngland Premier League\\nGermany Bundesliga\\nSpain Liga BBVA\\n\\n\\nClubs \\n\\nShow All\\n\\nTop Clubs\\nFC Barcelona\\nReal Madrid\\nArsenal\\nChelsea\\nManchester United\\nFC Bayern München\\nAC Milan\\n\\n\\nScores\\n\\n\\n\\n\\n \\n\\n\\n\\nHome  Club World Ranking            \\n\\n\\n\\n\\n\\n\\n\\n\\n\\n\\n \\n\\n\\nWorld Football / Soccer Clubs RankingUpdated after matches played on 21 July 2024\\n\\n\\n\\nRankClub / CountryPoints1-yr change\\n\\n\\n1Manchester CityEngland2111020932Real MadridSpain2064119183Inter MilanItaly1980219134ArsenalEngland1963318695Bayer LeverkusenGermany1938351725\\n\\n\\n\\n6Liverpool FCEngland1906018857BarcelonaSpain1894418508AtalantaItaly18863017279Borussia DortmundGermany18721185210RB LeipzigGermany18602184711Paris Saint-GermainFrance18578179412Bayern MünchenGermany185610194013SportingPortugal184913177014VfB StuttgartGermany1843132158715PSV EindhovenNetherlands183413176116Atlético MadridSpain18323184717FC PortoPortugal18279186618GironaSpain181567164719FeyenoordNetherlands18105177520BenficaPortugal180111186121Chelsea FCEngland179748166722PalmeirasBrazil17936182323JuventusItaly17864176224AC MilanItaly17864178825BolognaItaly178131168926Newcastle UnitedEngland176611182327Athletic BilbaoSpain176164164228LazioItaly176010180029RomaItaly17606174230VillarrealSpain17495177131GalatasarayTurkey174845165832Slavia PragueCzech Republic17479172433FenerbahçeTurkey174544165834Manchester UnitedEngland174420182535MonacoFrance174472162036Aston VillaEngland174413177937Tottenham HotspurEngland17428171738Crystal PalaceEngland174136166139Al HilalSaudi Arabia173728166840Real SociedadSpain173623180241Botafogo FRBrazil17332172542FlamengoBrazil17299175343Sparta PragueCzech Republic172612169144River PlateArgentina172610174645FiorentinaItaly17262171346Al AhlyEgypt17203170347FK Red Star BelgradeSerbia171615175348Shakhtar DonetskUkraine171311172749LilleFrance17128168650OlympiakosGreece1707201662 \\n\\n\\n\\n\\n1234567891011121314151617181920212223242526272829303132333435363738394041424344454647484950515253545556575859 \\n\\n\\n\\nSearch\\nConfederations\\n\\n\\nSelect a continent\\nAfrica - CAF\\nAsia - AFC\\nEurope - UEFA\\nNorth America - CONCACAF\\nOceania - OFC\\nSouth America - CONMEBOL\\n\\n\\nCountries\\n\\n\\nSelect a country\\nAlbaniaAlgeriaAngolaArgentinaArmeniaAustraliaAustriaAzerbaijanBelarusBelgiumBelizeBoliviaBosnia and HerzegovinaBotswanaBrazilBulgariaBurundiCameroonCanadaChileChina PRColombiaCongoCongo DRCook IslandsCosta RicaCroatiaCyprusCzech RepublicDenmarkDominican RepublicDR CongoEcuadorEgyptEl SalvadorEnglandEstoniaEthiopiaFaroe IslandsFijiFinlandFranceFrench PolynesiaGabonGeorgiaGermanyGhanaGibraltarGreeceGuatemalaGuineaGuyanaHaitiHondurasHong KongHungaryIcelandIndiaIndonesiaIranIraqIrelandIsraelItalyIvory CoastJamaicaJapanJordanKazakhstanKenyaKosovoKuwaitLatviaLebanonLibyaLithuaniaLuxembourgMalaysiaMaliMaltaMauritaniaMexicoMoldovaMontenegroMoroccoMozambiqueNetherlandsNew CaledoniaNew ZealandNicaraguaNigerNigeriaNorth MacedoniaNorth North MacedoniaNorthern IrelandNorwayPanamaPapua New GuineaParaguayPeruPhilippinesPolandPortugalPuerto RicoQatarRomaniaRussiaSamoaSaudi ArabiaScotlandSenegalSerbiaSingaporeSlovakiaSloveniaSolomon IslandsSouth AfricaSouth KoreaSpainSudanSurinameSwazilandSwedenSwitzerlandTahitiTajikistanTanzaniaThailandTogoTrinidad and TobagoTunisiaTurkeyTurkmenistanUgandaUkraineUnited Arab EmiratesUnited StatesUruguayUSAUzbekistanVanuatuVenezuelaVietnamWalesZambiaZimbabwe \\n\\n\\n\\n\\n\\n \\n\\n\\n\\nComments\\n\\n\\n \\n\\n\\n\\n\\n\\n \\n\\n\\n\\n\\n\\n\\n\\n\\nDid you know...France's first World Cup win came in the 1998 competition. Previously they had been third twice (1958, 1986) and fourth once (1982). \\n\\nAffiliate Websites\\nNumerosNegros: Libertad financiera a través del ahorro y la inversión a largo plazo\\nShare this page\\n\\n\\n\\n\\n\\n\\n\\n\\n\\n\\n\\n\\n\\n\\n\\nThe #1 Football / Soccer World Club Ranking Site on the Internet.\\n(CC BY-SA 4.0) FootballDatabase.com\\n\\n\\n\\n \\n\\n\\n\\n\\n\\n\\n\\n \\n\\n\")]"
      ]
     },
     "execution_count": 28,
     "metadata": {},
     "output_type": "execute_result"
    }
   ],
   "source": [
    "# First Data Source: Soccer Ranking Data\n",
    "\n",
    "loader = WebBaseLoader(\"https://footballdatabase.com/ranking/world/1\")\n",
    "docs = loader.load()\n",
    "docs"
   ]
  },
  {
   "cell_type": "code",
   "execution_count": 16,
   "metadata": {},
   "outputs": [
    {
     "data": {
      "text/plain": [
       "[Document(metadata={'source': 'https://footballdatabase.com/ranking/world/1', 'title': 'World Football / Soccer Clubs Ranking - FootballDatabase', 'description': 'Manchester City from England is the best football / soccer team of the world today. Real Madrid (Spain) comes in second place while Inter Milan (Italy) is third. Arsenal from England and Bayer Leverkusen from Germany complete the Top 5. Check out our complete club world rankings.', 'language': 'en'}, page_content='World Football / Soccer Clubs Ranking - FootballDatabase\\n\\n\\n\\n\\n\\n\\n\\n\\n\\n\\n\\n\\n\\n\\n\\n\\n\\n\\n\\n\\n\\n\\n\\n\\n\\n\\n\\n\\n\\n\\n\\n\\n\\n\\n\\n\\n\\n\\n\\n\\n\\n\\n\\n\\n\\n\\n\\n\\n\\n\\n\\n\\n\\n\\n\\n\\n\\n\\n\\n\\n\\n\\n\\n\\n\\n\\n\\n \\n\\n\\n\\n\\n\\n\\n\\n\\n\\n\\nFootballDatabase\\n\\n\\n\\nRanking \\n\\nWorld Club Ranking\\n\\nContinental Rankings\\nEurope\\nSouth America\\nAfrica\\nAsia\\nNorth America\\n\\n\\nCompetitions \\n\\nShow All\\n\\nTop International\\nUEFA Champions League\\nEuropa League\\nCopa Libertadores\\n\\nTop Domestic\\nEngland Premier League\\nGermany Bundesliga\\nSpain Liga BBVA\\n\\n\\nClubs \\n\\nShow All\\n\\nTop Clubs\\nFC Barcelona\\nReal Madrid\\nArsenal\\nChelsea\\nManchester United\\nFC Bayern München\\nAC Milan\\n\\n\\nScores\\n\\n\\n\\n\\n \\n\\n\\n\\nHome  Club World Ranking            \\n\\n\\n\\n\\n\\n\\n\\n\\n\\n\\n \\n\\n\\nWorld Football / Soccer Clubs RankingUpdated after matches played on 21 July 2024\\n\\n\\n\\nRankClub / CountryPoints1-yr change\\n\\n\\n1Manchester CityEngland2111020932Real MadridSpain2064119183Inter MilanItaly1980219134ArsenalEngland1963318695Bayer LeverkusenGermany1938351725'),\n",
       " Document(metadata={'source': 'https://footballdatabase.com/ranking/world/1', 'title': 'World Football / Soccer Clubs Ranking - FootballDatabase', 'description': 'Manchester City from England is the best football / soccer team of the world today. Real Madrid (Spain) comes in second place while Inter Milan (Italy) is third. Arsenal from England and Bayer Leverkusen from Germany complete the Top 5. Check out our complete club world rankings.', 'language': 'en'}, page_content='6Liverpool FCEngland1906018857BarcelonaSpain1894418508AtalantaItaly18863017279Borussia DortmundGermany18721185210RB LeipzigGermany18602184711Paris Saint-GermainFrance18578179412Bayern MünchenGermany185610194013SportingPortugal184913177014VfB StuttgartGermany1843132158715PSV EindhovenNetherlands183413176116Atlético MadridSpain18323184717FC PortoPortugal18279186618GironaSpain181567164719FeyenoordNetherlands18105177520BenficaPortugal180111186121Chelsea FCEngland179748166722PalmeirasBrazil17936182323JuventusItaly17864176224AC MilanItaly17864178825BolognaItaly178131168926Newcastle UnitedEngland176611182327Athletic BilbaoSpain176164164228LazioItaly176010180029RomaItaly17606174230VillarrealSpain17495177131GalatasarayTurkey174845165832Slavia PragueCzech Republic17479172433FenerbahçeTurkey174544165834Manchester UnitedEngland174420182535MonacoFrance174472162036Aston VillaEngland174413177937Tottenham HotspurEngland17428171738Crystal PalaceEngland174136166139Al HilalSaudi Arabia173728166840Real'),\n",
       " Document(metadata={'source': 'https://footballdatabase.com/ranking/world/1', 'title': 'World Football / Soccer Clubs Ranking - FootballDatabase', 'description': 'Manchester City from England is the best football / soccer team of the world today. Real Madrid (Spain) comes in second place while Inter Milan (Italy) is third. Arsenal from England and Bayer Leverkusen from Germany complete the Top 5. Check out our complete club world rankings.', 'language': 'en'}, page_content='UnitedEngland174420182535MonacoFrance174472162036Aston VillaEngland174413177937Tottenham HotspurEngland17428171738Crystal PalaceEngland174136166139Al HilalSaudi Arabia173728166840Real SociedadSpain173623180241Botafogo FRBrazil17332172542FlamengoBrazil17299175343Sparta PragueCzech Republic172612169144River PlateArgentina172610174645FiorentinaItaly17262171346Al AhlyEgypt17203170347FK Red Star BelgradeSerbia171615175348Shakhtar DonetskUkraine171311172749LilleFrance17128168650OlympiakosGreece1707201662'),\n",
       " Document(metadata={'source': 'https://footballdatabase.com/ranking/world/1', 'title': 'World Football / Soccer Clubs Ranking - FootballDatabase', 'description': 'Manchester City from England is the best football / soccer team of the world today. Real Madrid (Spain) comes in second place while Inter Milan (Italy) is third. Arsenal from England and Bayer Leverkusen from Germany complete the Top 5. Check out our complete club world rankings.', 'language': 'en'}, page_content='1234567891011121314151617181920212223242526272829303132333435363738394041424344454647484950515253545556575859 \\n\\n\\n\\nSearch\\nConfederations\\n\\n\\nSelect a continent\\nAfrica - CAF\\nAsia - AFC\\nEurope - UEFA\\nNorth America - CONCACAF\\nOceania - OFC\\nSouth America - CONMEBOL\\n\\n\\nCountries'),\n",
       " Document(metadata={'source': 'https://footballdatabase.com/ranking/world/1', 'title': 'World Football / Soccer Clubs Ranking - FootballDatabase', 'description': 'Manchester City from England is the best football / soccer team of the world today. Real Madrid (Spain) comes in second place while Inter Milan (Italy) is third. Arsenal from England and Bayer Leverkusen from Germany complete the Top 5. Check out our complete club world rankings.', 'language': 'en'}, page_content='Select a country'),\n",
       " Document(metadata={'source': 'https://footballdatabase.com/ranking/world/1', 'title': 'World Football / Soccer Clubs Ranking - FootballDatabase', 'description': 'Manchester City from England is the best football / soccer team of the world today. Real Madrid (Spain) comes in second place while Inter Milan (Italy) is third. Arsenal from England and Bayer Leverkusen from Germany complete the Top 5. Check out our complete club world rankings.', 'language': 'en'}, page_content='AlbaniaAlgeriaAngolaArgentinaArmeniaAustraliaAustriaAzerbaijanBelarusBelgiumBelizeBoliviaBosnia and HerzegovinaBotswanaBrazilBulgariaBurundiCameroonCanadaChileChina PRColombiaCongoCongo DRCook IslandsCosta RicaCroatiaCyprusCzech RepublicDenmarkDominican RepublicDR CongoEcuadorEgyptEl SalvadorEnglandEstoniaEthiopiaFaroe IslandsFijiFinlandFranceFrench PolynesiaGabonGeorgiaGermanyGhanaGibraltarGreeceGuatemalaGuineaGuyanaHaitiHondurasHong KongHungaryIcelandIndiaIndonesiaIranIraqIrelandIsraelItalyIvory CoastJamaicaJapanJordanKazakhstanKenyaKosovoKuwaitLatviaLebanonLibyaLithuaniaLuxembourgMalaysiaMaliMaltaMauritaniaMexicoMoldovaMontenegroMoroccoMozambiqueNetherlandsNew CaledoniaNew ZealandNicaraguaNigerNigeriaNorth MacedoniaNorth North MacedoniaNorthern IrelandNorwayPanamaPapua New GuineaParaguayPeruPhilippinesPolandPortugalPuerto RicoQatarRomaniaRussiaSamoaSaudi ArabiaScotlandSenegalSerbiaSingaporeSlovakiaSloveniaSolomon IslandsSouth AfricaSouth'),\n",
       " Document(metadata={'source': 'https://footballdatabase.com/ranking/world/1', 'title': 'World Football / Soccer Clubs Ranking - FootballDatabase', 'description': 'Manchester City from England is the best football / soccer team of the world today. Real Madrid (Spain) comes in second place while Inter Milan (Italy) is third. Arsenal from England and Bayer Leverkusen from Germany complete the Top 5. Check out our complete club world rankings.', 'language': 'en'}, page_content='IrelandNorwayPanamaPapua New GuineaParaguayPeruPhilippinesPolandPortugalPuerto RicoQatarRomaniaRussiaSamoaSaudi ArabiaScotlandSenegalSerbiaSingaporeSlovakiaSloveniaSolomon IslandsSouth AfricaSouth KoreaSpainSudanSurinameSwazilandSwedenSwitzerlandTahitiTajikistanTanzaniaThailandTogoTrinidad and TobagoTunisiaTurkeyTurkmenistanUgandaUkraineUnited Arab EmiratesUnited StatesUruguayUSAUzbekistanVanuatuVenezuelaVietnamWalesZambiaZimbabwe'),\n",
       " Document(metadata={'source': 'https://footballdatabase.com/ranking/world/1', 'title': 'World Football / Soccer Clubs Ranking - FootballDatabase', 'description': 'Manchester City from England is the best football / soccer team of the world today. Real Madrid (Spain) comes in second place while Inter Milan (Italy) is third. Arsenal from England and Bayer Leverkusen from Germany complete the Top 5. Check out our complete club world rankings.', 'language': 'en'}, page_content='Comments\\n\\n\\n \\n\\n\\n\\n\\n\\n \\n\\n\\n\\n\\n\\n\\n\\n\\nDid you know...Frenchman Andre Maschinot was the first player to score two goals in a World Cup match when he scored in the 42nd and 87th minutes against Mexico in 1930. \\n\\nAffiliate Websites\\nNumerosNegros: Libertad financiera a través del ahorro y la inversión a largo plazo\\nShare this page\\n\\n\\n\\n\\n\\n\\n\\n\\n\\n\\n\\n\\n\\n\\n\\nThe #1 Football / Soccer World Club Ranking Site on the Internet.\\n(CC BY-SA 4.0) FootballDatabase.com')]"
      ]
     },
     "execution_count": 16,
     "metadata": {},
     "output_type": "execute_result"
    }
   ],
   "source": [
    "# Split Documents into chunks \n",
    "documents = RecursiveCharacterTextSplitter(chunk_size=1000, chunk_overlap=200).split_documents(docs)\n",
    "documents"
   ]
  },
  {
   "cell_type": "code",
   "execution_count": 21,
   "metadata": {},
   "outputs": [
    {
     "data": {
      "text/plain": [
       "<langchain_community.vectorstores.faiss.FAISS at 0x10fb97ee0>"
      ]
     },
     "execution_count": 21,
     "metadata": {},
     "output_type": "execute_result"
    }
   ],
   "source": [
    "# Embed documents and save to vector store\n",
    "vector_db = FAISS.from_documents(documents=documents, embedding=OllamaEmbeddings())\n",
    "vector_db"
   ]
  },
  {
   "cell_type": "code",
   "execution_count": 22,
   "metadata": {},
   "outputs": [
    {
     "data": {
      "text/plain": [
       "VectorStoreRetriever(tags=['FAISS', 'OllamaEmbeddings'], vectorstore=<langchain_community.vectorstores.faiss.FAISS object at 0x10fb97ee0>)"
      ]
     },
     "execution_count": 22,
     "metadata": {},
     "output_type": "execute_result"
    }
   ],
   "source": [
    "# Instantiate retriever\n",
    "retriever = vector_db.as_retriever()\n",
    "retriever"
   ]
  },
  {
   "cell_type": "code",
   "execution_count": 23,
   "metadata": {},
   "outputs": [],
   "source": [
    "'''\n",
    "create_retrieval_tool:\n",
    "\n",
    "Create a retriever tool (contains the configurations for retrieval) to do the retrieval of documents\n",
    "\n",
    "1. The name of the tool\n",
    "2. A description of what the tool is\n",
    "3. JSON schema of what the inputs to the tool are\n",
    "4. The function to call\n",
    "5. Whether the result of a tool should be returned directly to the user\n",
    "'''\n",
    "from langchain.tools.retriever import create_retriever_tool"
   ]
  },
  {
   "cell_type": "code",
   "execution_count": 142,
   "metadata": {},
   "outputs": [
    {
     "data": {
      "text/plain": [
       "Tool(name='soccer_search', description='Search soccer rankings,how each team did to the year prior, possible future predictions, how teams can earn a higher ranking, and general information about the teams performance.', args_schema=<class 'langchain_core.tools.RetrieverInput'>, func=functools.partial(<function _get_relevant_documents at 0x10ad75ee0>, retriever=VectorStoreRetriever(tags=['FAISS', 'OllamaEmbeddings'], vectorstore=<langchain_community.vectorstores.faiss.FAISS object at 0x10fb97ee0>), document_prompt=PromptTemplate(input_variables=['page_content'], template='{page_content}'), document_separator='\\n\\n'), coroutine=functools.partial(<function _aget_relevant_documents at 0x10ad8d040>, retriever=VectorStoreRetriever(tags=['FAISS', 'OllamaEmbeddings'], vectorstore=<langchain_community.vectorstores.faiss.FAISS object at 0x10fb97ee0>), document_prompt=PromptTemplate(input_variables=['page_content'], template='{page_content}'), document_separator='\\n\\n'))"
      ]
     },
     "execution_count": 142,
     "metadata": {},
     "output_type": "execute_result"
    }
   ],
   "source": [
    "retriever_tool = create_retriever_tool(retriever=retriever,\n",
    "                                       name='soccer_search',\n",
    "                                       description=\"Search soccer rankings,how each team did to the year prior, possible future predictions, how teams can earn a higher ranking, and general information about the teams performance.\"\n",
    "                                       )\n",
    "retriever_tool"
   ]
  },
  {
   "cell_type": "code",
   "execution_count": 27,
   "metadata": {},
   "outputs": [
    {
     "data": {
      "text/plain": [
       "'soccer_search'"
      ]
     },
     "execution_count": 27,
     "metadata": {},
     "output_type": "execute_result"
    }
   ],
   "source": [
    "retriever_tool.name"
   ]
  },
  {
   "cell_type": "markdown",
   "metadata": {},
   "source": [
    "## Arxiv Data Tool"
   ]
  },
  {
   "cell_type": "code",
   "execution_count": 30,
   "metadata": {},
   "outputs": [],
   "source": [
    "# Tool used to do searches through Arxiv reasearch papers\n",
    "from langchain_community.tools.arxiv import ArxivQueryRun\n",
    "# Wrapper used to contain configuration details regarding the search tool mentioned above\n",
    "from langchain_community.utilities import ArxivAPIWrapper"
   ]
  },
  {
   "cell_type": "code",
   "execution_count": 32,
   "metadata": {},
   "outputs": [
    {
     "data": {
      "text/plain": [
       "ArxivAPIWrapper(arxiv_search=<class 'arxiv.Search'>, arxiv_exceptions=(<class 'arxiv.ArxivError'>, <class 'arxiv.UnexpectedEmptyPageError'>, <class 'arxiv.HTTPError'>), top_k_results=1, ARXIV_MAX_QUERY_LENGTH=300, continue_on_failure=False, load_max_docs=100, load_all_available_meta=False, doc_content_chars_max=200)"
      ]
     },
     "execution_count": 32,
     "metadata": {},
     "output_type": "execute_result"
    }
   ],
   "source": [
    "arxiv_wrapper = ArxivAPIWrapper(top_k_results=1, doc_content_chars_max=200)\n",
    "arxiv_wrapper"
   ]
  },
  {
   "cell_type": "code",
   "execution_count": 33,
   "metadata": {},
   "outputs": [
    {
     "data": {
      "text/plain": [
       "ArxivQueryRun(api_wrapper=ArxivAPIWrapper(arxiv_search=<class 'arxiv.Search'>, arxiv_exceptions=(<class 'arxiv.ArxivError'>, <class 'arxiv.UnexpectedEmptyPageError'>, <class 'arxiv.HTTPError'>), top_k_results=1, ARXIV_MAX_QUERY_LENGTH=300, continue_on_failure=False, load_max_docs=100, load_all_available_meta=False, doc_content_chars_max=200))"
      ]
     },
     "execution_count": 33,
     "metadata": {},
     "output_type": "execute_result"
    }
   ],
   "source": [
    "arxiv_tool = ArxivQueryRun(api_wrapper=arxiv_wrapper)\n",
    "arxiv_tool"
   ]
  },
  {
   "cell_type": "code",
   "execution_count": 34,
   "metadata": {},
   "outputs": [
    {
     "data": {
      "text/plain": [
       "'arxiv'"
      ]
     },
     "execution_count": 34,
     "metadata": {},
     "output_type": "execute_result"
    }
   ],
   "source": [
    "arxiv_tool.name"
   ]
  },
  {
   "cell_type": "code",
   "execution_count": 213,
   "metadata": {},
   "outputs": [
    {
     "data": {
      "text/plain": [
       "[WikipediaQueryRun(api_wrapper=WikipediaAPIWrapper(wiki_client=<module 'wikipedia' from '/Users/druestaples/.pyenv/versions/3.8.12/envs/multisearch_rag_env/lib/python3.8/site-packages/wikipedia/__init__.py'>, top_k_results=1, lang='en', load_all_available_meta=False, doc_content_chars_max=150)),\n",
       " ArxivQueryRun(api_wrapper=ArxivAPIWrapper(arxiv_search=<class 'arxiv.Search'>, arxiv_exceptions=(<class 'arxiv.ArxivError'>, <class 'arxiv.UnexpectedEmptyPageError'>, <class 'arxiv.HTTPError'>), top_k_results=1, ARXIV_MAX_QUERY_LENGTH=300, continue_on_failure=False, load_max_docs=100, load_all_available_meta=False, doc_content_chars_max=200)),\n",
       " Tool(name='soccer_search', description='Search soccer rankings,how each team did to the year prior, possible future predictions, how teams can earn a higher ranking, and general information about the teams performance.', args_schema=<class 'langchain_core.tools.RetrieverInput'>, func=functools.partial(<function _get_relevant_documents at 0x10ad75ee0>, retriever=VectorStoreRetriever(tags=['FAISS', 'OllamaEmbeddings'], vectorstore=<langchain_community.vectorstores.faiss.FAISS object at 0x10fb97ee0>), document_prompt=PromptTemplate(input_variables=['page_content'], template='{page_content}'), document_separator='\\n\\n'), coroutine=functools.partial(<function _aget_relevant_documents at 0x10ad8d040>, retriever=VectorStoreRetriever(tags=['FAISS', 'OllamaEmbeddings'], vectorstore=<langchain_community.vectorstores.faiss.FAISS object at 0x10fb97ee0>), document_prompt=PromptTemplate(input_variables=['page_content'], template='{page_content}'), document_separator='\\n\\n'))]"
      ]
     },
     "execution_count": 213,
     "metadata": {},
     "output_type": "execute_result"
    }
   ],
   "source": [
    "tools = [wiki_tool, arxiv_tool, retriever_tool]\n",
    "# tools = [wiki_tool]\n",
    "# tools = [arxiv_tool]\n",
    "\n",
    "tools"
   ]
  },
  {
   "cell_type": "markdown",
   "metadata": {},
   "source": [
    "## LLM"
   ]
  },
  {
   "cell_type": "code",
   "execution_count": 212,
   "metadata": {},
   "outputs": [
    {
     "data": {
      "text/plain": [
       "(Ollama(), Ollama(model='gemma2'))"
      ]
     },
     "execution_count": 212,
     "metadata": {},
     "output_type": "execute_result"
    }
   ],
   "source": [
    "# Create LLM\n",
    "from langchain.llms import Ollama\n",
    "from langchain_community.chat_models import ChatOllama\n",
    "llama2 = Ollama(model=\"llama2\")\n",
    "gemma2 = Ollama(model=\"gemma2\")\n",
    "chat_ollama = ChatOllama(model=\"llama2\")\n",
    "llama2, gemma2"
   ]
  },
  {
   "cell_type": "markdown",
   "metadata": {},
   "source": [
    "## Prompts"
   ]
  },
  {
   "cell_type": "markdown",
   "metadata": {},
   "source": [
    "### ChatPromptTemplate"
   ]
  },
  {
   "cell_type": "code",
   "execution_count": 174,
   "metadata": {},
   "outputs": [],
   "source": [
    "\n",
    "# Create Prompt from Template - Doesn't work - needs variables: agent_scratchpad, input, tools, tool_names\n",
    "from langchain.prompts import ChatPromptTemplate\n",
    "\n",
    "prompt = ChatPromptTemplate.from_template(\n",
    "    template=\"\"\" \n",
    "            Answer the question or query to the best of your knowledge.\n",
    "            Can you also make your answer rhyme if the result if more than six words. \n",
    "            <context>\n",
    "            {context}\n",
    "            </context>\n",
    "            ASP: {agent_scratchpad}\n",
    "            Question: {input}\n",
    "\n",
    "            \"\"\"\n",
    "#     input_variables=[\"context\", \"input\", \"agent_scratchpad\"]\n",
    "#             ASP: {agent_scratchpad}\n",
    "\n",
    "    )"
   ]
  },
  {
   "cell_type": "code",
   "execution_count": 175,
   "metadata": {},
   "outputs": [
    {
     "data": {
      "text/plain": [
       "[HumanMessagePromptTemplate(prompt=PromptTemplate(input_variables=['agent_scratchpad', 'context', 'input'], template=' \\n            Answer the question or query to the best of your knowledge.\\n            Can you also make your answer rhyme if the result if more than six words. \\n            <context>\\n            {context}\\n            </context>\\n            ASP: {agent_scratchpad}\\n            Question: {input}\\n\\n            '))]"
      ]
     },
     "execution_count": 175,
     "metadata": {},
     "output_type": "execute_result"
    }
   ],
   "source": [
    "prompt.messages"
   ]
  },
  {
   "cell_type": "code",
   "execution_count": 176,
   "metadata": {},
   "outputs": [
    {
     "data": {
      "text/plain": [
       "['agent_scratchpad', 'context', 'input']"
      ]
     },
     "execution_count": 176,
     "metadata": {},
     "output_type": "execute_result"
    }
   ],
   "source": [
    "prompt.input_variables"
   ]
  },
  {
   "cell_type": "markdown",
   "metadata": {},
   "source": [
    "### Or download pre-made prompts from the Langchain Hub\n"
   ]
  },
  {
   "cell_type": "code",
   "execution_count": 177,
   "metadata": {},
   "outputs": [],
   "source": [
    "# [https://smith.langchain.com/hub]\n",
    "\n",
    "from langchain import hub"
   ]
  },
  {
   "cell_type": "code",
   "execution_count": 201,
   "metadata": {},
   "outputs": [
    {
     "data": {
      "text/plain": [
       "ChatPromptTemplate(input_variables=['agent_scratchpad', 'input'], optional_variables=['chat_history'], input_types={'chat_history': typing.List[typing.Union[langchain_core.messages.ai.AIMessage, langchain_core.messages.human.HumanMessage, langchain_core.messages.chat.ChatMessage, langchain_core.messages.system.SystemMessage, langchain_core.messages.function.FunctionMessage, langchain_core.messages.tool.ToolMessage]], 'agent_scratchpad': typing.List[typing.Union[langchain_core.messages.ai.AIMessage, langchain_core.messages.human.HumanMessage, langchain_core.messages.chat.ChatMessage, langchain_core.messages.system.SystemMessage, langchain_core.messages.function.FunctionMessage, langchain_core.messages.tool.ToolMessage]]}, partial_variables={'chat_history': []}, metadata={'lc_hub_owner': 'hwchase17', 'lc_hub_repo': 'openai-functions-agent', 'lc_hub_commit_hash': 'a1655024b06afbd95d17449f21316291e0726f13dcfaf990cc0d18087ad689a5'}, messages=[SystemMessagePromptTemplate(prompt=PromptTemplate(input_variables=[], template='You are a helpful assistant')), MessagesPlaceholder(variable_name='chat_history', optional=True), HumanMessagePromptTemplate(prompt=PromptTemplate(input_variables=['input'], template='{input}')), MessagesPlaceholder(variable_name='agent_scratchpad')])"
      ]
     },
     "execution_count": 201,
     "metadata": {},
     "output_type": "execute_result"
    }
   ],
   "source": [
    "# premade_prompt = hub.pull(\"rlm/rag-prompt\")\n",
    "# premade_prompt = hub.pull(\"hwchase17/react\")\n",
    "# premade_prompt = hub.pull(\"hwchase17/openai-tools-agent\")\n",
    "# premade_prompt = hub.pull(\"chuxij/open-interpreter-system\")\n",
    "# premade_prompt = hub.pull(\"smithing-gold/assumption-checker\")\n",
    "premade_prompt = hub.pull(\"hwchase17/openai-functions-agent\")\n",
    "\n",
    "premade_prompt"
   ]
  },
  {
   "cell_type": "code",
   "execution_count": 202,
   "metadata": {},
   "outputs": [
    {
     "data": {
      "text/plain": [
       "['agent_scratchpad', 'input']"
      ]
     },
     "execution_count": 202,
     "metadata": {},
     "output_type": "execute_result"
    }
   ],
   "source": [
    "premade_prompt.input_variables"
   ]
  },
  {
   "cell_type": "markdown",
   "metadata": {},
   "source": [
    "### Prompt Template"
   ]
  },
  {
   "cell_type": "code",
   "execution_count": 203,
   "metadata": {},
   "outputs": [],
   "source": [
    "from langchain.prompts.chat import MessagesPlaceholder"
   ]
  },
  {
   "cell_type": "code",
   "execution_count": 204,
   "metadata": {},
   "outputs": [
    {
     "data": {
      "text/plain": [
       "ChatPromptTemplate(input_variables=['context', 'question'], optional_variables=['agent_scratchpad'], input_types={'agent_scratchpad': typing.List[typing.Union[langchain_core.messages.ai.AIMessage, langchain_core.messages.human.HumanMessage, langchain_core.messages.chat.ChatMessage, langchain_core.messages.system.SystemMessage, langchain_core.messages.function.FunctionMessage, langchain_core.messages.tool.ToolMessage]]}, partial_variables={'agent_scratchpad': []}, messages=[SystemMessagePromptTemplate(prompt=PromptTemplate(input_variables=[], template='You are a helpful assistant who retrieves information from documents.')), HumanMessagePromptTemplate(prompt=PromptTemplate(input_variables=['context', 'question'], template='{question}\\n{context}')), MessagesPlaceholder(variable_name='agent_scratchpad', optional=True)])"
      ]
     },
     "execution_count": 204,
     "metadata": {},
     "output_type": "execute_result"
    }
   ],
   "source": [
    "prompt3 = ChatPromptTemplate.from_messages(\n",
    "    [\n",
    "        (\"system\", \"You are a helpful assistant who retrieves information from documents.\"),\n",
    "        (\"user\", \"{question}\\n{context}\"),\n",
    "        MessagesPlaceholder(variable_name=\"agent_scratchpad\", optional=True),\n",
    "    ]\n",
    ")\n",
    "prompt3"
   ]
  },
  {
   "cell_type": "markdown",
   "metadata": {},
   "source": [
    "Agents: background process where the LLM are used to makes the decisions on which actions to take and in which order."
   ]
  },
  {
   "cell_type": "markdown",
   "metadata": {},
   "source": [
    "## Agent"
   ]
  },
  {
   "cell_type": "code",
   "execution_count": 205,
   "metadata": {},
   "outputs": [],
   "source": [
    "# Create Agents \n",
    "from langchain.agents import create_openai_tools_agent\n"
   ]
  },
  {
   "cell_type": "code",
   "execution_count": 214,
   "metadata": {},
   "outputs": [
    {
     "data": {
      "text/plain": [
       "RunnableAssign(mapper={\n",
       "  agent_scratchpad: RunnableLambda(...)\n",
       "})\n",
       "| ChatPromptTemplate(input_variables=['agent_scratchpad', 'input'], optional_variables=['chat_history'], input_types={'chat_history': typing.List[typing.Union[langchain_core.messages.ai.AIMessage, langchain_core.messages.human.HumanMessage, langchain_core.messages.chat.ChatMessage, langchain_core.messages.system.SystemMessage, langchain_core.messages.function.FunctionMessage, langchain_core.messages.tool.ToolMessage]], 'agent_scratchpad': typing.List[typing.Union[langchain_core.messages.ai.AIMessage, langchain_core.messages.human.HumanMessage, langchain_core.messages.chat.ChatMessage, langchain_core.messages.system.SystemMessage, langchain_core.messages.function.FunctionMessage, langchain_core.messages.tool.ToolMessage]]}, partial_variables={'chat_history': []}, metadata={'lc_hub_owner': 'hwchase17', 'lc_hub_repo': 'openai-functions-agent', 'lc_hub_commit_hash': 'a1655024b06afbd95d17449f21316291e0726f13dcfaf990cc0d18087ad689a5'}, messages=[SystemMessagePromptTemplate(prompt=PromptTemplate(input_variables=[], template='You are a helpful assistant')), MessagesPlaceholder(variable_name='chat_history', optional=True), HumanMessagePromptTemplate(prompt=PromptTemplate(input_variables=['input'], template='{input}')), MessagesPlaceholder(variable_name='agent_scratchpad')])\n",
       "| RunnableBinding(bound=ChatOllama(), kwargs={'tools': [{'type': 'function', 'function': {'name': 'wikipedia', 'description': 'A wrapper around Wikipedia. Useful for when you need to answer general questions about people, places, companies, facts, historical events, or other subjects. Input should be a search query.', 'parameters': {'type': 'object', 'properties': {'query': {'description': 'query to look up on wikipedia', 'type': 'string'}}, 'required': ['query']}}}, {'type': 'function', 'function': {'name': 'arxiv', 'description': 'A wrapper around Arxiv.org Useful for when you need to answer questions about Physics, Mathematics, Computer Science, Quantitative Biology, Quantitative Finance, Statistics, Electrical Engineering, and Economics from scientific articles on arxiv.org. Input should be a search query.', 'parameters': {'type': 'object', 'properties': {'query': {'description': 'search query to look up', 'type': 'string'}}, 'required': ['query']}}}, {'type': 'function', 'function': {'name': 'soccer_search', 'description': 'Search soccer rankings,how each team did to the year prior, possible future predictions, how teams can earn a higher ranking, and general information about the teams performance.', 'parameters': {'type': 'object', 'properties': {'query': {'description': 'query to look up in retriever', 'type': 'string'}}, 'required': ['query']}}}]})\n",
       "| OpenAIToolsAgentOutputParser()"
      ]
     },
     "execution_count": 214,
     "metadata": {},
     "output_type": "execute_result"
    }
   ],
   "source": [
    "# agent = create_openai_tools_agent(llm=llama2 , tools=tools, prompt=premade_prompt)\n",
    "# agent = create_openai_tools_agent(llm=llama2 , tools=tools, prompt=prompt)\n",
    "# agent = create_openai_tools_agent(llm=llama2 , tools=tools, prompt=prompt3)\n",
    "agent = create_openai_tools_agent(llm=chat_ollama , tools=tools, prompt=premade_prompt)\n",
    "\n",
    "agent"
   ]
  },
  {
   "cell_type": "code",
   "execution_count": 215,
   "metadata": {},
   "outputs": [
    {
     "data": {
      "text/plain": [
       "AgentExecutor(verbose=True, agent=RunnableMultiActionAgent(runnable=RunnableAssign(mapper={\n",
       "  agent_scratchpad: RunnableLambda(...)\n",
       "})\n",
       "| ChatPromptTemplate(input_variables=['agent_scratchpad', 'input'], optional_variables=['chat_history'], input_types={'chat_history': typing.List[typing.Union[langchain_core.messages.ai.AIMessage, langchain_core.messages.human.HumanMessage, langchain_core.messages.chat.ChatMessage, langchain_core.messages.system.SystemMessage, langchain_core.messages.function.FunctionMessage, langchain_core.messages.tool.ToolMessage]], 'agent_scratchpad': typing.List[typing.Union[langchain_core.messages.ai.AIMessage, langchain_core.messages.human.HumanMessage, langchain_core.messages.chat.ChatMessage, langchain_core.messages.system.SystemMessage, langchain_core.messages.function.FunctionMessage, langchain_core.messages.tool.ToolMessage]]}, partial_variables={'chat_history': []}, metadata={'lc_hub_owner': 'hwchase17', 'lc_hub_repo': 'openai-functions-agent', 'lc_hub_commit_hash': 'a1655024b06afbd95d17449f21316291e0726f13dcfaf990cc0d18087ad689a5'}, messages=[SystemMessagePromptTemplate(prompt=PromptTemplate(input_variables=[], template='You are a helpful assistant')), MessagesPlaceholder(variable_name='chat_history', optional=True), HumanMessagePromptTemplate(prompt=PromptTemplate(input_variables=['input'], template='{input}')), MessagesPlaceholder(variable_name='agent_scratchpad')])\n",
       "| RunnableBinding(bound=ChatOllama(), kwargs={'tools': [{'type': 'function', 'function': {'name': 'wikipedia', 'description': 'A wrapper around Wikipedia. Useful for when you need to answer general questions about people, places, companies, facts, historical events, or other subjects. Input should be a search query.', 'parameters': {'type': 'object', 'properties': {'query': {'description': 'query to look up on wikipedia', 'type': 'string'}}, 'required': ['query']}}}, {'type': 'function', 'function': {'name': 'arxiv', 'description': 'A wrapper around Arxiv.org Useful for when you need to answer questions about Physics, Mathematics, Computer Science, Quantitative Biology, Quantitative Finance, Statistics, Electrical Engineering, and Economics from scientific articles on arxiv.org. Input should be a search query.', 'parameters': {'type': 'object', 'properties': {'query': {'description': 'search query to look up', 'type': 'string'}}, 'required': ['query']}}}, {'type': 'function', 'function': {'name': 'soccer_search', 'description': 'Search soccer rankings,how each team did to the year prior, possible future predictions, how teams can earn a higher ranking, and general information about the teams performance.', 'parameters': {'type': 'object', 'properties': {'query': {'description': 'query to look up in retriever', 'type': 'string'}}, 'required': ['query']}}}]})\n",
       "| OpenAIToolsAgentOutputParser(), input_keys_arg=[], return_keys_arg=[], stream_runnable=True), tools=[WikipediaQueryRun(api_wrapper=WikipediaAPIWrapper(wiki_client=<module 'wikipedia' from '/Users/druestaples/.pyenv/versions/3.8.12/envs/multisearch_rag_env/lib/python3.8/site-packages/wikipedia/__init__.py'>, top_k_results=1, lang='en', load_all_available_meta=False, doc_content_chars_max=150)), ArxivQueryRun(api_wrapper=ArxivAPIWrapper(arxiv_search=<class 'arxiv.Search'>, arxiv_exceptions=(<class 'arxiv.ArxivError'>, <class 'arxiv.UnexpectedEmptyPageError'>, <class 'arxiv.HTTPError'>), top_k_results=1, ARXIV_MAX_QUERY_LENGTH=300, continue_on_failure=False, load_max_docs=100, load_all_available_meta=False, doc_content_chars_max=200)), Tool(name='soccer_search', description='Search soccer rankings,how each team did to the year prior, possible future predictions, how teams can earn a higher ranking, and general information about the teams performance.', args_schema=<class 'langchain_core.tools.RetrieverInput'>, func=functools.partial(<function _get_relevant_documents at 0x10ad75ee0>, retriever=VectorStoreRetriever(tags=['FAISS', 'OllamaEmbeddings'], vectorstore=<langchain_community.vectorstores.faiss.FAISS object at 0x10fb97ee0>), document_prompt=PromptTemplate(input_variables=['page_content'], template='{page_content}'), document_separator='\\n\\n'), coroutine=functools.partial(<function _aget_relevant_documents at 0x10ad8d040>, retriever=VectorStoreRetriever(tags=['FAISS', 'OllamaEmbeddings'], vectorstore=<langchain_community.vectorstores.faiss.FAISS object at 0x10fb97ee0>), document_prompt=PromptTemplate(input_variables=['page_content'], template='{page_content}'), document_separator='\\n\\n'))])"
      ]
     },
     "execution_count": 215,
     "metadata": {},
     "output_type": "execute_result"
    }
   ],
   "source": [
    "# Execute the Agent\n",
    "from langchain.agents import AgentExecutor\n",
    "\n",
    "agent_executor=AgentExecutor(agent=agent, tools=tools ,verbose=True)\n",
    "agent_executor"
   ]
  },
  {
   "cell_type": "code",
   "execution_count": 216,
   "metadata": {},
   "outputs": [
    {
     "name": "stdout",
     "output_type": "stream",
     "text": [
      "\n",
      "\n",
      "\u001b[1m> Entering new AgentExecutor chain...\u001b[0m\n",
      "\u001b[32;1m\u001b[1;3mHello! It's nice to meet you. Is there something I can help you with or would you like me to assist you in any way? Please let me know how I can be of service.\u001b[0m\n",
      "\n",
      "\u001b[1m> Finished chain.\u001b[0m\n"
     ]
    },
    {
     "data": {
      "text/plain": [
       "{'input': 'Hi',\n",
       " 'output': \"Hello! It's nice to meet you. Is there something I can help you with or would you like me to assist you in any way? Please let me know how I can be of service.\"}"
      ]
     },
     "execution_count": 216,
     "metadata": {},
     "output_type": "execute_result"
    }
   ],
   "source": [
    "# Invoke the agent to take an action and execute some response\n",
    "\n",
    "agent_executor.invoke({\"input\": \"Hi\"})"
   ]
  },
  {
   "cell_type": "code",
   "execution_count": 217,
   "metadata": {},
   "outputs": [
    {
     "data": {
      "text/plain": [
       "RunnableAssign(mapper={\n",
       "  agent_scratchpad: RunnableLambda(...)\n",
       "})\n",
       "| ChatPromptTemplate(input_variables=['agent_scratchpad', 'input'], optional_variables=['chat_history'], input_types={'chat_history': typing.List[typing.Union[langchain_core.messages.ai.AIMessage, langchain_core.messages.human.HumanMessage, langchain_core.messages.chat.ChatMessage, langchain_core.messages.system.SystemMessage, langchain_core.messages.function.FunctionMessage, langchain_core.messages.tool.ToolMessage]], 'agent_scratchpad': typing.List[typing.Union[langchain_core.messages.ai.AIMessage, langchain_core.messages.human.HumanMessage, langchain_core.messages.chat.ChatMessage, langchain_core.messages.system.SystemMessage, langchain_core.messages.function.FunctionMessage, langchain_core.messages.tool.ToolMessage]]}, partial_variables={'chat_history': []}, metadata={'lc_hub_owner': 'hwchase17', 'lc_hub_repo': 'openai-functions-agent', 'lc_hub_commit_hash': 'a1655024b06afbd95d17449f21316291e0726f13dcfaf990cc0d18087ad689a5'}, messages=[SystemMessagePromptTemplate(prompt=PromptTemplate(input_variables=[], template='You are a helpful assistant')), MessagesPlaceholder(variable_name='chat_history', optional=True), HumanMessagePromptTemplate(prompt=PromptTemplate(input_variables=['input'], template='{input}')), MessagesPlaceholder(variable_name='agent_scratchpad')])\n",
       "| RunnableBinding(bound=ChatOllama(), kwargs={'tools': [{'type': 'function', 'function': {'name': 'wikipedia', 'description': 'A wrapper around Wikipedia. Useful for when you need to answer general questions about people, places, companies, facts, historical events, or other subjects. Input should be a search query.', 'parameters': {'type': 'object', 'properties': {'query': {'description': 'query to look up on wikipedia', 'type': 'string'}}, 'required': ['query']}}}, {'type': 'function', 'function': {'name': 'arxiv', 'description': 'A wrapper around Arxiv.org Useful for when you need to answer questions about Physics, Mathematics, Computer Science, Quantitative Biology, Quantitative Finance, Statistics, Electrical Engineering, and Economics from scientific articles on arxiv.org. Input should be a search query.', 'parameters': {'type': 'object', 'properties': {'query': {'description': 'search query to look up', 'type': 'string'}}, 'required': ['query']}}}, {'type': 'function', 'function': {'name': 'soccer_search', 'description': 'Search soccer rankings,how each team did to the year prior, possible future predictions, how teams can earn a higher ranking, and general information about the teams performance.', 'parameters': {'type': 'object', 'properties': {'query': {'description': 'query to look up in retriever', 'type': 'string'}}, 'required': ['query']}}}]})\n",
       "| OpenAIToolsAgentOutputParser()"
      ]
     },
     "execution_count": 217,
     "metadata": {},
     "output_type": "execute_result"
    }
   ],
   "source": [
    "agent"
   ]
  },
  {
   "cell_type": "code",
   "execution_count": 218,
   "metadata": {},
   "outputs": [
    {
     "data": {
      "text/plain": [
       "<bound method Runnable.get_prompts of RunnableAssign(mapper={\n",
       "  agent_scratchpad: RunnableLambda(...)\n",
       "})\n",
       "| ChatPromptTemplate(input_variables=['agent_scratchpad', 'input'], optional_variables=['chat_history'], input_types={'chat_history': typing.List[typing.Union[langchain_core.messages.ai.AIMessage, langchain_core.messages.human.HumanMessage, langchain_core.messages.chat.ChatMessage, langchain_core.messages.system.SystemMessage, langchain_core.messages.function.FunctionMessage, langchain_core.messages.tool.ToolMessage]], 'agent_scratchpad': typing.List[typing.Union[langchain_core.messages.ai.AIMessage, langchain_core.messages.human.HumanMessage, langchain_core.messages.chat.ChatMessage, langchain_core.messages.system.SystemMessage, langchain_core.messages.function.FunctionMessage, langchain_core.messages.tool.ToolMessage]]}, partial_variables={'chat_history': []}, metadata={'lc_hub_owner': 'hwchase17', 'lc_hub_repo': 'openai-functions-agent', 'lc_hub_commit_hash': 'a1655024b06afbd95d17449f21316291e0726f13dcfaf990cc0d18087ad689a5'}, messages=[SystemMessagePromptTemplate(prompt=PromptTemplate(input_variables=[], template='You are a helpful assistant')), MessagesPlaceholder(variable_name='chat_history', optional=True), HumanMessagePromptTemplate(prompt=PromptTemplate(input_variables=['input'], template='{input}')), MessagesPlaceholder(variable_name='agent_scratchpad')])\n",
       "| RunnableBinding(bound=ChatOllama(), kwargs={'tools': [{'type': 'function', 'function': {'name': 'wikipedia', 'description': 'A wrapper around Wikipedia. Useful for when you need to answer general questions about people, places, companies, facts, historical events, or other subjects. Input should be a search query.', 'parameters': {'type': 'object', 'properties': {'query': {'description': 'query to look up on wikipedia', 'type': 'string'}}, 'required': ['query']}}}, {'type': 'function', 'function': {'name': 'arxiv', 'description': 'A wrapper around Arxiv.org Useful for when you need to answer questions about Physics, Mathematics, Computer Science, Quantitative Biology, Quantitative Finance, Statistics, Electrical Engineering, and Economics from scientific articles on arxiv.org. Input should be a search query.', 'parameters': {'type': 'object', 'properties': {'query': {'description': 'search query to look up', 'type': 'string'}}, 'required': ['query']}}}, {'type': 'function', 'function': {'name': 'soccer_search', 'description': 'Search soccer rankings,how each team did to the year prior, possible future predictions, how teams can earn a higher ranking, and general information about the teams performance.', 'parameters': {'type': 'object', 'properties': {'query': {'description': 'query to look up in retriever', 'type': 'string'}}, 'required': ['query']}}}]})\n",
       "| OpenAIToolsAgentOutputParser()>"
      ]
     },
     "execution_count": 218,
     "metadata": {},
     "output_type": "execute_result"
    }
   ],
   "source": [
    "agent.get_prompts"
   ]
  },
  {
   "cell_type": "code",
   "execution_count": 219,
   "metadata": {},
   "outputs": [
    {
     "name": "stdout",
     "output_type": "stream",
     "text": [
      "\n",
      "\n",
      "\u001b[1m> Entering new AgentExecutor chain...\u001b[0m\n",
      "\u001b[32;1m\u001b[1;3mGreat, Manchester City is a popular football club based in Manchester, England! Here are some key facts and figures about the team:\n",
      "\n",
      "1. Nickname: City\n",
      "2. Founded: 1880\n",
      "3. Home ground: Etihad Stadium (Capacity: 55,097)\n",
      "4. Current Manager: Pep Guardiola\n",
      "5. Most successful period: 2011-present (Under manager Manuel Pellegrini and Pep Guardiola, City have won several domestic and international titles, including the Premier League, FA Cup, League Cup, and Champions League)\n",
      "6. Top scorer: Sergio Agüero (185 goals)\n",
      "7. Most appearances: Vincent Kompany (390 apps)\n",
      "8. Legendary players: Colin Bell, Francis Lee, Mike Summerbee, Tony Book, and Kevin De Bruyne\n",
      "9. Rivalries: Manchester United, Liverpool, and Everton\n",
      "10. Current squad: Ederson, Zack Steffen, Claudio Bravo; Kyle Walker, Aymeric Laporte, Nicolás Otamendi, John Stones, Fernandinho; Kevin De Bruyne, Bernardo Silva, David Silva, Raheem Sterling, Riyad Mahrez; Sergio Agüero, Gabriel Jesus\n",
      "\n",
      "I hope this information helps! Let me know if you have any other questions.\u001b[0m\n",
      "\n",
      "\u001b[1m> Finished chain.\u001b[0m\n"
     ]
    },
    {
     "data": {
      "text/plain": [
       "{'input': 'Manchester City',\n",
       " 'output': 'Great, Manchester City is a popular football club based in Manchester, England! Here are some key facts and figures about the team:\\n\\n1. Nickname: City\\n2. Founded: 1880\\n3. Home ground: Etihad Stadium (Capacity: 55,097)\\n4. Current Manager: Pep Guardiola\\n5. Most successful period: 2011-present (Under manager Manuel Pellegrini and Pep Guardiola, City have won several domestic and international titles, including the Premier League, FA Cup, League Cup, and Champions League)\\n6. Top scorer: Sergio Agüero (185 goals)\\n7. Most appearances: Vincent Kompany (390 apps)\\n8. Legendary players: Colin Bell, Francis Lee, Mike Summerbee, Tony Book, and Kevin De Bruyne\\n9. Rivalries: Manchester United, Liverpool, and Everton\\n10. Current squad: Ederson, Zack Steffen, Claudio Bravo; Kyle Walker, Aymeric Laporte, Nicolás Otamendi, John Stones, Fernandinho; Kevin De Bruyne, Bernardo Silva, David Silva, Raheem Sterling, Riyad Mahrez; Sergio Agüero, Gabriel Jesus\\n\\nI hope this information helps! Let me know if you have any other questions.'}"
      ]
     },
     "execution_count": 219,
     "metadata": {},
     "output_type": "execute_result"
    }
   ],
   "source": [
    "agent_executor.invoke({\"input\": \"Manchester City\"})"
   ]
  },
  {
   "cell_type": "code",
   "execution_count": 220,
   "metadata": {},
   "outputs": [
    {
     "name": "stdout",
     "output_type": "stream",
     "text": [
      "\n",
      "\n",
      "\u001b[1m> Entering new AgentExecutor chain...\u001b[0m\n",
      "\u001b[32;1m\u001b[1;3m\n",
      "Currently, the top-ranked team in Major League Soccer (MLS) is Seattle Sounders FC, who are currently ranked #1 in the MLS Power Rankings. The Sounders have had a strong season so far, with a 9-4-6 record and 33 points, leading the Western Conference. They have also shown great form in recent weeks, winning their last three matches in a row. Other top teams in MLS include Los Angeles FC, Toronto FC, and Sporting Kansas City, who are all vying for the top spot in the league.\u001b[0m\n",
      "\n",
      "\u001b[1m> Finished chain.\u001b[0m\n"
     ]
    },
    {
     "data": {
      "text/plain": [
       "{'input': 'What soccer team is ranked the highest in MLS.',\n",
       " 'output': '\\nCurrently, the top-ranked team in Major League Soccer (MLS) is Seattle Sounders FC, who are currently ranked #1 in the MLS Power Rankings. The Sounders have had a strong season so far, with a 9-4-6 record and 33 points, leading the Western Conference. They have also shown great form in recent weeks, winning their last three matches in a row. Other top teams in MLS include Los Angeles FC, Toronto FC, and Sporting Kansas City, who are all vying for the top spot in the league.'}"
      ]
     },
     "execution_count": 220,
     "metadata": {},
     "output_type": "execute_result"
    }
   ],
   "source": [
    "agent_executor.invoke({\"input\": \"What soccer team is ranked the highest in MLS.\"})"
   ]
  },
  {
   "cell_type": "code",
   "execution_count": 221,
   "metadata": {},
   "outputs": [
    {
     "name": "stdout",
     "output_type": "stream",
     "text": [
      "\n",
      "\n",
      "\u001b[1m> Entering new AgentExecutor chain...\u001b[0m\n",
      "\u001b[32;1m\u001b[1;3mOf course, I'd be happy to help! Here are the Major League Soccer (MLS) teams ranked from highest to lowest based on their current rankings:\n",
      "\n",
      "1. Seattle Sounders FC - Currently ranked 3rd in MLS\n",
      "2. Los Angeles FC - Currently ranked 2nd in MLS\n",
      "3. Sporting Kansas City - Currently ranked 5th in MLS\n",
      "4. New York Red Bulls - Currently ranked 6th in MLS\n",
      "5. Philadelphia Union - Currently ranked 7th in MLS\n",
      "6. Toronto FC - Currently ranked 8th in MLS\n",
      "7. Vancouver Whitecaps FC - Currently ranked 9th in MLS\n",
      "8. Houston Dynamo - Currently ranked 10th in MLS\n",
      "9. D.C. United - Currently ranked 11th in MLS\n",
      "10. Colorado Rapids - Currently ranked 12th in MLS\n",
      "11. Chicago Fire SC - Currently ranked 13th in MLS\n",
      "12. FC Dallas - Currently ranked 14th in MLS\n",
      "13. San Jose Earthquakes - Currently ranked 15th in MLS\n",
      "14. Real Salt Lake - Currently ranked 16th in MLS\n",
      "15. Orlando City SC - Currently ranked 17th in MLS\n",
      "16. Minnesota United FC - Currently ranked 18th in MLS\n",
      "17. Columbus Crew SC - Currently ranked 19th in MLS\n",
      "18. Montreial Impact - Currently ranked 20th in MLS\n",
      "\n",
      "Please note that these rankings are subject to change as the season progresses and team performance fluctuates.\u001b[0m\n",
      "\n",
      "\u001b[1m> Finished chain.\u001b[0m\n"
     ]
    },
    {
     "data": {
      "text/plain": [
       "{'input': 'List the MLS teams in order from highest ranked to lowest ranked.',\n",
       " 'output': \"Of course, I'd be happy to help! Here are the Major League Soccer (MLS) teams ranked from highest to lowest based on their current rankings:\\n\\n1. Seattle Sounders FC - Currently ranked 3rd in MLS\\n2. Los Angeles FC - Currently ranked 2nd in MLS\\n3. Sporting Kansas City - Currently ranked 5th in MLS\\n4. New York Red Bulls - Currently ranked 6th in MLS\\n5. Philadelphia Union - Currently ranked 7th in MLS\\n6. Toronto FC - Currently ranked 8th in MLS\\n7. Vancouver Whitecaps FC - Currently ranked 9th in MLS\\n8. Houston Dynamo - Currently ranked 10th in MLS\\n9. D.C. United - Currently ranked 11th in MLS\\n10. Colorado Rapids - Currently ranked 12th in MLS\\n11. Chicago Fire SC - Currently ranked 13th in MLS\\n12. FC Dallas - Currently ranked 14th in MLS\\n13. San Jose Earthquakes - Currently ranked 15th in MLS\\n14. Real Salt Lake - Currently ranked 16th in MLS\\n15. Orlando City SC - Currently ranked 17th in MLS\\n16. Minnesota United FC - Currently ranked 18th in MLS\\n17. Columbus Crew SC - Currently ranked 19th in MLS\\n18. Montreial Impact - Currently ranked 20th in MLS\\n\\nPlease note that these rankings are subject to change as the season progresses and team performance fluctuates.\"}"
      ]
     },
     "execution_count": 221,
     "metadata": {},
     "output_type": "execute_result"
    }
   ],
   "source": [
    "agent_executor.invoke({\"input\": \"List the MLS teams in order from highest ranked to lowest ranked.\"})"
   ]
  },
  {
   "cell_type": "code",
   "execution_count": 223,
   "metadata": {},
   "outputs": [
    {
     "name": "stdout",
     "output_type": "stream",
     "text": [
      "\n",
      "\n",
      "\u001b[1m> Entering new AgentExecutor chain...\u001b[0m\n",
      "\u001b[32;1m\u001b[1;3mOf course, I'd be happy to help! Here are the top 5 MLS teams with the most impressive trophy count:\n",
      "\n",
      "1. Los Angeles Galaxy - With 21 major trophies, including 5 MLS Cups, 4 Supporters' Shields, and 3 U.S. Open Cups, the LA Galaxy are the clear leaders in terms of trophy count among MLS teams.\n",
      "2. Seattle Sounders FC - With 16 major trophies, including 3 MLS Cups, 4 Supporters' Shields, and 1 U.S. Open Cup, Seattle Sounders FC is a close second to the LA Galaxy in terms of trophy count.\n",
      "3. Sporting Kansas City - With 13 major trophies, including 2 MLS Cups, 3 Supporters' Shields, and 1 U.S. Open Cup, Sporting Kansas City is third on the list of teams with the most impressive trophy count in MLS.\n",
      "4. New York Red Bulls - With 12 major trophies, including 1 MLS Cup, 3 Supporters' Shields, and 1 U.S. Open Cup, the New York Red Bulls are fourth on the list of teams with the most impressive trophy count in MLS.\n",
      "5. Houston Dynamo - With 10 major trophies, including 2 MLS Cups, 2 Supporters' Shields, and 1 U.S. Open Cup, the Houston Dynamo round out the top 5 teams with the most impressive trophy count in MLS.\n",
      "\n",
      "Of course, it's worth noting that these rankings are based on the number of major trophies won by each team, and do not necessarily reflect the overall quality or success of a particular team over time.\u001b[0m\n",
      "\n",
      "\u001b[1m> Finished chain.\u001b[0m\n"
     ]
    },
    {
     "data": {
      "text/plain": [
       "{'input': 'Rank the top 5 MLS teams that have the most impresive trophies.',\n",
       " 'output': \"Of course, I'd be happy to help! Here are the top 5 MLS teams with the most impressive trophy count:\\n\\n1. Los Angeles Galaxy - With 21 major trophies, including 5 MLS Cups, 4 Supporters' Shields, and 3 U.S. Open Cups, the LA Galaxy are the clear leaders in terms of trophy count among MLS teams.\\n2. Seattle Sounders FC - With 16 major trophies, including 3 MLS Cups, 4 Supporters' Shields, and 1 U.S. Open Cup, Seattle Sounders FC is a close second to the LA Galaxy in terms of trophy count.\\n3. Sporting Kansas City - With 13 major trophies, including 2 MLS Cups, 3 Supporters' Shields, and 1 U.S. Open Cup, Sporting Kansas City is third on the list of teams with the most impressive trophy count in MLS.\\n4. New York Red Bulls - With 12 major trophies, including 1 MLS Cup, 3 Supporters' Shields, and 1 U.S. Open Cup, the New York Red Bulls are fourth on the list of teams with the most impressive trophy count in MLS.\\n5. Houston Dynamo - With 10 major trophies, including 2 MLS Cups, 2 Supporters' Shields, and 1 U.S. Open Cup, the Houston Dynamo round out the top 5 teams with the most impressive trophy count in MLS.\\n\\nOf course, it's worth noting that these rankings are based on the number of major trophies won by each team, and do not necessarily reflect the overall quality or success of a particular team over time.\"}"
      ]
     },
     "execution_count": 223,
     "metadata": {},
     "output_type": "execute_result"
    }
   ],
   "source": [
    "agent_executor.invoke({\"input\": \"Rank the top 5 MLS teams that have the most impresive trophies.\"})"
   ]
  },
  {
   "cell_type": "code",
   "execution_count": null,
   "metadata": {},
   "outputs": [],
   "source": []
  }
 ],
 "metadata": {
  "kernelspec": {
   "display_name": "multisearch_rag_env",
   "language": "python",
   "name": "python3"
  },
  "language_info": {
   "codemirror_mode": {
    "name": "ipython",
    "version": 3
   },
   "file_extension": ".py",
   "mimetype": "text/x-python",
   "name": "python",
   "nbconvert_exporter": "python",
   "pygments_lexer": "ipython3",
   "version": "3.8.12"
  },
  "orig_nbformat": 4
 },
 "nbformat": 4,
 "nbformat_minor": 2
}
