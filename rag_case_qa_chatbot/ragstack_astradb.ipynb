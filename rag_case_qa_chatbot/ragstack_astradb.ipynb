{
 "cells": [
  {
   "cell_type": "markdown",
   "metadata": {},
   "source": [
    "# Case Fact Checker\n",
    "Goal: Create a Q&A chatbot for fact checking using Langchain, HuggingFace (or Ollama), and FAISS DB\n",
    "\n",
    "## RAG Pipeline 1\n",
    "User type: Commentators, government, \n",
    "\n",
    "Data: Relevant scripts and recordings from past cases. \n",
    "\n",
    "Input1: User Query\n",
    "\n",
    "Ouput1: Answers any question regarding the current case.\n",
    "\n",
    "\n",
    "## RAG Pipeline 2\n",
    "User Type: Debate Candidates, Documented witnesses, suspects, bystanders, etc. \n",
    "\n",
    "Data: Relevant scripts and recordings from past cases. \n",
    "\n",
    "Input2: User prompt\n",
    "\n",
    "Output2: Determines what is true, false, and undecide in percentages equating to 100%. Also shows those percentages for each individual sentences. Also it points out any fallacies involved. \n",
    "\n",
    "\n",
    "Scenarios:\n",
    "- Political Debates \n",
    "- Court/Crime Cases\n",
    "\n",
    "\n",
    "Options:\n",
    "- Out of the box model\n",
    "- Fine-Tune a model\n",
    "- Retrain model\n",
    "- Create model from scratch\n",
    "\n",
    "\n",
    "\n",
    "\n",
    "### Agent-Based Approach vs Rag Chain-Based Approach\n",
    "\n",
    "Agent-Based Approach  -> use an openai agent when there are multiple tools to include as data sources e.x. wikipedia, arxiv, websites, pdfs, etc. \n",
    "```\n",
    "from langchain.agents import create_openai_tools_agent\n",
    "\n",
    "agent = create_openai_tools_agent(llm=chat_ollama , tools=tools, prompt=premade_prompt)\n",
    "\n",
    "from langchain.agents import AgentExecutor\n",
    "\n",
    "agent_executor=AgentExecutor(agent=agent, tools=tools ,verbose=True)\n",
    "\n",
    "agent_executor.invoke({\"input\": \"Hi\"})\n",
    "```\n",
    "\n",
    "and \n",
    "\n",
    "\n",
    "RAG Chain-Based Approach -> an openai agent isn't necessary when there is a single data source \n",
    "```\n",
    "from langchain.chains.combine_documents import create_stuff_documents_chain\n",
    "\n",
    "docs_chain = create_stuff_documents_chain(llm=llm_model, prompt=prompt)\n",
    "\n",
    "retriever = db.as_retriever()\n",
    "\n",
    "from langchain.chains import create_retrieval_chain\n",
    "\n",
    "retrieval_chain = create_retrieval_chain(retriever, docs_chain)\n",
    "\n",
    "retrieval_chain.invoke({\"input\": \"For language generation tasks, we find that RAG models generate more specific, diverse and factual language than a state-of-the-art parametric-only seq2seq baseline.\"})\n",
    "```\n"
   ]
  },
  {
   "cell_type": "code",
   "execution_count": 22,
   "metadata": {},
   "outputs": [],
   "source": [
    "# FAISS DB\n",
    "from langchain_community.vectorstores import FAISS\n",
    "# Retrieval Chain = LLM + Prompt\n",
    "from langchain.chains import create_retrieval_chain, RetrievalQA\n",
    "# Load PDF Documents\n",
    "from langchain_community.document_loaders import PyPDFDirectoryLoader\n",
    "# Embedding Models\n",
    "from langchain_community.embeddings import OllamaEmbeddings, HuggingFaceEmbeddings\n",
    "# Large Language Models\n",
    "from langchain_community.llms import HuggingFaceHub, HuggingFacePipeline, HuggingFaceEndpoint, Ollama\n",
    "# Prompt Template\n",
    "from langchain.chains.combine_documents import create_stuff_documents_chain\n",
    "# Text Splitter\n",
    "from langchain.text_splitter import RecursiveCharacterTextSplitter\n",
    "# Prompt Template \n",
    "from langchain.prompts import PromptTemplate"
   ]
  },
  {
   "cell_type": "code",
   "execution_count": 12,
   "metadata": {},
   "outputs": [
    {
     "data": {
      "text/plain": [
       "<langchain_community.document_loaders.pdf.PyPDFDirectoryLoader at 0x127d1d250>"
      ]
     },
     "execution_count": 12,
     "metadata": {},
     "output_type": "execute_result"
    }
   ],
   "source": [
    "# Load in data\n",
    "\n",
    "pdf_loader = PyPDFDirectoryLoader(\"./pdf_data_source\")\n",
    "pdf_loader"
   ]
  },
  {
   "cell_type": "code",
   "execution_count": 13,
   "metadata": {},
   "outputs": [
    {
     "data": {
      "text/plain": [
       "[Document(metadata={'source': 'pdf_data_source/court_case_script_1.pdf', 'page': 0}, page_content=\"Title: People v. JohnsonScene: A courtroom. The judge, Hon. Patricia Reyes, presides. The defendant, Alex Johnson, is accused of stealing a valuable painting from an art gallery.Characters:•Judge Patricia Reyes (The Judge)•Mr. Brown (Prosecutor)•Ms. Lee (Defense Attorney)•Alex Johnson (Defendant)•Court ClerkCourt Clerk: All rise. The court is now in session, the Honorable Judge Patricia Reyes presiding.Judge: Please be seated. We are here today in the matter of People v. Johnson, case number 34987. Mr. Johnson, you stand accused of theft of a painting valued at $250,000 from the Blue Horizon Gallery. How do you plead?Defendant: Not guilty, Your Honor.Judge: Very well. Mr. Brown, you may present your opening statement.Mr. Brown (Prosecutor): Thank you, Your Honor. Ladies and gentlemen of the jury, the evidence will show that on the evening of April 12, Mr. Johnson was seen on security footage entering the Blue Horizon Gallery after hours. He left minutes later with a large item, and the next morning, the painting was missing. We intend to prove beyond a reasonable doubt that Mr. Johnson took this painting for personal proﬁt.Judge: Thank you, Mr. Brown. Ms. Lee, your opening statement?Ms. Lee (Defense Attorney): Thank you, Your Honor. Ladies and gentlemen, my client, Alex Johnson, was indeed at the gallery, but he was there for legitimate reasons related to his work as an art installer. The footage will show no proof of theft, and we will present evidence that someone else, with full access to the gallery, had the motive to steal this artwork. At the end of this trial, I am conﬁdent you will ﬁnd my client not guilty.Judge: Very well. We will begin with the prosecution's ﬁrst witness. Mr. Brown, call your witness.Mr. Brown: The prosecution calls Ofﬁcer Sarah Tran to the stand.(Ofﬁcer Tran takes the stand and is sworn in by the Clerk.)Mr. Brown: Ofﬁcer Tran, on the night in question, were you involved in the investigation of the missing painting?Ofﬁcer Tran: Yes, I was. I reviewed the security footage from the gallery and identiﬁed Mr. \"),\n",
       " Document(metadata={'source': 'pdf_data_source/court_case_script_1.pdf', 'page': 1}, page_content='Johnson as the last person seen leaving the building with a large, wrapped object.Ms. Lee: Objection, Your Honor. The defense will demonstrate that this object was Mr. Johnson’s tool kit, used for his work.Judge: Sustained. Mr. Brown, please proceed with caution.Mr. Brown: Understood, Your Honor. Ofﬁcer Tran, could you clarify if you found any direct evidence that Mr. Johnson took the painting?Ofﬁcer Tran: No, there was no direct evidence, only the security footage.Judge: Very well. You may step down, Ofﬁcer. Ms. Lee, you may call your witness.'),\n",
       " Document(metadata={'source': 'pdf_data_source/court_case_script_2.pdf', 'page': 0}, page_content=\"Title: People v. JohnsonScene: The courtroom, Day 2 of trial. Defense is presenting its case.Characters:•Judge Patricia Reyes (The Judge)•Mr. Brown (Prosecutor)•Ms. Lee (Defense Attorney)•Alex Johnson (Defendant)•Jordan Tate (Defense Witness, Gallery Assistant)•Court ClerkCourt Clerk: All rise. Court is now in session, the Honorable Judge Patricia Reyes presiding.Judge: Please be seated. Ms. Lee, you may proceed with the defense's case.Ms. Lee (Defense Attorney): Thank you, Your Honor. The defense calls Jordan Tate to the stand.(Jordan Tate, a young gallery assistant, takes the stand and is sworn in by the Clerk.)Ms. Lee: Mr. Tate, could you please state your occupation for the court?Jordan Tate: I’m a gallery assistant at the Blue Horizon Gallery. I help with everything from organizing exhibits to monitoring security.Ms. Lee: Thank you. Now, Mr. Tate, could you tell us about the night of April 12, when the painting went missing?Jordan Tate: Sure. That night, Alex—uh, Mr. Johnson—was working on an installation at the gallery. I was there late too, doing some closing duties, and I saw him leave with his toolkit after he ﬁnished.Ms. Lee: And did you notice anything unusual that evening?Jordan Tate: Yes. About an hour after Alex left, I saw someone else moving around near the back storage area. It was our previous gallery manager, who’d been let go a week earlier but still had access to the building.Mr. Brown (Prosecutor): Objection, Your Honor. Speculation—Mr. Tate’s testimony about this other person’s access is irrelevant.Judge: Overruled. I’ll allow it, but proceed carefully, Ms. Lee.Ms. Lee: Of course, Your Honor. Mr. Tate, did you observe anything else involving this former manager?Jordan Tate: Yes. When I came back in the morning, the painting was gone, and I remembered \"),\n",
       " Document(metadata={'source': 'pdf_data_source/court_case_script_2.pdf', 'page': 1}, page_content='seeing them in the storage area near the painting the night before. I told the gallery owner, but he didn’t want to report it.Mr. Brown: Objection. Hearsay, Your Honor.Judge: Sustained. The jury will disregard Mr. Tate’s last statement. Ms. Lee, let’s keep it relevant.Ms. Lee: Understood. Mr. Tate, thank you. No further questions, Your Honor.Judge: Very well. Mr. Brown, would you like to cross-examine?Mr. Brown: Yes, Your Honor. Mr. Tate, you mentioned seeing this former manager, but you can’t conﬁrm they took anything, correct?Jordan Tate: Correct, but it seemed odd that they were there after hours, without any legitimate reason.Mr. Brown: Thank you. That will be all.Judge: The witness may step down. Ms. Lee, do you have any other witnesses?Ms. Lee: No, Your Honor. The defense rests.Judge: Very well. Court will adjourn for the day. We will resume tomorrow at 9 a.m. to hear closing arguments.Court Clerk: All rise.(Everyone rises as Judge Reyes exits the courtroom.)'),\n",
       " Document(metadata={'source': 'pdf_data_source/court_case_script_3.pdf', 'page': 0}, page_content='Title: People v. JohnsonScene: The courtroom, Day 3 of trial. Both sides present their closing arguments.Characters:•Judge Patricia Reyes (The Judge)•Mr. Brown (Prosecutor)•Ms. Lee (Defense Attorney)•Alex Johnson (Defendant)•Court Clerk•JuryCourt Clerk: All rise. Court is now in session, the Honorable Judge Patricia Reyes presiding.Judge: Please be seated. Today, we will hear closing arguments in People v. Johnson. Mr. Brown, you may proceed.Mr. Brown (Prosecutor): Thank you, Your Honor. Ladies and gentlemen of the jury, over the past few days, you’ve seen clear evidence that Alex Johnson was the last person in the gallery on the night the painting disappeared. Security footage shows him carrying a large item out of the building, and no one else has been conﬁrmed to have accessed that area until the theft was discovered.Mr. Johnson claims he only took his toolkit. Yet, he had every opportunity and the means to steal the painting. The defense has tried to distract you with irrelevant details and speculative theories about others who might have been involved, but they have provided no evidence, no proof. This case is about what happened, not about what might have happened. Based on the facts presented, I ask you to return a verdict of guilty. Thank you.Judge: Thank you, Mr. Brown. Ms. Lee, your closing statement?Ms. Lee (Defense Attorney): Thank you, Your Honor. Ladies and gentlemen of the jury, the prosecution’s case rests entirely on assumptions. The only “evidence” they have is a security video showing my client carrying a toolkit—an item consistent with his work as an art installer. There is no direct evidence that he took the painting.In fact, you heard from Mr. Tate, a reliable witness, who saw another individual, the former gallery manager, on the premises that night—a person with both access and, we believe, motive to take that painting. The gallery owner chose not to pursue this lead, but that doesn’t mean it isn’t real.My client is innocent, and he deserves the beneﬁt of the doubt. I urge you to weigh the facts carefully. Thank you.Judge: Thank you, Ms. Lee. Ladies and gentlemen of the jury, you have heard the evidence and the arguments from both sides. It is now your duty to deliberate and come to a verdict based on '),\n",
       " Document(metadata={'source': 'pdf_data_source/court_case_script_3.pdf', 'page': 1}, page_content='what has been presented. Court is adjourned until the jury reaches a decision.Court Clerk: All rise.(The judge exits, and the jury prepares to begin deliberations.)')]"
      ]
     },
     "execution_count": 13,
     "metadata": {},
     "output_type": "execute_result"
    }
   ],
   "source": [
    "docs = pdf_loader.load()\n",
    "docs"
   ]
  },
  {
   "cell_type": "code",
   "execution_count": 55,
   "metadata": {},
   "outputs": [
    {
     "data": {
      "text/plain": [
       "<langchain_text_splitters.character.RecursiveCharacterTextSplitter at 0x14340af10>"
      ]
     },
     "execution_count": 55,
     "metadata": {},
     "output_type": "execute_result"
    }
   ],
   "source": [
    "# Split Text\n",
    "\n",
    "text_splitter = RecursiveCharacterTextSplitter(chunk_size=100, chunk_overlap=20)\n",
    "text_splitter"
   ]
  },
  {
   "cell_type": "code",
   "execution_count": 56,
   "metadata": {},
   "outputs": [
    {
     "data": {
      "text/plain": [
       "[Document(metadata={'source': 'pdf_data_source/court_case_script_1.pdf', 'page': 0}, page_content='Title: People v. JohnsonScene: A courtroom. The judge, Hon. Patricia Reyes, presides. The defendant,'),\n",
       " Document(metadata={'source': 'pdf_data_source/court_case_script_1.pdf', 'page': 0}, page_content='The defendant, Alex Johnson, is accused of stealing a valuable painting from an art'),\n",
       " Document(metadata={'source': 'pdf_data_source/court_case_script_1.pdf', 'page': 0}, page_content='from an art gallery.Characters:•Judge Patricia Reyes (The Judge)•Mr. Brown (Prosecutor)•Ms. Lee'),\n",
       " Document(metadata={'source': 'pdf_data_source/court_case_script_1.pdf', 'page': 0}, page_content='Lee (Defense Attorney)•Alex Johnson (Defendant)•Court ClerkCourt Clerk: All rise. The court is now'),\n",
       " Document(metadata={'source': 'pdf_data_source/court_case_script_1.pdf', 'page': 0}, page_content='The court is now in session, the Honorable Judge Patricia Reyes presiding.Judge: Please be seated.'),\n",
       " Document(metadata={'source': 'pdf_data_source/court_case_script_1.pdf', 'page': 0}, page_content='Please be seated. We are here today in the matter of People v. Johnson, case number 34987. Mr.'),\n",
       " Document(metadata={'source': 'pdf_data_source/court_case_script_1.pdf', 'page': 0}, page_content='number 34987. Mr. Johnson, you stand accused of theft of a painting valued at $250,000 from the'),\n",
       " Document(metadata={'source': 'pdf_data_source/court_case_script_1.pdf', 'page': 0}, page_content='$250,000 from the Blue Horizon Gallery. How do you plead?Defendant: Not guilty, Your Honor.Judge:'),\n",
       " Document(metadata={'source': 'pdf_data_source/court_case_script_1.pdf', 'page': 0}, page_content='Your Honor.Judge: Very well. Mr. Brown, you may present your opening statement.Mr. Brown'),\n",
       " Document(metadata={'source': 'pdf_data_source/court_case_script_1.pdf', 'page': 0}, page_content='statement.Mr. Brown (Prosecutor): Thank you, Your Honor. Ladies and gentlemen of the jury, the'),\n",
       " Document(metadata={'source': 'pdf_data_source/court_case_script_1.pdf', 'page': 0}, page_content='of the jury, the evidence will show that on the evening of April 12, Mr. Johnson was seen on'),\n",
       " Document(metadata={'source': 'pdf_data_source/court_case_script_1.pdf', 'page': 0}, page_content='Johnson was seen on security footage entering the Blue Horizon Gallery after hours. He left minutes'),\n",
       " Document(metadata={'source': 'pdf_data_source/court_case_script_1.pdf', 'page': 0}, page_content='He left minutes later with a large item, and the next morning, the painting was missing. We intend'),\n",
       " Document(metadata={'source': 'pdf_data_source/court_case_script_1.pdf', 'page': 0}, page_content='missing. We intend to prove beyond a reasonable doubt that Mr. Johnson took this painting for'),\n",
       " Document(metadata={'source': 'pdf_data_source/court_case_script_1.pdf', 'page': 0}, page_content='this painting for personal proﬁt.Judge: Thank you, Mr. Brown. Ms. Lee, your opening statement?Ms.'),\n",
       " Document(metadata={'source': 'pdf_data_source/court_case_script_1.pdf', 'page': 0}, page_content='statement?Ms. Lee (Defense Attorney): Thank you, Your Honor. Ladies and gentlemen, my client, Alex'),\n",
       " Document(metadata={'source': 'pdf_data_source/court_case_script_1.pdf', 'page': 0}, page_content='my client, Alex Johnson, was indeed at the gallery, but he was there for legitimate reasons related'),\n",
       " Document(metadata={'source': 'pdf_data_source/court_case_script_1.pdf', 'page': 0}, page_content='reasons related to his work as an art installer. The footage will show no proof of theft, and we'),\n",
       " Document(metadata={'source': 'pdf_data_source/court_case_script_1.pdf', 'page': 0}, page_content='of theft, and we will present evidence that someone else, with full access to the gallery, had the'),\n",
       " Document(metadata={'source': 'pdf_data_source/court_case_script_1.pdf', 'page': 0}, page_content='gallery, had the motive to steal this artwork. At the end of this trial, I am conﬁdent you will ﬁnd'),\n",
       " Document(metadata={'source': 'pdf_data_source/court_case_script_1.pdf', 'page': 0}, page_content=\"you will ﬁnd my client not guilty.Judge: Very well. We will begin with the prosecution's ﬁrst\"),\n",
       " Document(metadata={'source': 'pdf_data_source/court_case_script_1.pdf', 'page': 0}, page_content=\"prosecution's ﬁrst witness. Mr. Brown, call your witness.Mr. Brown: The prosecution calls Ofﬁcer\"),\n",
       " Document(metadata={'source': 'pdf_data_source/court_case_script_1.pdf', 'page': 0}, page_content='calls Ofﬁcer Sarah Tran to the stand.(Ofﬁcer Tran takes the stand and is sworn in by the Clerk.)Mr.'),\n",
       " Document(metadata={'source': 'pdf_data_source/court_case_script_1.pdf', 'page': 0}, page_content='by the Clerk.)Mr. Brown: Ofﬁcer Tran, on the night in question, were you involved in the'),\n",
       " Document(metadata={'source': 'pdf_data_source/court_case_script_1.pdf', 'page': 0}, page_content='you involved in the investigation of the missing painting?Ofﬁcer Tran: Yes, I was. I reviewed the'),\n",
       " Document(metadata={'source': 'pdf_data_source/court_case_script_1.pdf', 'page': 0}, page_content='was. I reviewed the security footage from the gallery and identiﬁed Mr.'),\n",
       " Document(metadata={'source': 'pdf_data_source/court_case_script_1.pdf', 'page': 1}, page_content='Johnson as the last person seen leaving the building with a large, wrapped object.Ms. Lee:'),\n",
       " Document(metadata={'source': 'pdf_data_source/court_case_script_1.pdf', 'page': 1}, page_content='object.Ms. Lee: Objection, Your Honor. The defense will demonstrate that this object was Mr.'),\n",
       " Document(metadata={'source': 'pdf_data_source/court_case_script_1.pdf', 'page': 1}, page_content='this object was Mr. Johnson’s tool kit, used for his work.Judge: Sustained. Mr. Brown, please'),\n",
       " Document(metadata={'source': 'pdf_data_source/court_case_script_1.pdf', 'page': 1}, page_content='Mr. Brown, please proceed with caution.Mr. Brown: Understood, Your Honor. Ofﬁcer Tran, could you'),\n",
       " Document(metadata={'source': 'pdf_data_source/court_case_script_1.pdf', 'page': 1}, page_content='Tran, could you clarify if you found any direct evidence that Mr. Johnson took the painting?Ofﬁcer'),\n",
       " Document(metadata={'source': 'pdf_data_source/court_case_script_1.pdf', 'page': 1}, page_content='the painting?Ofﬁcer Tran: No, there was no direct evidence, only the security footage.Judge: Very'),\n",
       " Document(metadata={'source': 'pdf_data_source/court_case_script_1.pdf', 'page': 1}, page_content='footage.Judge: Very well. You may step down, Ofﬁcer. Ms. Lee, you may call your witness.'),\n",
       " Document(metadata={'source': 'pdf_data_source/court_case_script_2.pdf', 'page': 0}, page_content='Title: People v. JohnsonScene: The courtroom, Day 2 of trial. Defense is presenting its'),\n",
       " Document(metadata={'source': 'pdf_data_source/court_case_script_2.pdf', 'page': 0}, page_content='is presenting its case.Characters:•Judge Patricia Reyes (The Judge)•Mr. Brown (Prosecutor)•Ms. Lee'),\n",
       " Document(metadata={'source': 'pdf_data_source/court_case_script_2.pdf', 'page': 0}, page_content='Lee (Defense Attorney)•Alex Johnson (Defendant)•Jordan Tate (Defense Witness, Gallery'),\n",
       " Document(metadata={'source': 'pdf_data_source/court_case_script_2.pdf', 'page': 0}, page_content='Witness, Gallery Assistant)•Court ClerkCourt Clerk: All rise. Court is now in session, the'),\n",
       " Document(metadata={'source': 'pdf_data_source/court_case_script_2.pdf', 'page': 0}, page_content='now in session, the Honorable Judge Patricia Reyes presiding.Judge: Please be seated. Ms. Lee, you'),\n",
       " Document(metadata={'source': 'pdf_data_source/court_case_script_2.pdf', 'page': 0}, page_content=\"Ms. Lee, you may proceed with the defense's case.Ms. Lee (Defense Attorney): Thank you, Your Honor.\"),\n",
       " Document(metadata={'source': 'pdf_data_source/court_case_script_2.pdf', 'page': 0}, page_content='you, Your Honor. The defense calls Jordan Tate to the stand.(Jordan Tate, a young gallery'),\n",
       " Document(metadata={'source': 'pdf_data_source/court_case_script_2.pdf', 'page': 0}, page_content='a young gallery assistant, takes the stand and is sworn in by the Clerk.)Ms. Lee: Mr. Tate, could'),\n",
       " Document(metadata={'source': 'pdf_data_source/court_case_script_2.pdf', 'page': 0}, page_content='Mr. Tate, could you please state your occupation for the court?Jordan Tate: I’m a gallery assistant'),\n",
       " Document(metadata={'source': 'pdf_data_source/court_case_script_2.pdf', 'page': 0}, page_content='a gallery assistant at the Blue Horizon Gallery. I help with everything from organizing exhibits to'),\n",
       " Document(metadata={'source': 'pdf_data_source/court_case_script_2.pdf', 'page': 0}, page_content='exhibits to monitoring security.Ms. Lee: Thank you. Now, Mr. Tate, could you tell us about the'),\n",
       " Document(metadata={'source': 'pdf_data_source/court_case_script_2.pdf', 'page': 0}, page_content='tell us about the night of April 12, when the painting went missing?Jordan Tate: Sure. That night,'),\n",
       " Document(metadata={'source': 'pdf_data_source/court_case_script_2.pdf', 'page': 0}, page_content='Sure. That night, Alex—uh, Mr. Johnson—was working on an installation at the gallery. I was there'),\n",
       " Document(metadata={'source': 'pdf_data_source/court_case_script_2.pdf', 'page': 0}, page_content='I was there late too, doing some closing duties, and I saw him leave with his toolkit after he'),\n",
       " Document(metadata={'source': 'pdf_data_source/court_case_script_2.pdf', 'page': 0}, page_content='toolkit after he ﬁnished.Ms. Lee: And did you notice anything unusual that evening?Jordan Tate:'),\n",
       " Document(metadata={'source': 'pdf_data_source/court_case_script_2.pdf', 'page': 0}, page_content='Tate: Yes. About an hour after Alex left, I saw someone else moving around near the back storage'),\n",
       " Document(metadata={'source': 'pdf_data_source/court_case_script_2.pdf', 'page': 0}, page_content='the back storage area. It was our previous gallery manager, who’d been let go a week earlier but'),\n",
       " Document(metadata={'source': 'pdf_data_source/court_case_script_2.pdf', 'page': 0}, page_content='a week earlier but still had access to the building.Mr. Brown (Prosecutor): Objection, Your Honor.'),\n",
       " Document(metadata={'source': 'pdf_data_source/court_case_script_2.pdf', 'page': 0}, page_content='Your Honor. Speculation—Mr. Tate’s testimony about this other person’s access is irrelevant.Judge:'),\n",
       " Document(metadata={'source': 'pdf_data_source/court_case_script_2.pdf', 'page': 0}, page_content='irrelevant.Judge: Overruled. I’ll allow it, but proceed carefully, Ms. Lee.Ms. Lee: Of course, Your'),\n",
       " Document(metadata={'source': 'pdf_data_source/court_case_script_2.pdf', 'page': 0}, page_content='Of course, Your Honor. Mr. Tate, did you observe anything else involving this former manager?Jordan'),\n",
       " Document(metadata={'source': 'pdf_data_source/court_case_script_2.pdf', 'page': 0}, page_content='manager?Jordan Tate: Yes. When I came back in the morning, the painting was gone, and I remembered'),\n",
       " Document(metadata={'source': 'pdf_data_source/court_case_script_2.pdf', 'page': 1}, page_content='seeing them in the storage area near the painting the night before. I told the gallery owner, but he'),\n",
       " Document(metadata={'source': 'pdf_data_source/court_case_script_2.pdf', 'page': 1}, page_content='owner, but he didn’t want to report it.Mr. Brown: Objection. Hearsay, Your Honor.Judge: Sustained.'),\n",
       " Document(metadata={'source': 'pdf_data_source/court_case_script_2.pdf', 'page': 1}, page_content='Sustained. The jury will disregard Mr. Tate’s last statement. Ms. Lee, let’s keep it relevant.Ms.'),\n",
       " Document(metadata={'source': 'pdf_data_source/court_case_script_2.pdf', 'page': 1}, page_content='it relevant.Ms. Lee: Understood. Mr. Tate, thank you. No further questions, Your Honor.Judge: Very'),\n",
       " Document(metadata={'source': 'pdf_data_source/court_case_script_2.pdf', 'page': 1}, page_content='Honor.Judge: Very well. Mr. Brown, would you like to cross-examine?Mr. Brown: Yes, Your Honor. Mr.'),\n",
       " Document(metadata={'source': 'pdf_data_source/court_case_script_2.pdf', 'page': 1}, page_content='Your Honor. Mr. Tate, you mentioned seeing this former manager, but you can’t conﬁrm they took'),\n",
       " Document(metadata={'source': 'pdf_data_source/court_case_script_2.pdf', 'page': 1}, page_content='conﬁrm they took anything, correct?Jordan Tate: Correct, but it seemed odd that they were there'),\n",
       " Document(metadata={'source': 'pdf_data_source/court_case_script_2.pdf', 'page': 1}, page_content='they were there after hours, without any legitimate reason.Mr. Brown: Thank you. That will be'),\n",
       " Document(metadata={'source': 'pdf_data_source/court_case_script_2.pdf', 'page': 1}, page_content='you. That will be all.Judge: The witness may step down. Ms. Lee, do you have any other'),\n",
       " Document(metadata={'source': 'pdf_data_source/court_case_script_2.pdf', 'page': 1}, page_content='you have any other witnesses?Ms. Lee: No, Your Honor. The defense rests.Judge: Very well. Court'),\n",
       " Document(metadata={'source': 'pdf_data_source/court_case_script_2.pdf', 'page': 1}, page_content='Very well. Court will adjourn for the day. We will resume tomorrow at 9 a.m. to hear closing'),\n",
       " Document(metadata={'source': 'pdf_data_source/court_case_script_2.pdf', 'page': 1}, page_content='to hear closing arguments.Court Clerk: All rise.(Everyone rises as Judge Reyes exits the'),\n",
       " Document(metadata={'source': 'pdf_data_source/court_case_script_2.pdf', 'page': 1}, page_content='Reyes exits the courtroom.)'),\n",
       " Document(metadata={'source': 'pdf_data_source/court_case_script_3.pdf', 'page': 0}, page_content='Title: People v. JohnsonScene: The courtroom, Day 3 of trial. Both sides present their closing'),\n",
       " Document(metadata={'source': 'pdf_data_source/court_case_script_3.pdf', 'page': 0}, page_content='their closing arguments.Characters:•Judge Patricia Reyes (The Judge)•Mr. Brown (Prosecutor)•Ms. Lee'),\n",
       " Document(metadata={'source': 'pdf_data_source/court_case_script_3.pdf', 'page': 0}, page_content='Lee (Defense Attorney)•Alex Johnson (Defendant)•Court Clerk•JuryCourt Clerk: All rise. Court is now'),\n",
       " Document(metadata={'source': 'pdf_data_source/court_case_script_3.pdf', 'page': 0}, page_content='rise. Court is now in session, the Honorable Judge Patricia Reyes presiding.Judge: Please be'),\n",
       " Document(metadata={'source': 'pdf_data_source/court_case_script_3.pdf', 'page': 0}, page_content='Please be seated. Today, we will hear closing arguments in People v. Johnson. Mr. Brown, you may'),\n",
       " Document(metadata={'source': 'pdf_data_source/court_case_script_3.pdf', 'page': 0}, page_content='Mr. Brown, you may proceed.Mr. Brown (Prosecutor): Thank you, Your Honor. Ladies and gentlemen of'),\n",
       " Document(metadata={'source': 'pdf_data_source/court_case_script_3.pdf', 'page': 0}, page_content='and gentlemen of the jury, over the past few days, you’ve seen clear evidence that Alex Johnson was'),\n",
       " Document(metadata={'source': 'pdf_data_source/court_case_script_3.pdf', 'page': 0}, page_content='Alex Johnson was the last person in the gallery on the night the painting disappeared. Security'),\n",
       " Document(metadata={'source': 'pdf_data_source/court_case_script_3.pdf', 'page': 0}, page_content='Security footage shows him carrying a large item out of the building, and no one else has been'),\n",
       " Document(metadata={'source': 'pdf_data_source/court_case_script_3.pdf', 'page': 0}, page_content='one else has been conﬁrmed to have accessed that area until the theft was discovered.Mr. Johnson'),\n",
       " Document(metadata={'source': 'pdf_data_source/court_case_script_3.pdf', 'page': 0}, page_content='Johnson claims he only took his toolkit. Yet, he had every opportunity and the means to steal the'),\n",
       " Document(metadata={'source': 'pdf_data_source/court_case_script_3.pdf', 'page': 0}, page_content='means to steal the painting. The defense has tried to distract you with irrelevant details and'),\n",
       " Document(metadata={'source': 'pdf_data_source/court_case_script_3.pdf', 'page': 0}, page_content='details and speculative theories about others who might have been involved, but they have provided'),\n",
       " Document(metadata={'source': 'pdf_data_source/court_case_script_3.pdf', 'page': 0}, page_content='they have provided no evidence, no proof. This case is about what happened, not about what might'),\n",
       " Document(metadata={'source': 'pdf_data_source/court_case_script_3.pdf', 'page': 0}, page_content='about what might have happened. Based on the facts presented, I ask you to return a verdict of'),\n",
       " Document(metadata={'source': 'pdf_data_source/court_case_script_3.pdf', 'page': 0}, page_content='return a verdict of guilty. Thank you.Judge: Thank you, Mr. Brown. Ms. Lee, your closing'),\n",
       " Document(metadata={'source': 'pdf_data_source/court_case_script_3.pdf', 'page': 0}, page_content='Lee, your closing statement?Ms. Lee (Defense Attorney): Thank you, Your Honor. Ladies and gentlemen'),\n",
       " Document(metadata={'source': 'pdf_data_source/court_case_script_3.pdf', 'page': 0}, page_content='and gentlemen of the jury, the prosecution’s case rests entirely on assumptions. The only'),\n",
       " Document(metadata={'source': 'pdf_data_source/court_case_script_3.pdf', 'page': 0}, page_content='The only “evidence” they have is a security video showing my client carrying a toolkit—an item'),\n",
       " Document(metadata={'source': 'pdf_data_source/court_case_script_3.pdf', 'page': 0}, page_content='a toolkit—an item consistent with his work as an art installer. There is no direct evidence that he'),\n",
       " Document(metadata={'source': 'pdf_data_source/court_case_script_3.pdf', 'page': 0}, page_content='evidence that he took the painting.In fact, you heard from Mr. Tate, a reliable witness, who saw'),\n",
       " Document(metadata={'source': 'pdf_data_source/court_case_script_3.pdf', 'page': 0}, page_content='witness, who saw another individual, the former gallery manager, on the premises that night—a'),\n",
       " Document(metadata={'source': 'pdf_data_source/court_case_script_3.pdf', 'page': 0}, page_content='that night—a person with both access and, we believe, motive to take that painting. The gallery'),\n",
       " Document(metadata={'source': 'pdf_data_source/court_case_script_3.pdf', 'page': 0}, page_content='The gallery owner chose not to pursue this lead, but that doesn’t mean it isn’t real.My client is'),\n",
       " Document(metadata={'source': 'pdf_data_source/court_case_script_3.pdf', 'page': 0}, page_content='real.My client is innocent, and he deserves the beneﬁt of the doubt. I urge you to weigh the facts'),\n",
       " Document(metadata={'source': 'pdf_data_source/court_case_script_3.pdf', 'page': 0}, page_content='to weigh the facts carefully. Thank you.Judge: Thank you, Ms. Lee. Ladies and gentlemen of the'),\n",
       " Document(metadata={'source': 'pdf_data_source/court_case_script_3.pdf', 'page': 0}, page_content='gentlemen of the jury, you have heard the evidence and the arguments from both sides. It is now'),\n",
       " Document(metadata={'source': 'pdf_data_source/court_case_script_3.pdf', 'page': 0}, page_content='sides. It is now your duty to deliberate and come to a verdict based on'),\n",
       " Document(metadata={'source': 'pdf_data_source/court_case_script_3.pdf', 'page': 1}, page_content='what has been presented. Court is adjourned until the jury reaches a decision.Court Clerk: All'),\n",
       " Document(metadata={'source': 'pdf_data_source/court_case_script_3.pdf', 'page': 1}, page_content='Clerk: All rise.(The judge exits, and the jury prepares to begin deliberations.)')]"
      ]
     },
     "execution_count": 56,
     "metadata": {},
     "output_type": "execute_result"
    }
   ],
   "source": [
    "split_docs = text_splitter.split_documents(docs)\n",
    "split_docs"
   ]
  },
  {
   "cell_type": "code",
   "execution_count": 57,
   "metadata": {},
   "outputs": [
    {
     "data": {
      "text/plain": [
       "<langchain_community.vectorstores.faiss.FAISS at 0x1377b4050>"
      ]
     },
     "execution_count": 57,
     "metadata": {},
     "output_type": "execute_result"
    }
   ],
   "source": [
    "# Initiate Vector Database\n",
    "db = FAISS.from_documents(split_docs, embedding=OllamaEmbeddings())\n",
    "db"
   ]
  },
  {
   "cell_type": "code",
   "execution_count": 58,
   "metadata": {},
   "outputs": [
    {
     "data": {
      "text/plain": [
       "Ollama()"
      ]
     },
     "execution_count": 58,
     "metadata": {},
     "output_type": "execute_result"
    }
   ],
   "source": [
    "# Initiate LLM\n",
    "llm = Ollama()\n",
    "llm"
   ]
  },
  {
   "cell_type": "code",
   "execution_count": 80,
   "metadata": {},
   "outputs": [
    {
     "data": {
      "text/plain": [
       "PromptTemplate(input_variables=['context', 'input'], input_types={}, partial_variables={}, template=\"\\n        \\n        Based on the script content provided, answer the question below in a short, list format. Each answer should be a single, brief point with only the essential details. Avoid unnecessary context or extra description.\\n\\n        <context>:\\n        {context}\\n        </context>\\n\\n        Question:\\n        {input}\\n\\n        Response Format:\\n        - (e.g., Name or role)\\n        - (e.g., Specific action or location)\\n        - (e.g., Short description)\\n\\n        Example Usage:\\n        Question:\\n        “Where was the painting taken from?”\\n\\n        Response:\\n        - The painting was stolen from an art gallery.\\n        - The thief, Ms. Lee, took the painting for personal profit. \\n        - Judge Patricia Reyes sustained a motion to suppress Mr. Tate's last statement regarding the painting's origins.        \\n        \")"
      ]
     },
     "execution_count": 80,
     "metadata": {},
     "output_type": "execute_result"
    }
   ],
   "source": [
    "# Initiate Prompt\n",
    "\n",
    "# prompt = PromptTemplate.from_template(\n",
    "#                         \"\"\"\n",
    "#                         Goal: Give a clear and simple answer and explanation.\n",
    "#                         Each response should answer the question intially along with bullet points that list out the reasonings.\n",
    "#                         Each output response should be 20 words or less.\n",
    "#                         <context>{context}</context>\n",
    "#                         User type: Commentators, government officials\n",
    "#                         Example:\n",
    "#                             Input: {input}\n",
    "#                             Output: Answers any question regarding the current case.            - \n",
    "#                         \"\"\")\n",
    "\n",
    "\n",
    "\n",
    "\n",
    "\n",
    "# prompt = PromptTemplate.from_template(\n",
    "#     \"\"\"Given the following script content, please answer the question in a concise, list format. Each point in the list should contain a short, clear response to help make the answer easy to read. Focus on specific details from the script content to directly address the question.\n",
    "\n",
    "#         <context>:\n",
    "#         {context}\n",
    "#         </context>\n",
    "\n",
    "#         Question:\n",
    "#         {input}\n",
    "\n",
    "#         Example Format for Responses:\n",
    "\n",
    "#         - [First key point]\n",
    "#         - [Second key point]\n",
    "#         - [Third key point]\n",
    "#         - [Additional points, as needed]\n",
    "#         Make sure each list item is brief but captures essential details to answer the question accurately. Separate distinct ideas into individual list items to improve readability.\n",
    "#      \"\"\")   \n",
    "\n",
    "\n",
    "\n",
    "\n",
    "        \n",
    "prompt = PromptTemplate.from_template(  \n",
    "        \"\"\"\n",
    "        \n",
    "        Based on the script content provided, answer the question below in a short, list format. Each answer should be a single, brief point with only the essential details. Avoid unnecessary context or extra description.\n",
    "\n",
    "        <context>:\n",
    "        {context}\n",
    "        </context>\n",
    "\n",
    "        Question:\n",
    "        {input}\n",
    "\n",
    "        Response Format:\n",
    "        - (e.g., Name or role)\n",
    "        - (e.g., Specific action or location)\n",
    "        - (e.g., Short description)\n",
    "\n",
    "        Example Usage:\n",
    "        Question:\n",
    "        “Where was the painting taken from?”\n",
    "\n",
    "        Response:\n",
    "        - The painting was stolen from an art gallery.\n",
    "        - The thief, Ms. Lee, took the painting for personal profit. \n",
    "        - Judge Patricia Reyes sustained a motion to suppress Mr. Tate's last statement regarding the painting's origins.        \n",
    "        \"\"\")\n",
    "\n",
    "prompt"
   ]
  },
  {
   "cell_type": "code",
   "execution_count": 81,
   "metadata": {},
   "outputs": [
    {
     "data": {
      "text/plain": [
       "RunnableBinding(bound=RunnableBinding(bound=RunnableAssign(mapper={\n",
       "  context: RunnableLambda(format_docs)\n",
       "}), kwargs={}, config={'run_name': 'format_inputs'}, config_factories=[])\n",
       "| PromptTemplate(input_variables=['context', 'input'], input_types={}, partial_variables={}, template=\"\\n        \\n        Based on the script content provided, answer the question below in a short, list format. Each answer should be a single, brief point with only the essential details. Avoid unnecessary context or extra description.\\n\\n        <context>:\\n        {context}\\n        </context>\\n\\n        Question:\\n        {input}\\n\\n        Response Format:\\n        - (e.g., Name or role)\\n        - (e.g., Specific action or location)\\n        - (e.g., Short description)\\n\\n        Example Usage:\\n        Question:\\n        “Where was the painting taken from?”\\n\\n        Response:\\n        - The painting was stolen from an art gallery.\\n        - The thief, Ms. Lee, took the painting for personal profit. \\n        - Judge Patricia Reyes sustained a motion to suppress Mr. Tate's last statement regarding the painting's origins.        \\n        \")\n",
       "| Ollama()\n",
       "| StrOutputParser(), kwargs={}, config={'run_name': 'stuff_documents_chain'}, config_factories=[])"
      ]
     },
     "execution_count": 81,
     "metadata": {},
     "output_type": "execute_result"
    }
   ],
   "source": [
    "# Establish docs chain to include split documents and embedding model\n",
    "docs_chain = create_stuff_documents_chain(llm, prompt)\n",
    "docs_chain"
   ]
  },
  {
   "cell_type": "code",
   "execution_count": 82,
   "metadata": {},
   "outputs": [
    {
     "data": {
      "text/plain": [
       "VectorStoreRetriever(tags=['FAISS', 'OllamaEmbeddings'], vectorstore=<langchain_community.vectorstores.faiss.FAISS object at 0x1377b4050>, search_kwargs={})"
      ]
     },
     "execution_count": 82,
     "metadata": {},
     "output_type": "execute_result"
    }
   ],
   "source": [
    "# Create a retreiver\n",
    "\n",
    "retriever = db.as_retriever()\n",
    "retriever"
   ]
  },
  {
   "cell_type": "code",
   "execution_count": 83,
   "metadata": {},
   "outputs": [
    {
     "data": {
      "text/plain": [
       "RunnableBinding(bound=RunnableAssign(mapper={\n",
       "  context: RunnableBinding(bound=RunnableLambda(lambda x: x['input'])\n",
       "           | VectorStoreRetriever(tags=['FAISS', 'OllamaEmbeddings'], vectorstore=<langchain_community.vectorstores.faiss.FAISS object at 0x1377b4050>, search_kwargs={}), kwargs={}, config={'run_name': 'retrieve_documents'}, config_factories=[])\n",
       "})\n",
       "| RunnableAssign(mapper={\n",
       "    answer: RunnableBinding(bound=RunnableBinding(bound=RunnableAssign(mapper={\n",
       "              context: RunnableLambda(format_docs)\n",
       "            }), kwargs={}, config={'run_name': 'format_inputs'}, config_factories=[])\n",
       "            | PromptTemplate(input_variables=['context', 'input'], input_types={}, partial_variables={}, template=\"\\n        \\n        Based on the script content provided, answer the question below in a short, list format. Each answer should be a single, brief point with only the essential details. Avoid unnecessary context or extra description.\\n\\n        <context>:\\n        {context}\\n        </context>\\n\\n        Question:\\n        {input}\\n\\n        Response Format:\\n        - (e.g., Name or role)\\n        - (e.g., Specific action or location)\\n        - (e.g., Short description)\\n\\n        Example Usage:\\n        Question:\\n        “Where was the painting taken from?”\\n\\n        Response:\\n        - The painting was stolen from an art gallery.\\n        - The thief, Ms. Lee, took the painting for personal profit. \\n        - Judge Patricia Reyes sustained a motion to suppress Mr. Tate's last statement regarding the painting's origins.        \\n        \")\n",
       "            | Ollama()\n",
       "            | StrOutputParser(), kwargs={}, config={'run_name': 'stuff_documents_chain'}, config_factories=[])\n",
       "  }), kwargs={}, config={'run_name': 'retrieval_chain'}, config_factories=[])"
      ]
     },
     "execution_count": 83,
     "metadata": {},
     "output_type": "execute_result"
    }
   ],
   "source": [
    "# Create retrieval chain \n",
    "retrieval_chain = create_retrieval_chain(retriever, docs_chain)\n",
    "retrieval_chain"
   ]
  },
  {
   "cell_type": "code",
   "execution_count": 91,
   "metadata": {},
   "outputs": [
    {
     "data": {
      "text/plain": [
       "{'input': 'Who was all involved in the incident?',\n",
       " 'context': [Document(metadata={'source': 'pdf_data_source/court_case_script_2.pdf', 'page': 1}, page_content='Reyes exits the courtroom.)'),\n",
       "  Document(metadata={'source': 'pdf_data_source/court_case_script_2.pdf', 'page': 0}, page_content='toolkit after he ﬁnished.Ms. Lee: And did you notice anything unusual that evening?Jordan Tate:'),\n",
       "  Document(metadata={'source': 'pdf_data_source/court_case_script_2.pdf', 'page': 1}, page_content='Sustained. The jury will disregard Mr. Tate’s last statement. Ms. Lee, let’s keep it relevant.Ms.'),\n",
       "  Document(metadata={'source': 'pdf_data_source/court_case_script_1.pdf', 'page': 1}, page_content='Johnson as the last person seen leaving the building with a large, wrapped object.Ms. Lee:')],\n",
       " 'answer': '\\n• Jordan Tate\\n• Ms. Johnson\\n• Judge Patricia Reyes'}"
      ]
     },
     "execution_count": 91,
     "metadata": {},
     "output_type": "execute_result"
    }
   ],
   "source": [
    "# Invoke the regtrieval chain to output a response\n",
    "response = retrieval_chain.invoke({\"input\": \"Who was all involved in the incident?\"})\n",
    "response"
   ]
  },
  {
   "cell_type": "code",
   "execution_count": 92,
   "metadata": {},
   "outputs": [
    {
     "data": {
      "text/plain": [
       "'\\n• Jordan Tate\\n• Ms. Johnson\\n• Judge Patricia Reyes'"
      ]
     },
     "execution_count": 92,
     "metadata": {},
     "output_type": "execute_result"
    }
   ],
   "source": [
    "response[\"answer\"]"
   ]
  },
  {
   "cell_type": "code",
   "execution_count": 94,
   "metadata": {},
   "outputs": [
    {
     "data": {
      "text/plain": [
       "['', '• Jordan Tate', '• Ms. Johnson', '• Judge Patricia Reyes']"
      ]
     },
     "execution_count": 94,
     "metadata": {},
     "output_type": "execute_result"
    }
   ],
   "source": [
    "response[\"answer\"].split(\"\\n\")"
   ]
  },
  {
   "cell_type": "code",
   "execution_count": 95,
   "metadata": {},
   "outputs": [
    {
     "data": {
      "text/plain": [
       "{'input': 'What was the date, time, and location of the crime?',\n",
       " 'context': [Document(metadata={'source': 'pdf_data_source/court_case_script_2.pdf', 'page': 1}, page_content='Reyes exits the courtroom.)'),\n",
       "  Document(metadata={'source': 'pdf_data_source/court_case_script_1.pdf', 'page': 1}, page_content='Johnson as the last person seen leaving the building with a large, wrapped object.Ms. Lee:'),\n",
       "  Document(metadata={'source': 'pdf_data_source/court_case_script_1.pdf', 'page': 1}, page_content='footage.Judge: Very well. You may step down, Ofﬁcer. Ms. Lee, you may call your witness.'),\n",
       "  Document(metadata={'source': 'pdf_data_source/court_case_script_2.pdf', 'page': 0}, page_content='toolkit after he ﬁnished.Ms. Lee: And did you notice anything unusual that evening?Jordan Tate:')],\n",
       " 'answer': '\\nQuestion: What was the date, time, and location of the crime?\\n\\nResponse:\\n\\n* Date: Not specified in the provided script content.\\n* Time: Not specified in the provided script content.\\n* Location: The crime occurred inside the courtroom where the trial was being held.'}"
      ]
     },
     "execution_count": 95,
     "metadata": {},
     "output_type": "execute_result"
    }
   ],
   "source": [
    "response = retrieval_chain.invoke({\"input\": \"What was the date, time, and location of the crime?\"})\n",
    "response"
   ]
  },
  {
   "cell_type": "code",
   "execution_count": 96,
   "metadata": {},
   "outputs": [
    {
     "data": {
      "text/plain": [
       "['',\n",
       " 'Question: What was the date, time, and location of the crime?',\n",
       " '',\n",
       " 'Response:',\n",
       " '',\n",
       " '* Date: Not specified in the provided script content.',\n",
       " '* Time: Not specified in the provided script content.',\n",
       " '* Location: The crime occurred inside the courtroom where the trial was being held.']"
      ]
     },
     "execution_count": 96,
     "metadata": {},
     "output_type": "execute_result"
    }
   ],
   "source": [
    "response[\"answer\"].split(\"\\n\")"
   ]
  },
  {
   "cell_type": "code",
   "execution_count": 97,
   "metadata": {},
   "outputs": [
    {
     "data": {
      "text/plain": [
       "{'input': 'Where was the painting stolen?',\n",
       " 'context': [Document(metadata={'source': 'pdf_data_source/court_case_script_2.pdf', 'page': 1}, page_content='Reyes exits the courtroom.)'),\n",
       "  Document(metadata={'source': 'pdf_data_source/court_case_script_2.pdf', 'page': 1}, page_content='Sustained. The jury will disregard Mr. Tate’s last statement. Ms. Lee, let’s keep it relevant.Ms.'),\n",
       "  Document(metadata={'source': 'pdf_data_source/court_case_script_1.pdf', 'page': 0}, page_content='this painting for personal proﬁt.Judge: Thank you, Mr. Brown. Ms. Lee, your opening statement?Ms.'),\n",
       "  Document(metadata={'source': 'pdf_data_source/court_case_script_1.pdf', 'page': 0}, page_content='from an art gallery.Characters:•Judge Patricia Reyes (The Judge)•Mr. Brown (Prosecutor)•Ms. Lee')],\n",
       " 'answer': \"\\nAnswer:\\n\\n* Where was the painting stolen from? - Art gallery.\\n* What action did Ms. Lee take with the painting? - Took it for personal profit.\\n* Who sustained a motion to suppress a statement regarding the painting's origins? - Judge Patricia Reyes.\"}"
      ]
     },
     "execution_count": 97,
     "metadata": {},
     "output_type": "execute_result"
    }
   ],
   "source": [
    "response = retrieval_chain.invoke({\"input\": \"Where was the painting stolen?\"})\n",
    "response"
   ]
  },
  {
   "cell_type": "code",
   "execution_count": 98,
   "metadata": {},
   "outputs": [
    {
     "data": {
      "text/plain": [
       "['',\n",
       " 'Answer:',\n",
       " '',\n",
       " '* Where was the painting stolen from? - Art gallery.',\n",
       " '* What action did Ms. Lee take with the painting? - Took it for personal profit.',\n",
       " \"* Who sustained a motion to suppress a statement regarding the painting's origins? - Judge Patricia Reyes.\"]"
      ]
     },
     "execution_count": 98,
     "metadata": {},
     "output_type": "execute_result"
    }
   ],
   "source": [
    "response[\"answer\"].split(\"\\n\")"
   ]
  },
  {
   "cell_type": "code",
   "execution_count": 101,
   "metadata": {},
   "outputs": [
    {
     "data": {
      "text/plain": [
       "['',\n",
       " 'Answer:',\n",
       " '',\n",
       " '* Name or role: Jordan Tate',\n",
       " '* Specific action or location: exited the courtroom',\n",
       " \"* Short description: Reyes sustained a motion to suppress Mr. Tate's last statement regarding the stolen art piece.\"]"
      ]
     },
     "execution_count": 101,
     "metadata": {},
     "output_type": "execute_result"
    }
   ],
   "source": [
    "response = retrieval_chain.invoke({\"input\": \"Where there any witnesses involved in the crime of the stolen art piece?\"})\n",
    "response[\"answer\"].split(\"\\n\")"
   ]
  },
  {
   "cell_type": "code",
   "execution_count": null,
   "metadata": {},
   "outputs": [],
   "source": []
  }
 ],
 "metadata": {
  "kernelspec": {
   "display_name": "langchain_tutorial_8",
   "language": "python",
   "name": "python3"
  },
  "language_info": {
   "codemirror_mode": {
    "name": "ipython",
    "version": 3
   },
   "file_extension": ".py",
   "mimetype": "text/x-python",
   "name": "python",
   "nbconvert_exporter": "python",
   "pygments_lexer": "ipython3",
   "version": "3.11.9"
  },
  "orig_nbformat": 4
 },
 "nbformat": 4,
 "nbformat_minor": 2
}
